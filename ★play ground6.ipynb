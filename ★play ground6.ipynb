{
 "cells": [
  {
   "cell_type": "code",
   "execution_count": 25,
   "id": "ce94fcce-0f6e-48cb-bdc9-35dae01110ec",
   "metadata": {
    "tags": []
   },
   "outputs": [
    {
     "name": "stdout",
     "output_type": "stream",
     "text": [
      "0.5274571698\n",
      "0.5294760548\n",
      "0.5314205815\n",
      "0.5296048521\n",
      "0.5276220512\n",
      "0.5252895683\n",
      "0.5232542056\n",
      "0.5251845489\n",
      "0.5274571698\n",
      "0.5274571698\n",
      "0.4707273772\n",
      "0.4139232263\n",
      "0.3533588193\n",
      "0.2926273409\n",
      "0.2315461803\n",
      "0.1707621401\n",
      "0.1139438058\n",
      "0.0574677491\n",
      "-0.0012767047\n",
      "-0.0580064974\n",
      "-0.1148106483\n",
      "-0.1753750552\n",
      "-0.2361065337\n",
      "-0.2971876942\n",
      "-0.3579717345\n",
      "-0.4147900688\n",
      "-0.4712661254\n",
      "-0.5300105793\n",
      "-0.5867403719\n",
      "-0.6435445228\n",
      "-0.7041089298\n",
      "-0.7648404082\n",
      "-0.8259215688\n",
      "-0.8867056091\n",
      "-0.9435239433\n",
      "-1.0\n",
      "1.0\n",
      "0.9404630515\n",
      "0.8882594158\n",
      "0.8271780466\n",
      "0.7594292521\n",
      "0.7073256298\n",
      "0.6376163002\n",
      "0.5855738958\n",
      "0.5274571594\n"
     ]
    }
   ],
   "source": [
    "import pandas as pd\n",
    "\n",
    "mean_path = 'C:/Users/wadat/Data/2021_11_16/pico1_log/10.csv'\n",
    "df = pd.read_csv(mean_path,header=None)\n",
    "rows = df[0]\n",
    "max = rows.max()\n",
    "min = rows.min()\n",
    "mean = round((max + min)/2,10)\n",
    "csvfile = open(mean_path)\n",
    "data = csvfile.readlines()\n",
    "for i in range(0,sum([1 for _ in open(mean_path)])):\n",
    "    x = (float(data[i]) - float(mean))/(float(max) - float(mean))\n",
    "    print(round(x,10))"
   ]
  },
  {
   "cell_type": "code",
   "execution_count": 24,
   "id": "e9f1179a-9fee-40c8-9700-82c7253194a4",
   "metadata": {},
   "outputs": [
    {
     "name": "stdout",
     "output_type": "stream",
     "text": [
      "1.9780931\n",
      "\n"
     ]
    }
   ],
   "source": [
    "csvfile = open(\"C:/Users/wadat/Data/2021_11_16/mean/10.csv\")\n",
    "data = csvfile.readlines()\n",
    "last_low = data[sum([1 for _ in open(\"C:/Users/wadat/Data/2021_11_16/mean/10.csv\")])-1]\n",
    "print(last_low)"
   ]
  },
  {
   "cell_type": "code",
   "execution_count": 20,
   "id": "d3998873-9ace-4dd1-897c-ea3e3ec9eed5",
   "metadata": {},
   "outputs": [
    {
     "name": "stdout",
     "output_type": "stream",
     "text": [
      "0.006475\n",
      "\n",
      "1.9780931\n",
      "\n"
     ]
    }
   ],
   "source": [
    "csvfile = open(\"C:/Users/wadat/Data/2021_11_16/mean/10.csv\")\n",
    "data = csvfile.readlines()\n",
    "first_low = data[0]\n",
    "last_low = data[sum([1 for _ in open(\"C:/Users/wadat/Data/2021_11_16/mean/10.csv\")])-1]\n",
    "print(first_low)\n",
    "print(last_low)"
   ]
  },
  {
   "cell_type": "code",
   "execution_count": 7,
   "id": "5f907eb0-f409-458b-b036-d269a93c67c5",
   "metadata": {},
   "outputs": [
    {
     "name": "stdout",
     "output_type": "stream",
     "text": [
      "0.5\n"
     ]
    }
   ],
   "source": [
    "import math\n",
    "sin = math.sin(math.radians(30))\n",
    "print(round(sin,5))"
   ]
  },
  {
   "cell_type": "code",
   "execution_count": 6,
   "id": "e02ca5c3-1e6a-49af-a92a-23cfbbb24296",
   "metadata": {},
   "outputs": [
    {
     "name": "stdout",
     "output_type": "stream",
     "text": [
      "30.0\n"
     ]
    }
   ],
   "source": [
    "asin05 = math.degrees(math.asin(0.5))\n",
    "print(round(asin05,5))"
   ]
  },
  {
   "cell_type": "code",
   "execution_count": 11,
   "id": "34d56c3c-437f-4921-b6e9-1bf87bad1c15",
   "metadata": {},
   "outputs": [
    {
     "name": "stdout",
     "output_type": "stream",
     "text": [
      "b'H:1\\r\\n'\n"
     ]
    }
   ],
   "source": [
    "import serial\n",
    " \n",
    "ser = serial.Serial(\"COM4\", 9600)\n",
    "code = b'H:1\\r\\n'\n",
    "ser.write(code)\n",
    "print(code)\n",
    "ser.close()"
   ]
  },
  {
   "cell_type": "code",
   "execution_count": 4,
   "id": "c3733d68-876a-4b09-8af0-182fd5c96c0d",
   "metadata": {},
   "outputs": [
    {
     "name": "stdout",
     "output_type": "stream",
     "text": [
      "Serial<id=0x1774d15c0d0, open=True>(port='COM4', baudrate=115200, bytesize=8, parity='N', stopbits=1, timeout=0.1, xonxoff=False, rtscts=False, dsrdtr=False)\n"
     ]
    }
   ],
   "source": [
    "import serial\n",
    "\n",
    "ser = serial.Serial(\"COM4\", 115200, timeout = 0.1)\n",
    "print(ser)\n",
    "ser.close()"
   ]
  },
  {
   "cell_type": "code",
   "execution_count": 29,
   "id": "7fe04f4c-9676-4a3c-93e4-0f6b70952b29",
   "metadata": {},
   "outputs": [],
   "source": [
    "ser.close()"
   ]
  },
  {
   "cell_type": "code",
   "execution_count": 21,
   "id": "8600dbde-f21f-48af-8f38-f530affb0308",
   "metadata": {},
   "outputs": [
    {
     "name": "stdout",
     "output_type": "stream",
     "text": [
      "b'M:1+P1000\\r\\n'\n"
     ]
    }
   ],
   "source": [
    "import serial\n",
    " \n",
    "ser = serial.Serial(\"COM4\", 9600)\n",
    "code1 = b'M:1+P1000\\r\\n'\n",
    "ser.write(code1)\n",
    "print(code1)\n",
    "ser.close()"
   ]
  },
  {
   "cell_type": "code",
   "execution_count": 22,
   "id": "b0f6618b-d3e0-4a6c-8c69-dbfa93e4edd5",
   "metadata": {},
   "outputs": [
    {
     "name": "stdout",
     "output_type": "stream",
     "text": [
      "b'G:\\r\\n'\n"
     ]
    }
   ],
   "source": [
    "import serial\n",
    " \n",
    "ser = serial.Serial(\"COM4\", 9600)\n",
    "code2 = b'G:\\r\\n'\n",
    "ser.write(code2)\n",
    "print(code2)\n",
    "ser.close()"
   ]
  },
  {
   "cell_type": "code",
   "execution_count": 7,
   "id": "c591f4f0-0dde-4b87-8d04-05e851d803dd",
   "metadata": {},
   "outputs": [
    {
     "name": "stdout",
     "output_type": "stream",
     "text": [
      "0.5\n"
     ]
    }
   ],
   "source": [
    "import math\n",
    "a=math.cos(math.radians(60))\n",
    "print(round(a,5))"
   ]
  },
  {
   "cell_type": "code",
   "execution_count": 1,
   "id": "a27f172d-1885-4b3b-843c-71c5afbff89b",
   "metadata": {},
   "outputs": [],
   "source": [
    "import linecache\n",
    "path1 = \"C:/Users/wadat/Data/2021_11_29/pico1_log/6.txt\"\n",
    "path3 = \"C:/Users/wadat/Data/2021_11_29/pico1_log/66.txt\"\n",
    "i = 1\n",
    "while i < 1 + sum([1 for _ in open(path1)]):\n",
    "    data1 = linecache.getline(path1, i).strip()\n",
    "    data11 = data1[:-1]\n",
    "    data111 = data11.replace(\"'\",\"\")\n",
    "    data1111 = data111.replace(\"\\\\\",\"\")\n",
    "    with open(path3, 'a') as f:\n",
    "            print(data1111, file=f)\n",
    "    i+=1\n",
    "    \n",
    "path11 = \"C:/Users/wadat/Data/2021_11_29/pico2_log/6.txt\"\n",
    "path33 = \"C:/Users/wadat/Data/2021_11_29/pico2_log/66.txt\"\n",
    "i = 1\n",
    "while i < 1 + sum([1 for _ in open(path11)]):\n",
    "    data12 = linecache.getline(path11, i).strip()\n",
    "    data112 = data12[:-1]\n",
    "    data1112 = data112.replace(\"'\",\"\")\n",
    "    data11112 = data1112.replace(\"\\\\\",\"\")\n",
    "    with open(path33, 'a') as f:\n",
    "            print(data11112, file=f)\n",
    "    i+=1"
   ]
  },
  {
   "cell_type": "code",
   "execution_count": 2,
   "id": "94b34ae8-49db-4ccf-ac43-9d822647ae1b",
   "metadata": {},
   "outputs": [],
   "source": [
    "import room138.module138.calc\n",
    "room138.module138.calc.toCSV(\"C:/Users/wadat/Data/2021_11_29/pico1_log/66.txt\",\"C:/Users/wadat/Data/2021_11_29/pico1_log/66.csv\")\n",
    "room138.module138.calc.mean(20,\"C:/Users/wadat/Data/2021_11_29/pico1_log/66.csv\",\"C:/Users/wadat/Data/2021_11_29/pico1_log/66.txt\",\"C:/Users/wadat/Data/2021_11_29/pico1_log/666.csv\")\n",
    "room138.module138.calc.toCSV(\"C:/Users/wadat/Data/2021_11_29/pico2_log/66.txt\",\"C:/Users/wadat/Data/2021_11_29/pico2_log/66.csv\")\n",
    "room138.module138.calc.mean(20,\"C:/Users/wadat/Data/2021_11_29/pico2_log/66.csv\",\"C:/Users/wadat/Data/2021_11_29/pico2_log/66.txt\",\"C:/Users/wadat/Data/2021_11_29/pico2_log/666.csv\")\n"
   ]
  },
  {
   "cell_type": "code",
   "execution_count": 7,
   "id": "42d09666-1e3d-412a-9c9b-b0f763c1cda8",
   "metadata": {},
   "outputs": [],
   "source": [
    "import math\n",
    "csvfile1 = open(\"C:/Users/wadat/Data/2021_11_29/pico1_log/666.csv\")\n",
    "csvfile2 = open(\"C:/Users/wadat/Data/2021_11_29/pico2_log/666.csv\")\n",
    "data1 = csvfile1.readlines()\n",
    "data2 = csvfile2.readlines()\n",
    "for i in range(0,sum([1 for _ in open(\"C:/Users/wadat/Data/2021_11_29/pico1_log/666.csv\")])):\n",
    "    atan05 = math.degrees(math.atan(float(data1[i])/float(data2[i])))\n",
    "    with open(\"C:/Users/wadat/Data/2021_11_29/pico1_log/6666.csv\", 'a') as f:\n",
    "            print(atan05, file=f)"
   ]
  },
  {
   "cell_type": "code",
   "execution_count": 10,
   "id": "f290de79-8db4-4bb8-8770-59db3c121c00",
   "metadata": {},
   "outputs": [],
   "source": [
    "import pandas as pd\n",
    "csvfile = open(\"C:/Users/wadat/Data/2021_11_29/pico1_log/6666.csv\")\n",
    "data = csvfile.readlines()\n",
    "first_low = data[0]\n",
    "last_low = data[sum([1 for _ in open(\"C:/Users/wadat/Data/2021_11_29/pico1_log/6666.csv\")])-1]\n",
    "diff_gosa = (float(first_low) - float(last_low))/(sum([1 for _ in open(\"C:/Users/wadat/Data/2021_11_29/pico1_log/6666.csv\")])-1)\n",
    "diff = round(diff_gosa,9)\n",
    "df2 = pd.read_csv(\"C:/Users/wadat/Data/2021_11_29/pico1_log/6666.csv\", header=None)\n",
    "for i in range(0,sum([1 for _ in open(\"C:/Users/wadat/Data/2021_11_29/pico1_log/6666.csv\")])):\n",
    "    num2 = df2[i:i+1].sum()\n",
    "    data2_gosa = num2.iloc[-1] + (diff*i)\n",
    "    data2 = round(data2_gosa,9)\n",
    "    with open(\"C:/Users/wadat/Data/2021_11_29/pico1_log/66666.csv\", 'a') as f:\n",
    "        print(data2, file=f)"
   ]
  },
  {
   "cell_type": "code",
   "execution_count": 11,
   "id": "aadb13b5-412f-409a-83e9-12391cbc706f",
   "metadata": {},
   "outputs": [],
   "source": [
    "\n",
    "df = pd.read_csv(\"C:/Users/wadat/Data/2021_11_29/pico1_log/66666.csv\",header=None)\n",
    "rows = df[0]\n",
    "max = rows.max()\n",
    "min = rows.min()\n",
    "mean = round((max + min)/2,10)\n",
    "csvfile = open(\"C:/Users/wadat/Data/2021_11_29/pico1_log/66666.csv\")\n",
    "data = csvfile.readlines()\n",
    "for i in range(0,sum([1 for _ in open(\"C:/Users/wadat/Data/2021_11_29/pico1_log/66666.csv\")])):\n",
    "    x = (float(data[i]) - float(mean))\n",
    "    norm = round(x,10)\n",
    "    with open(\"C:/Users/wadat/Data/2021_11_29/pico1_log/666666.csv\", 'a') as f:\n",
    "            print(norm, file=f)\n"
   ]
  },
  {
   "cell_type": "code",
   "execution_count": 1,
   "id": "8665faeb-02d7-47a3-bc28-d93f765ce8ac",
   "metadata": {},
   "outputs": [
    {
     "name": "stdout",
     "output_type": "stream",
     "text": [
      "Python 2.7.18\n"
     ]
    }
   ],
   "source": [
    "!python --version"
   ]
  },
  {
   "cell_type": "code",
   "execution_count": 2,
   "id": "1220f341-058d-4c55-a848-b79a0718aa9a",
   "metadata": {},
   "outputs": [
    {
     "name": "stdout",
     "output_type": "stream",
     "text": [
      "2.445268E+00\\n\n",
      "2.453719E+00\\n\n",
      "2.445268E+00\\n\n",
      "2.453713E+00\\n\n",
      "-0.008450999999999986\n",
      "-0.008445000000000036\n"
     ]
    }
   ],
   "source": [
    "import room138.module138.pico\n",
    "import os\n",
    "\n",
    "num = \"1\"\n",
    "path1 = 'C:/Users/wadat/Data1/2021_12_21/pico_log1/'\n",
    "path2 = 'C:/Users/wadat/Data1/2021_12_21/pico_log2/'\n",
    "path3 = 'C:/Users/wadat/Data1/2021_12_21/pico_log3/'\n",
    "path_1 = path1 + num + \".txt\"\n",
    "path_2 = path2 + num + \".txt\"\n",
    "path_3 = path3 + num + \".txt\"\n",
    "\n",
    "os.makedirs(path1, exist_ok=True)\n",
    "os.makedirs(path2, exist_ok=True)\n",
    "os.makedirs(path3, exist_ok=True)\n",
    "\n",
    "i = 0\n",
    "while i < 2:\n",
    "    room138.module138.pico.pico1(path_1)\n",
    "    room138.module138.pico.pico2(path_2)\n",
    "    i += 1\n",
    "    \n",
    "room138.module138.pico.diffpico(path_1,path_2,path_3)"
   ]
  },
  {
   "cell_type": "code",
   "execution_count": null,
   "id": "bd39f684-9c73-48cc-92c7-d1439d2732e9",
   "metadata": {},
   "outputs": [],
   "source": []
  }
 ],
 "metadata": {
  "kernelspec": {
   "display_name": "Python 3 (ipykernel)",
   "language": "python",
   "name": "python3"
  },
  "language_info": {
   "codemirror_mode": {
    "name": "ipython",
    "version": 3
   },
   "file_extension": ".py",
   "mimetype": "text/x-python",
   "name": "python",
   "nbconvert_exporter": "python",
   "pygments_lexer": "ipython3",
   "version": "3.9.7"
  }
 },
 "nbformat": 4,
 "nbformat_minor": 5
}
