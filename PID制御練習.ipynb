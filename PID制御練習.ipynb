{
 "cells": [
  {
   "cell_type": "code",
   "execution_count": 7,
   "metadata": {},
   "outputs": [],
   "source": [
    "import numpy as np\n",
    "from matplotlib import pyplot as plt\n",
    "from numpy.random import *"
   ]
  },
  {
   "cell_type": "code",
   "execution_count": 8,
   "metadata": {},
   "outputs": [],
   "source": [
    "M = 0.00 \n",
    "M1 =  0.00 \n",
    "goal = 50.00  \n",
    "e = 0.00 \n",
    "e1 = 0.00 \n",
    "e2 = 0.00 \n",
    "Kp = 0.1 \n",
    "Ki = 0.1 \n",
    "Kd = 0.1 \n",
    "\n",
    "t = 100"
   ]
  },
  {
   "cell_type": "code",
   "execution_count": 9,
   "metadata": {},
   "outputs": [],
   "source": [
    "x_list = []\n",
    "y_list = []\n",
    "\n",
    "x_list.append(0)\n",
    "y_list.append(0.00)"
   ]
  },
  {
   "cell_type": "code",
   "execution_count": 10,
   "metadata": {},
   "outputs": [],
   "source": [
    "for i in range(1,t):\n",
    "        M1 = M\n",
    "        e2 = e1\n",
    "        e1 = e\n",
    "        e = goal - y_list[i-1] #偏差（e） = 目的値（goal） - 前回の操作量\n",
    "\n",
    "        M = M1 + Kp * (e-e1) + Ki * e + Kd * ((e-e1) - (e1-e2))\n",
    "\n",
    "        x_list.append(i)\n",
    "        y_list.append(M)"
   ]
  },
  {
   "cell_type": "code",
   "execution_count": 11,
   "metadata": {},
   "outputs": [
    {
     "data": {
      "image/png": "[encoded data removed]",
      "text/plain": [
       "<Figure size 432x288 with 1 Axes>"
      ]
     },
     "metadata": {
      "needs_background": "light"
     },
     "output_type": "display_data"
    }
   ],
   "source": [
    "plt.hlines([goal], 0, t, \"red\", linestyles='dashed') #ゴールを赤色の点線で表示\n",
    "plt.plot(x_list, y_list, color=\"b\") #青色でグラフを表示\n",
    "plt.ylim(0, goal*1.2) #グラフの高さを調整\n",
    "plt.show()\n"
   ]
  },
  {
   "cell_type": "code",
   "execution_count": 4,
   "metadata": {},
   "outputs": [
    {
     "name": "stdout",
     "output_type": "stream",
     "text": [
      "+0047388\n"
     ]
    }
   ],
   "source": [
    "import module.motorStatus\n",
    "module.motorStatus.AttenuateStatus(\"./A\")"
   ]
  },
  {
   "cell_type": "code",
   "execution_count": 3,
   "metadata": {},
   "outputs": [
    {
     "name": "stdout",
     "output_type": "stream",
     "text": [
      "b'OK\\r\\n'\n"
     ]
    }
   ],
   "source": [
    "import module.attenuate\n",
    "module.attenuate.attenuateREL(-2000)"
   ]
  },
  {
   "cell_type": "code",
   "execution_count": 24,
   "metadata": {},
   "outputs": [
    {
     "name": "stdout",
     "output_type": "stream",
     "text": [
      "6.124332E-1\n",
      "\n",
      "6.522399E-1\n",
      "\n",
      "0.03980669999999997\n"
     ]
    }
   ],
   "source": [
    "with open(\"P.txt\") as f:\n",
    "    dataM1 = f.readlines()[0]\n",
    "with open(\"P.txt\") as f:\n",
    "    dataM2 = f.readlines()[1]\n",
    "print(dataM1)\n",
    "print(dataM2)\n",
    "data=float(dataM2)-float(dataM1)\n",
    "print(data)"
   ]
  },
  {
   "cell_type": "code",
   "execution_count": 26,
   "metadata": {},
   "outputs": [
    {
     "name": "stdout",
     "output_type": "stream",
     "text": [
      "5.393495E-0\n"
     ]
    }
   ],
   "source": [
    "import module.Pico\n",
    "module.Pico.pico(\"./P\")"
   ]
  },
  {
   "cell_type": "code",
   "execution_count": 32,
   "metadata": {},
   "outputs": [
    {
     "name": "stdout",
     "output_type": "stream",
     "text": [
      "\n",
      "0.003967175319623095\n"
     ]
    }
   ],
   "source": [
    "print( )\n",
    "print(e)"
   ]
  },
  {
   "cell_type": "code",
   "execution_count": 5,
   "metadata": {},
   "outputs": [
    {
     "ename": "ModuleNotFoundError",
     "evalue": "No module named 'control'",
     "output_type": "error",
     "traceback": [
      "\u001b[1;31m---------------------------------------------------------------------------\u001b[0m",
      "\u001b[1;31mModuleNotFoundError\u001b[0m                       Traceback (most recent call last)",
      "\u001b[1;32m<ipython-input-5-c0d14f914b88>\u001b[0m in \u001b[0;36m<module>\u001b[1;34m\u001b[0m\n\u001b[1;32m----> 1\u001b[1;33m \u001b[1;32mfrom\u001b[0m \u001b[0mcontrol\u001b[0m\u001b[1;33m.\u001b[0m\u001b[0mmatlab\u001b[0m \u001b[1;32mimport\u001b[0m \u001b[1;33m*\u001b[0m\u001b[1;33m\u001b[0m\u001b[1;33m\u001b[0m\u001b[0m\n\u001b[0m\u001b[0;32m      2\u001b[0m \u001b[1;32mfrom\u001b[0m \u001b[0mmatplotlib\u001b[0m \u001b[1;32mimport\u001b[0m \u001b[0mpyplot\u001b[0m \u001b[1;32mas\u001b[0m \u001b[0mplt\u001b[0m\u001b[1;33m\u001b[0m\u001b[1;33m\u001b[0m\u001b[0m\n\u001b[0;32m      3\u001b[0m \u001b[1;33m\u001b[0m\u001b[0m\n\u001b[0;32m      4\u001b[0m \u001b[1;32mdef\u001b[0m \u001b[0mmain\u001b[0m\u001b[1;33m(\u001b[0m\u001b[1;33m)\u001b[0m\u001b[1;33m:\u001b[0m\u001b[1;33m\u001b[0m\u001b[1;33m\u001b[0m\u001b[0m\n\u001b[0;32m      5\u001b[0m   \u001b[1;31m# PID制御器のパラメータ\u001b[0m\u001b[1;33m\u001b[0m\u001b[1;33m\u001b[0m\u001b[1;33m\u001b[0m\u001b[0m\n",
      "\u001b[1;31mModuleNotFoundError\u001b[0m: No module named 'control'"
     ]
    }
   ],
   "source": [
    "from control.matlab import *\n",
    "from matplotlib import pyplot as plt\n",
    "    \n",
    "def main():\n",
    "  # PID制御器のパラメータ\n",
    "  Kp = 0.6  # 比例\n",
    "  Ki = 0.03 # 積分\n",
    "  Kd = 0.03 # 微分\n",
    "  num = [Kd, Kp, Ki]\n",
    "  den = [1, 0]\n",
    "  K = tf(num, den)\n",
    "\n",
    "  # 制御対象\n",
    "  Kt = 1\n",
    "  J = 0.01\n",
    "  C = 0.1\n",
    "  num = [Kt]\n",
    "  den = [J, C, 0]\n",
    "  G = tf(num, den)\n",
    "\n",
    "  # フィードバックループ\n",
    "  sys = feedback(K*G, 1)\n",
    "  t = np.linspace(0, 3, 1000)\n",
    "  y, T = step(sys, t)\n",
    "  plt.plot(T, y)\n",
    "  plt.grid()\n",
    "  plt.axhline(1, color=\"b\", linestyle=\"--\")\n",
    "  plt.xlim(0, 3)\n",
    "  \n",
    "if __name__ == \"__main__\":\n",
    "  main()"
   ]
  },
  {
   "cell_type": "code",
   "execution_count": null,
   "metadata": {},
   "outputs": [],
   "source": []
  }
 ],
 "metadata": {
  "kernelspec": {
   "display_name": "Python 3",
   "language": "python",
   "name": "python3"
  },
  "language_info": {
   "codemirror_mode": {
    "name": "ipython",
    "version": 3
   },
   "file_extension": ".py",
   "mimetype": "text/x-python",
   "name": "python",
   "nbconvert_exporter": "python",
   "pygments_lexer": "ipython3",
   "version": "3.8.5"
  }
 },
 "nbformat": 4,
 "nbformat_minor": 4
}
