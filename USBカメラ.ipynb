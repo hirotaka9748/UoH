{
 "cells": [
  {
   "cell_type": "code",
   "execution_count": 1,
   "metadata": {},
   "outputs": [
    {
     "name": "stdout",
     "output_type": "stream",
     "text": [
      "[ 2021-04-07 12:41:24.814962 ] searching any camera...\n",
      "camera_number 0 Find!\n",
      "camera_number 1 Find!\n",
      "camera_number 2 None\n",
      "camera_number 3 None\n",
      "camera_number 4 None\n",
      "camera_number 5 None\n",
      "camera_number 6 None\n",
      "camera_number 7 None\n",
      "camera_number 8 None\n",
      "camera_number 9 None\n",
      "接続されているカメラは 2 台です。\n"
     ]
    }
   ],
   "source": [
    "import cv2\n",
    "import datetime\n",
    "\n",
    "\n",
    "def check_camera_connection():\n",
    "    \"\"\"\n",
    "    Check the connection between any camera and the PC.\n",
    "\n",
    "    \"\"\"\n",
    "\n",
    "    print('[', datetime.datetime.now(), ']', 'searching any camera...')\n",
    "    true_camera_is = []  # 空の配列を用意\n",
    "\n",
    "    # カメラ番号を0～9まで変えて、COM_PORTに認識されているカメラを探す\n",
    "    for camera_number in range(0, 10):\n",
    "        cap = cv2.VideoCapture(camera_number)\n",
    "        ret, frame = cap.read()\n",
    "\n",
    "        if ret is True:\n",
    "            true_camera_is.append(camera_number)\n",
    "            print(\"camera_number\", camera_number, \"Find!\")\n",
    "\n",
    "        else:\n",
    "            print(\"camera_number\", camera_number, \"None\")\n",
    "    print(\"接続されているカメラは\", len(true_camera_is), \"台です。\")\n",
    "\n",
    "\n",
    "if __name__ == \"__main__\":\n",
    "    check_camera_connection()"
   ]
  },
  {
   "cell_type": "code",
   "execution_count": 37,
   "metadata": {},
   "outputs": [
    {
     "name": "stdout",
     "output_type": "stream",
     "text": [
      "1280.0\n",
      "960.0\n"
     ]
    }
   ],
   "source": [
    "import cv2\n",
    "cap = cv2.VideoCapture(1) \n",
    "cap.set(cv2.CAP_PROP_FRAME_WIDTH, 1280)\n",
    "cap.set(cv2.CAP_PROP_FRAME_HEIGHT, 960)\n",
    "\n",
    "print(cap.get(cv2.CAP_PROP_FRAME_WIDTH))\n",
    "print(cap.get(cv2.CAP_PROP_FRAME_HEIGHT))\n"
   ]
  },
  {
   "cell_type": "code",
   "execution_count": 2,
   "metadata": {},
   "outputs": [
    {
     "ename": "TypeError",
     "evalue": "VideoCapture.read() takes at most 1 argument (2 given)",
     "output_type": "error",
     "traceback": [
      "\u001b[1;31m---------------------------------------------------------------------------\u001b[0m",
      "\u001b[1;31mTypeError\u001b[0m                                 Traceback (most recent call last)",
      "\u001b[1;32m<ipython-input-2-d39b4c69b290>\u001b[0m in \u001b[0;36m<module>\u001b[1;34m\u001b[0m\n\u001b[0;32m      8\u001b[0m \u001b[1;33m\u001b[0m\u001b[0m\n\u001b[0;32m      9\u001b[0m \u001b[1;32mwhile\u001b[0m\u001b[1;33m(\u001b[0m\u001b[1;32mTrue\u001b[0m\u001b[1;33m)\u001b[0m\u001b[1;33m:\u001b[0m\u001b[1;33m\u001b[0m\u001b[1;33m\u001b[0m\u001b[0m\n\u001b[1;32m---> 10\u001b[1;33m     \u001b[0mret\u001b[0m\u001b[1;33m,\u001b[0m \u001b[0mframe\u001b[0m \u001b[1;33m=\u001b[0m \u001b[0mcap\u001b[0m\u001b[1;33m.\u001b[0m\u001b[0mread\u001b[0m\u001b[1;33m(\u001b[0m\u001b[1;36m1280\u001b[0m\u001b[1;33m,\u001b[0m\u001b[1;36m960\u001b[0m\u001b[1;33m)\u001b[0m\u001b[1;33m\u001b[0m\u001b[1;33m\u001b[0m\u001b[0m\n\u001b[0m\u001b[0;32m     11\u001b[0m     \u001b[0mcv2\u001b[0m\u001b[1;33m.\u001b[0m\u001b[0mimshow\u001b[0m\u001b[1;33m(\u001b[0m\u001b[1;34m\"camera\"\u001b[0m\u001b[1;33m,\u001b[0m\u001b[0mframe\u001b[0m\u001b[1;33m)\u001b[0m\u001b[1;33m\u001b[0m\u001b[1;33m\u001b[0m\u001b[0m\n\u001b[0;32m     12\u001b[0m \u001b[1;33m\u001b[0m\u001b[0m\n",
      "\u001b[1;31mTypeError\u001b[0m: VideoCapture.read() takes at most 1 argument (2 given)"
     ]
    }
   ],
   "source": [
    "#\n",
    "# カメラ画像をキャプチャする\n",
    "#\n",
    "import cv2\n",
    "from datetime import datetime\n",
    "\n",
    "cap = cv2.VideoCapture(1)# 任意のカメラ番号に変更する\n",
    "\n",
    "while(True):\n",
    "    ret, frame = cap.read()\n",
    "    cv2.imshow(\"camera\",frame)    \n",
    "\n",
    "    k = cv2.waitKey(1)&0xff # キー入力を待つ\n",
    "    if k == ord('p'):\n",
    "        # 「p」キーで画像を保存\n",
    "        date = datetime.now().strftime(\"%Y%m%d_%H%M%S\")\n",
    "        path = \"./img1/\" + date + \".png\"\n",
    "        cv2.imwrite(path, frame) # ファイル保存\n",
    "\n",
    "        cv2.imshow(path, frame) # キャプチャした画像を表示\n",
    "    elif k == ord('q'):\n",
    "        # 「q」キーが押されたら終了する\n",
    "        break\n",
    "\n",
    "# キャプチャをリリースして、ウィンドウをすべて閉じる\n",
    "cap.release()\n",
    "cv2.destroyAllWindows()\n",
    "\n",
    "\n",
    "\n"
   ]
  },
  {
   "cell_type": "code",
   "execution_count": 16,
   "metadata": {},
   "outputs": [],
   "source": [
    "import cv2\n",
    "\n",
    "i = 0\n",
    "flag = True\n",
    "captures = []\n",
    "\n",
    "while( flag ):\n",
    "    capture = cv2.VideoCapture(i)\n",
    "    ret, frame = capture.read()\n",
    "    flag = ret\n",
    "    if flag:\n",
    "       i += 1\n",
    "       captures.append( capture )\n",
    "\n",
    "while(True):\n",
    "    key = cv2.waitKey(1) & 0xFF\n",
    "    if key == ord('q'):\n",
    "        break\n",
    "\n",
    "    for i, capture in enumerate( captures ):\n",
    "        ret, frame = capture.read()\n",
    "        cv2.imshow( 'frame' + str(i), frame )\n",
    "\n",
    "\n",
    "capture.release()\n",
    "cv2.destroyAllWindows()"
   ]
  },
  {
   "cell_type": "code",
   "execution_count": 18,
   "metadata": {},
   "outputs": [
    {
     "name": "stdout",
     "output_type": "stream",
     "text": [
      "<class 'cv2.VideoCapture'>\n",
      "True\n"
     ]
    }
   ],
   "source": [
    "import cv2\n",
    "\n",
    "cap_cam = cv2.VideoCapture(0)\n",
    "print(type(cap_cam))\n",
    "# <class 'cv2.VideoCapture'>\n",
    "\n",
    "print(cap_cam.isOpened())\n",
    "# True\n",
    "\n"
   ]
  },
  {
   "cell_type": "code",
   "execution_count": 3,
   "metadata": {},
   "outputs": [
    {
     "name": "stdout",
     "output_type": "stream",
     "text": [
      "640.0\n",
      "480.0\n"
     ]
    }
   ],
   "source": [
    "import sys\n",
    "import numpy as np\n",
    "import cv2\n",
    "import pylab as plt\n",
    "from datetime import datetime\n",
    "\n",
    "capL = cv2.VideoCapture(0)\n",
    "capR = cv2.VideoCapture(1)\n",
    "imgL = np.zeros((480,640,3), np.uint8)\n",
    "imgR = np.zeros((960,1280,3), np.uint8)\n",
    "\n",
    "print(capL.get(cv2.CAP_PROP_FRAME_WIDTH))\n",
    "print(capR.get(cv2.CAP_PROP_FRAME_HEIGHT))\n",
    "\n",
    "while True:\n",
    "    capL.read(imgL)\n",
    "    capR.read(imgR)\n",
    "    ret, frame1 = capL.read()\n",
    "    ret, frame2 = capR.read()\n",
    "    cv2.imshow(\"image left gray\", imgL)\n",
    "    cv2.imshow(\"image right gray\", imgR)\n",
    "\n",
    "    k = cv2.waitKey(1)&0xff # キー入力を待つ\n",
    "    if k == ord('p'):\n",
    "        # 「p」キーで画像を保存\n",
    "        date = datetime.now().strftime(\"%Y%m%d_%H%M%S\")\n",
    "        path1 = \"./img1/\" + date + \".png\"\n",
    "        path2 = \"./img2/\" + date + \".png\"\n",
    "        cv2.imwrite(path1, frame1) # ファイル保存\n",
    "        cv2.imwrite(path2, frame2)\n",
    "\n",
    "        cv2.imshow(path1, frame1) # キャプチャした画像を表示\n",
    "        cv2.imshow(path2, frame2)\n",
    "    elif k == ord('q'):\n",
    "        # 「q」キーが押されたら終了する\n",
    "        break\n",
    "capL.release()\n",
    "capR.release()\n",
    "cv2.destroyAllWindows()"
   ]
  },
  {
   "cell_type": "markdown",
   "metadata": {},
   "source": [
    "本番"
   ]
  },
  {
   "cell_type": "code",
   "execution_count": 10,
   "metadata": {},
   "outputs": [
    {
     "name": "stdout",
     "output_type": "stream",
     "text": [
      "0.0\n",
      "0.0\n",
      "0.0\n",
      "0.0\n",
      "0.0\n",
      "0.0\n"
     ]
    },
    {
     "ename": "NameError",
     "evalue": "name 'capR' is not defined",
     "output_type": "error",
     "traceback": [
      "\u001b[1;31m---------------------------------------------------------------------------\u001b[0m",
      "\u001b[1;31mNameError\u001b[0m                                 Traceback (most recent call last)",
      "\u001b[1;32m<ipython-input-10-8b9ec4f1f183>\u001b[0m in \u001b[0;36m<module>\u001b[1;34m\u001b[0m\n\u001b[0;32m     38\u001b[0m \u001b[1;33m\u001b[0m\u001b[0m\n\u001b[0;32m     39\u001b[0m \u001b[0mcapL\u001b[0m\u001b[1;33m.\u001b[0m\u001b[0mrelease\u001b[0m\u001b[1;33m(\u001b[0m\u001b[1;33m)\u001b[0m\u001b[1;33m\u001b[0m\u001b[1;33m\u001b[0m\u001b[0m\n\u001b[1;32m---> 40\u001b[1;33m \u001b[0mcapR\u001b[0m\u001b[1;33m.\u001b[0m\u001b[0mrelease\u001b[0m\u001b[1;33m(\u001b[0m\u001b[1;33m)\u001b[0m\u001b[1;33m\u001b[0m\u001b[1;33m\u001b[0m\u001b[0m\n\u001b[0m\u001b[0;32m     41\u001b[0m \u001b[0mcv2\u001b[0m\u001b[1;33m.\u001b[0m\u001b[0mdestroyAllWindows\u001b[0m\u001b[1;33m(\u001b[0m\u001b[1;33m)\u001b[0m\u001b[1;33m\u001b[0m\u001b[1;33m\u001b[0m\u001b[0m\n",
      "\u001b[1;31mNameError\u001b[0m: name 'capR' is not defined"
     ]
    }
   ],
   "source": [
    "import sys\n",
    "import numpy as np\n",
    "import cv2\n",
    "import pylab as plt\n",
    "from datetime import datetime\n",
    "\n",
    "cap.set(cv2.CAP_PROP_FRAME_WIDTH, 1280)\n",
    "cap.set(cv2.CAP_PROP_FRAME_HEIGHT, 960)\n",
    "cap.set(cv2.CAP_PROP_EXPOSURE,-5)\n",
    "cap.set(cv2.CAP_PROP_CONTRAST,20)\n",
    "cap.set(cv2.CAP_PROP_GAIN,0)\n",
    "cap.set(cv2.CAP_PROP_BRIGHTNESS,0)\n",
    "\n",
    "print(cap.get(cv2.CAP_PROP_FRAME_WIDTH))\n",
    "print(cap.get(cv2.CAP_PROP_FRAME_HEIGHT))\n",
    "print(cap.get(cv2.CAP_PROP_EXPOSURE))\n",
    "print(cap.get(cv2.CAP_PROP_CONTRAST))\n",
    "print(cap.get(cv2.CAP_PROP_GAIN))\n",
    "print(cap.get(cv2.CAP_PROP_BRIGHTNESS))\n",
    "\n",
    "capL = cv2.VideoCapture(0)\n",
    "\n",
    "imgL = np.zeros((1280,960,3), np.uint8)\n",
    "\n",
    "while True:\n",
    "    capL.read(imgL)\n",
    "    \n",
    "    ret, frame1 = capL.read()\n",
    "    \n",
    "    cv2.imshow(\"image left gray\", imgL)\n",
    "    \n",
    "    \n",
    "    \n",
    "    \n",
    "    \n",
    "    if cv2.waitKey(1) & 0xFF == ord('q'): ##qで終了\n",
    "        break\n",
    "\n",
    "capL.release()\n",
    "capR.release()\n",
    "cv2.destroyAllWindows()"
   ]
  },
  {
   "cell_type": "code",
   "execution_count": 49,
   "metadata": {},
   "outputs": [
    {
     "data": {
      "text/plain": [
       "True"
      ]
     },
     "execution_count": 49,
     "metadata": {},
     "output_type": "execute_result"
    }
   ],
   "source": [
    "import sys\n",
    "import numpy as np\n",
    "import cv2\n",
    "import pylab as plt\n",
    "from datetime import datetime\n",
    "\n",
    "capL = cv2.VideoCapture(0)\n",
    "capR = cv2.VideoCapture(1)\n",
    "imgL = np.zeros((480,640,3), np.uint8)\n",
    "imgR = np.zeros((480,640,3), np.uint8)\n",
    "#img1,img2の各要素を比較し、等しければ0、異なれば1の値を持つ配列comparisonを生成\n",
    "comparison=np.where(imgL == imgR, 0, 1)\n",
    "#img1とcomparisonの要素の積、配列differenceを生成\n",
    "#2つの画像の要素が等しい部分は0が掛けられるため0(黒)となり\n",
    "#2つの画像の要素が等しい部分は1が掛けられるため値を持つ\n",
    "#グレースケール画像として出力するためdtype = np.uint8を指定する\n",
    "difference=np.array(imgL*comparison,dtype = np.uint8)\n",
    "\n",
    "cv2.imwrite('difference.png',difference) #ファイル名difference.pngでdifferenceを保存  "
   ]
  },
  {
   "cell_type": "code",
   "execution_count": 14,
   "metadata": {},
   "outputs": [
    {
     "name": "stdout",
     "output_type": "stream",
     "text": [
      "640.0\n",
      "640.0\n",
      "-6.0\n",
      "5.0\n",
      "-1.0\n",
      "128.0\n"
     ]
    }
   ],
   "source": [
    "import cv2\n",
    "from datetime import datetime\n",
    "\n",
    "cap = cv2.VideoCapture(0) # 任意のカメラ番号に変更する\n",
    "\n",
    "cap.set(cv2.CAP_PROP_FRAME_WIDTH,1000)\n",
    "cap.set(cv2.CAP_PROP_FRAME_HEIGHT,960)\n",
    "cap.set(cv2.CAP_PROP_EXPOSURE,10)\n",
    "cap.set(cv2.CAP_PROP_CONTRAST,0)\n",
    "cap.set(cv2.CAP_PROP_GAIN,0)\n",
    "cap.set(cv2.CAP_PROP_BRIGHTNESS,0)\n",
    "\n",
    "print(cap.get(cv2.CAP_PROP_FRAME_WIDTH))\n",
    "print(cap.get(cv2.CAP_PROP_FRAME_HEIGHT))\n",
    "print(cap.get(cv2.CAP_PROP_EXPOSURE))\n",
    "print(cap.get(cv2.CAP_PROP_CONTRAST))\n",
    "print(cap.get(cv2.CAP_PROP_GAIN))\n",
    "print(cap.get(cv2.CAP_PROP_BRIGHTNESS))\n",
    "\n",
    "r, frame = cap.read()\n",
    "\n",
    "while(True):\n",
    "    ret, frame = cap.read()\n",
    "    cv2.imshow(\"camera\", frame)\n",
    "\n",
    "    \n",
    "    if cv2.waitKey(1) & 0xFF == ord('q'): ##qで終了\n",
    "        break\n",
    "\n",
    "cap.release()\n",
    "cv2.destroyAllWindows()"
   ]
  },
  {
   "cell_type": "code",
   "execution_count": 3,
   "metadata": {},
   "outputs": [
    {
     "ename": "SyntaxError",
     "evalue": "invalid character in identifier (<ipython-input-3-2ad32f479985>, line 26)",
     "output_type": "error",
     "traceback": [
      "\u001b[1;36m  File \u001b[1;32m\"<ipython-input-3-2ad32f479985>\"\u001b[1;36m, line \u001b[1;32m26\u001b[0m\n\u001b[1;33m    save_frame_camera_key(1, 'ダウンロード', 'camera_capture')　##ファイル名\u001b[0m\n\u001b[1;37m                                                        ^\u001b[0m\n\u001b[1;31mSyntaxError\u001b[0m\u001b[1;31m:\u001b[0m invalid character in identifier\n"
     ]
    }
   ],
   "source": [
    "import os\n",
    "\n",
    "def save_frame_camera_key(device_num, dir_path, basename, ext='jpg', delay=1, window_name='frame'):\n",
    "    cap = cv2.VideoCapture(device_num)\n",
    "\n",
    "    if not cap.isOpened():\n",
    "        return\n",
    "\n",
    "    os.makedirs(dir_path, exist_ok=True)\n",
    "    base_path = os.path.join(dir_path, basename)\n",
    "\n",
    "    n = 0\n",
    "    while True:\n",
    "        ret, frame = cap.read()\n",
    "        cv2.imshow(window_name, frame)\n",
    "        key = cv2.waitKey(delay) & 0xFF\n",
    "        if key == ord('c'):\n",
    "            cv2.imwrite('{}_{}.{}'.format(base_path, n, ext), frame) \n",
    "            n += 1\n",
    "        elif key == ord('q'):\n",
    "            break\n",
    "\n",
    "    cv2.destroyWindow(window_name)\n",
    "\n",
    "\n",
    "save_frame_camera_key(1, 'ダウンロード', 'camera_capture')　##ファイル名"
   ]
  },
  {
   "cell_type": "code",
   "execution_count": 7,
   "metadata": {},
   "outputs": [
    {
     "ename": "IndentationError",
     "evalue": "unindent does not match any outer indentation level (<tokenize>, line 26)",
     "output_type": "error",
     "traceback": [
      "\u001b[1;36m  File \u001b[1;32m\"<tokenize>\"\u001b[1;36m, line \u001b[1;32m26\u001b[0m\n\u001b[1;33m    frame = cv2.cvtColor(frame, cv2.COLOR_BGR2RGB)\u001b[0m\n\u001b[1;37m    ^\u001b[0m\n\u001b[1;31mIndentationError\u001b[0m\u001b[1;31m:\u001b[0m unindent does not match any outer indentation level\n"
     ]
    }
   ],
   "source": []
  },
  {
   "cell_type": "code",
   "execution_count": 4,
   "metadata": {},
   "outputs": [
    {
     "name": "stdout",
     "output_type": "stream",
     "text": [
      "1280.0\n",
      "960.0\n"
     ]
    },
    {
     "ename": "error",
     "evalue": "OpenCV(4.4.0) C:\\Users\\appveyor\\AppData\\Local\\Temp\\1\\pip-req-build-h4wtvo23\\opencv\\modules\\highgui\\src\\window.cpp:376: error: (-215:Assertion failed) size.width>0 && size.height>0 in function 'cv::imshow'\n",
     "output_type": "error",
     "traceback": [
      "\u001b[1;31m---------------------------------------------------------------------------\u001b[0m",
      "\u001b[1;31merror\u001b[0m                                     Traceback (most recent call last)",
      "\u001b[1;32m<ipython-input-4-18505ae982a7>\u001b[0m in \u001b[0;36m<module>\u001b[1;34m\u001b[0m\n\u001b[0;32m     12\u001b[0m \u001b[1;32mwhile\u001b[0m \u001b[1;32mTrue\u001b[0m\u001b[1;33m:\u001b[0m\u001b[1;33m\u001b[0m\u001b[1;33m\u001b[0m\u001b[0m\n\u001b[0;32m     13\u001b[0m     \u001b[0mret\u001b[0m\u001b[1;33m,\u001b[0m \u001b[0mframe\u001b[0m \u001b[1;33m=\u001b[0m \u001b[0mcap\u001b[0m\u001b[1;33m.\u001b[0m\u001b[0mread\u001b[0m\u001b[1;33m(\u001b[0m\u001b[1;33m)\u001b[0m\u001b[1;33m\u001b[0m\u001b[1;33m\u001b[0m\u001b[0m\n\u001b[1;32m---> 14\u001b[1;33m     \u001b[0mcv2\u001b[0m\u001b[1;33m.\u001b[0m\u001b[0mimshow\u001b[0m\u001b[1;33m(\u001b[0m\u001b[1;34m\"camera\"\u001b[0m\u001b[1;33m,\u001b[0m \u001b[0mframe\u001b[0m\u001b[1;33m)\u001b[0m\u001b[1;33m\u001b[0m\u001b[1;33m\u001b[0m\u001b[0m\n\u001b[0m\u001b[0;32m     15\u001b[0m     \u001b[0mdate\u001b[0m \u001b[1;33m=\u001b[0m \u001b[0mdatetime\u001b[0m\u001b[1;33m.\u001b[0m\u001b[0mnow\u001b[0m\u001b[1;33m(\u001b[0m\u001b[1;33m)\u001b[0m\u001b[1;33m.\u001b[0m\u001b[0mstrftime\u001b[0m\u001b[1;33m(\u001b[0m\u001b[1;34m\"%Y%m%d_%H%M%S\"\u001b[0m\u001b[1;33m)\u001b[0m\u001b[1;33m\u001b[0m\u001b[1;33m\u001b[0m\u001b[0m\n\u001b[0;32m     16\u001b[0m     \u001b[0mpath\u001b[0m \u001b[1;33m=\u001b[0m \u001b[1;34m\"./img1/\"\u001b[0m \u001b[1;33m+\u001b[0m \u001b[0mdate\u001b[0m \u001b[1;33m+\u001b[0m \u001b[1;34m\".png\"\u001b[0m\u001b[1;33m\u001b[0m\u001b[1;33m\u001b[0m\u001b[0m\n",
      "\u001b[1;31merror\u001b[0m: OpenCV(4.4.0) C:\\Users\\appveyor\\AppData\\Local\\Temp\\1\\pip-req-build-h4wtvo23\\opencv\\modules\\highgui\\src\\window.cpp:376: error: (-215:Assertion failed) size.width>0 && size.height>0 in function 'cv::imshow'\n"
     ]
    }
   ],
   "source": [
    "import cv2\n",
    "from datetime import datetime\n",
    "\n",
    "cap = cv2.VideoCapture(1) # 任意のカメラ番号に変更する\n",
    "\n",
    "cap.set(cv2.CAP_PROP_FRAME_WIDTH, 1280)\n",
    "cap.set(cv2.CAP_PROP_FRAME_HEIGHT, 960)\n",
    "\n",
    "print(cap.get(cv2.CAP_PROP_FRAME_WIDTH))\n",
    "print(cap.get(cv2.CAP_PROP_FRAME_HEIGHT))\n",
    "\n",
    "while True:\n",
    "    ret, frame = cap.read()\n",
    "    cv2.imshow(\"camera\", frame)\n",
    "    date = datetime.now().strftime(\"%Y%m%d_%H%M%S\")\n",
    "    path = \"./img1/\" + date + \".png\"\n",
    "    cv2.imwrite(path, frame) # ファイル保存\n",
    "    "
   ]
  },
  {
   "cell_type": "code",
   "execution_count": 2,
   "metadata": {},
   "outputs": [],
   "source": [
    "import cv2\n",
    "from datetime import datetime\n",
    "import socket\n",
    "\n",
    "\n",
    "date = datetime.now().strftime(\"%Y%m%d_%H%M%S\")\n",
    "path = \"./img1/\" + date + \".png\"\n",
    "cap = cv2.VideoCapture(0)\n",
    "ret, frame = cap.read()\n",
    "cv2.imwrite(path, frame)\n",
    "cap.release()"
   ]
  },
  {
   "cell_type": "code",
   "execution_count": 4,
   "metadata": {},
   "outputs": [
    {
     "name": "stdout",
     "output_type": "stream",
     "text": [
      "20210126_171601\n",
      "./img1/20210126_171601.png\n"
     ]
    }
   ],
   "source": [
    "from datetime import datetime\n",
    "\n",
    "date = datetime.now().strftime(\"%Y%m%d_%H%M%S\")\n",
    "path = \"./img1/\" + date + \".png\"\n",
    "print(date)\n",
    "print(path)"
   ]
  },
  {
   "cell_type": "code",
   "execution_count": 4,
   "metadata": {},
   "outputs": [],
   "source": [
    "import cv2\n",
    "\n",
    "# VideoCapture オブジェクトを取得します\n",
    "capture = cv2.VideoCapture(1)\n",
    "\n",
    "while(True):\n",
    "    ret, frame = capture.read()\n",
    "    # resize the window\n",
    "    windowsize = (1280, 960)\n",
    "    frame = cv2.resize(frame, windowsize)\n",
    "\n",
    "    cv2.imshow('title',frame)\n",
    "    if cv2.waitKey(1) & 0xFF == ord('q'):\n",
    "        break\n",
    "\n",
    "capture.release()\n",
    "cv2.destroyAllWindows()"
   ]
  },
  {
   "cell_type": "code",
   "execution_count": null,
   "metadata": {},
   "outputs": [],
   "source": [
    "import cv2\n",
    "\n",
    "capture = cv2.VideoCapture(1)\n",
    "capture.set(3, 1280)  # Width\n",
    "capture.set(4, 960)  # Heigh\n",
    "capture.set(5, 15)   # FPS\n",
    "\n",
    "if capture.isOpened() is False:\n",
    "    raise(\"IO Error\")\n",
    "\n",
    "cv2.namedWindow(\"Capture\", cv2.WINDOW_AUTOSIZE)\n",
    "\n",
    "while True:\n",
    "\n",
    "    ret, image = capture.read()\n",
    "\n",
    "    if ret == False:\n",
    "        continue\n",
    "\n",
    "    cv2.imshow(\"Capture\", image)\n",
    "\n",
    "    if cv2.waitKey(33) >= 0:\n",
    "        cv2.imwrite(\"image.png\", image)\n",
    "        break\n",
    "\n",
    "capture.release()\n",
    "cv2.destroyAllWindows()"
   ]
  },
  {
   "cell_type": "code",
   "execution_count": 3,
   "metadata": {},
   "outputs": [],
   "source": [
    "import cv2\n",
    "\n",
    "capture = cv2.VideoCapture(1)\n",
    "capture.set(3, 960)  # Width\n",
    "capture.set(4, 960)  # Heigh\n",
    "capture.set(5, 15)   # FPS\n",
    "\n",
    "if capture.isOpened() is False:\n",
    "    raise(\"IO Error\")\n",
    "\n",
    "cv2.namedWindow(\"Capture\", cv2.WINDOW_AUTOSIZE)\n",
    "\n",
    "while True:\n",
    "\n",
    "    ret, image = capture.read()\n",
    "\n",
    "    if ret == False:\n",
    "        continue\n",
    "\n",
    "    cv2.imshow(\"Capture\", image)\n",
    "\n",
    "    if cv2.waitKey(33) >= 0:\n",
    "        cv2.imwrite(\"image.png\", image)\n",
    "        break\n",
    "\n",
    "capture.release()\n",
    "cv2.destroyAllWindows()"
   ]
  },
  {
   "cell_type": "code",
   "execution_count": 21,
   "metadata": {},
   "outputs": [],
   "source": [
    "import cv2\n",
    "\n",
    "# VideoCapture オブジェクトを取得します\n",
    "capture = cv2.VideoCapture(0)\n",
    "\n",
    "while(True):\n",
    "    ret, frame = capture.read()\n",
    "    # resize the window\n",
    "    windowsize = (640, 200)\n",
    "    frame = cv2.resize(frame, windowsize)\n",
    "\n",
    "    cv2.imshow('title',frame)\n",
    "    if cv2.waitKey(1) & 0xFF == ord('q'):\n",
    "        break\n",
    "\n",
    "capture.release()\n",
    "cv2.destroyAllWindows()"
   ]
  },
  {
   "cell_type": "code",
   "execution_count": 7,
   "metadata": {},
   "outputs": [
    {
     "name": "stdout",
     "output_type": "stream",
     "text": [
      "640.0\n",
      "480.0\n"
     ]
    }
   ],
   "source": [
    "import cv2\n",
    "\n",
    "# VideoCapture オブジェクトを取得します\n",
    "cap = cv2.VideoCapture(1)\n",
    "\n",
    "cap.set(cv2.CAP_PROP_FRAME_WIDTH, 640)\n",
    "cap.set(cv2.CAP_PROP_FRAME_HEIGHT, 480)\n",
    "\n",
    "print(cap.get(cv2.CAP_PROP_FRAME_WIDTH))\n",
    "print(cap.get(cv2.CAP_PROP_FRAME_HEIGHT))\n",
    "\n",
    "\n",
    "while(True):\n",
    "    ret, frame = cap.read()\n",
    "    cv2.imshow('frame',frame)\n",
    "    if cv2.waitKey(1) & 0xFF == ord('q'):\n",
    "        break\n",
    "\n",
    "cap.release()\n",
    "cv2.destroyAllWindows()\n"
   ]
  },
  {
   "cell_type": "code",
   "execution_count": 1,
   "metadata": {},
   "outputs": [],
   "source": [
    "import cv2\n",
    " \n",
    "camera = cv2.VideoCapture(0)                               # カメラCh.(ここでは0)を指定\n",
    " \n",
    "# 動画ファイル保存用の設定\n",
    "fps = int(camera.get(cv2.CAP_PROP_FPS))                    # カメラのFPSを取得\n",
    "w = int(camera.get(cv2.CAP_PROP_FRAME_WIDTH))              # カメラの横幅を取得\n",
    "h = int(camera.get(cv2.CAP_PROP_FRAME_HEIGHT))             # カメラの縦幅を取得\n",
    "fourcc = cv2.VideoWriter_fourcc('m', 'p', '4', 'v')        # 動画保存時のfourcc設定（mp4用）\n",
    "video = cv2.VideoWriter('video.mp4', fourcc, fps, (w, h))  # 動画の仕様（ファイル名、fourcc, FPS, サイズ）\n",
    " \n",
    "# 撮影＝ループ中にフレームを1枚ずつ取得（qキーで撮影終了）\n",
    "while True:\n",
    "    ret, frame = camera.read()                             # フレームを取得\n",
    "    cv2.imshow('camera', frame)                            # フレームを画面に表示\n",
    "    video.write(frame)                                     # 動画を1フレームずつ保存する\n",
    " \n",
    "    # キー操作があればwhileループを抜ける\n",
    "    if cv2.waitKey(1) & 0xFF == ord('q'):\n",
    "        break\n",
    " \n",
    "# 撮影用オブジェクトとウィンドウの解放\n",
    "camera.release()\n",
    "cv2.destroyAllWindows()"
   ]
  },
  {
   "cell_type": "code",
   "execution_count": 3,
   "metadata": {},
   "outputs": [
    {
     "ename": "SyntaxError",
     "evalue": "invalid syntax (<ipython-input-3-623c1a76f893>, line 1)",
     "output_type": "error",
     "traceback": [
      "\u001b[1;36m  File \u001b[1;32m\"<ipython-input-3-623c1a76f893>\"\u001b[1;36m, line \u001b[1;32m1\u001b[0m\n\u001b[1;33m    apt-get install v4l-utils\u001b[0m\n\u001b[1;37m            ^\u001b[0m\n\u001b[1;31mSyntaxError\u001b[0m\u001b[1;31m:\u001b[0m invalid syntax\n"
     ]
    }
   ],
   "source": [
    "apt-get install v4l-utils"
   ]
  },
  {
   "cell_type": "code",
   "execution_count": 4,
   "metadata": {},
   "outputs": [
    {
     "ename": "NameError",
     "evalue": "name 'v4l2' is not defined",
     "output_type": "error",
     "traceback": [
      "\u001b[1;31m---------------------------------------------------------------------------\u001b[0m",
      "\u001b[1;31mNameError\u001b[0m                                 Traceback (most recent call last)",
      "\u001b[1;32m<ipython-input-4-c01b60180d0a>\u001b[0m in \u001b[0;36m<module>\u001b[1;34m\u001b[0m\n\u001b[1;32m----> 1\u001b[1;33m \u001b[0mv4l2\u001b[0m\u001b[1;33m-\u001b[0m\u001b[0mctl\u001b[0m \u001b[1;33m-\u001b[0m\u001b[1;33m-\u001b[0m\u001b[0mlist\u001b[0m\u001b[1;33m-\u001b[0m\u001b[0mformats\u001b[0m\u001b[1;33m-\u001b[0m\u001b[0mext\u001b[0m\u001b[1;33m\u001b[0m\u001b[1;33m\u001b[0m\u001b[0m\n\u001b[0m",
      "\u001b[1;31mNameError\u001b[0m: name 'v4l2' is not defined"
     ]
    }
   ],
   "source": [
    "v4l2-ctl --list-formats-ext"
   ]
  },
  {
   "cell_type": "code",
   "execution_count": 5,
   "metadata": {},
   "outputs": [
    {
     "ename": "SyntaxError",
     "evalue": "invalid syntax (<ipython-input-5-8862ac3a5a0c>, line 1)",
     "output_type": "error",
     "traceback": [
      "\u001b[1;36m  File \u001b[1;32m\"<ipython-input-5-8862ac3a5a0c>\"\u001b[1;36m, line \u001b[1;32m1\u001b[0m\n\u001b[1;33m    sudo python apt-get install v4l-utils\u001b[0m\n\u001b[1;37m         ^\u001b[0m\n\u001b[1;31mSyntaxError\u001b[0m\u001b[1;31m:\u001b[0m invalid syntax\n"
     ]
    }
   ],
   "source": [
    "sudo python apt-get install v4l-utils"
   ]
  },
  {
   "cell_type": "code",
   "execution_count": 10,
   "metadata": {},
   "outputs": [
    {
     "ename": "TypeError",
     "evalue": "unsupported operand type(s) for +: 'range' and 'list'",
     "output_type": "error",
     "traceback": [
      "\u001b[1;31m---------------------------------------------------------------------------\u001b[0m",
      "\u001b[1;31mTypeError\u001b[0m                                 Traceback (most recent call last)",
      "\u001b[1;32m<ipython-input-10-daed2b411b26>\u001b[0m in \u001b[0;36m<module>\u001b[1;34m\u001b[0m\n\u001b[1;32m----> 1\u001b[1;33m \u001b[1;32mimport\u001b[0m \u001b[0mv4l2\u001b[0m\u001b[1;33m\u001b[0m\u001b[1;33m\u001b[0m\u001b[0m\n\u001b[0m\u001b[0;32m      2\u001b[0m \u001b[0mv4l2\u001b[0m\u001b[1;33m-\u001b[0m\u001b[0mctl\u001b[0m \u001b[1;33m-\u001b[0m\u001b[0md\u001b[0m \u001b[1;33m/\u001b[0m\u001b[0mdev\u001b[0m\u001b[1;33m/\u001b[0m\u001b[0mvideo0\u001b[0m\u001b[1;33m\u001b[0m\u001b[1;33m\u001b[0m\u001b[0m\n",
      "\u001b[1;32m~\\anaconda3\\lib\\site-packages\\v4l2.py\u001b[0m in \u001b[0;36m<module>\u001b[1;34m\u001b[0m\n\u001b[0;32m    195\u001b[0m     \u001b[0mV4L2_BUF_TYPE_VIDEO_OUTPUT_OVERLAY\u001b[0m\u001b[1;33m,\u001b[0m\u001b[1;33m\u001b[0m\u001b[1;33m\u001b[0m\u001b[0m\n\u001b[0;32m    196\u001b[0m     \u001b[0mV4L2_BUF_TYPE_PRIVATE\u001b[0m\u001b[1;33m,\u001b[0m\u001b[1;33m\u001b[0m\u001b[1;33m\u001b[0m\u001b[0m\n\u001b[1;32m--> 197\u001b[1;33m ) = range(1, 9) + [0x80]\n\u001b[0m\u001b[0;32m    198\u001b[0m \u001b[1;33m\u001b[0m\u001b[0m\n\u001b[0;32m    199\u001b[0m \u001b[1;33m\u001b[0m\u001b[0m\n",
      "\u001b[1;31mTypeError\u001b[0m: unsupported operand type(s) for +: 'range' and 'list'"
     ]
    }
   ],
   "source": [
    "import v4l2\n",
    "v4l2-ctl -d /dev/video0"
   ]
  },
  {
   "cell_type": "code",
   "execution_count": 43,
   "metadata": {},
   "outputs": [
    {
     "name": "stdout",
     "output_type": "stream",
     "text": [
      "1280.0\n",
      "960.0\n",
      "-4.0\n",
      "0.0\n",
      "32.0\n",
      "16.0\n",
      "<class 'cv2.VideoCapture'>\n",
      "False\n"
     ]
    }
   ],
   "source": [
    "import sys\n",
    "import numpy as np\n",
    "import cv2\n",
    "import pylab as plt\n",
    "from datetime import datetime\n",
    "\n",
    "cap = cv2.VideoCapture(1)# 任意のカメラ番号に変更する\n",
    "\n",
    "cap.set(cv2.CAP_PROP_FRAME_WIDTH, 1280)\n",
    "cap.set(cv2.CAP_PROP_FRAME_HEIGHT, 960)\n",
    "print(cap.get(cv2.CAP_PROP_FRAME_WIDTH))\n",
    "print(cap.get(cv2.CAP_PROP_FRAME_HEIGHT))\n",
    "print(cap.get(cv2.CAP_PROP_EXPOSURE))\n",
    "print(cap.get(cv2.CAP_PROP_CONTRAST))\n",
    "print(cap.get(cv2.CAP_PROP_GAIN))\n",
    "print(cap.get(cv2.CAP_PROP_BRIGHTNESS))\n",
    "print(type(cap))\n",
    "print(ret)"
   ]
  },
  {
   "cell_type": "code",
   "execution_count": 25,
   "metadata": {},
   "outputs": [],
   "source": [
    "import cv2\n",
    " \n",
    "camera = cv2.VideoCapture(1)                # カメラCh.(ここでは0)を指定\n",
    " \n",
    "# 撮影＝ループ中にフレームを1枚ずつ取得（qキーで撮影終了）\n",
    "while True:\n",
    "    ret, frame = camera.read()              # フレームを取得\n",
    "    cv2.imshow('camera', frame)             # フレームを画面に表示\n",
    " \n",
    "    # キー操作があればwhileループを抜ける\n",
    "    if cv2.waitKey(1) & 0xFF == ord('q'):\n",
    "        break\n",
    " \n",
    "# 撮影用オブジェクトとウィンドウの解放\n",
    "camera.release()\n",
    "cv2.destroyAllWindows()"
   ]
  },
  {
   "cell_type": "code",
   "execution_count": 3,
   "metadata": {},
   "outputs": [],
   "source": [
    "#\n",
    "# カメラ画像をキャプチャする\n",
    "#\n",
    "import cv2\n",
    "from datetime import datetime\n",
    "\n",
    "cap = cv2.VideoCapture(1) # 任意のカメラ番号に変更する\n",
    "\n",
    "while True:\n",
    "    ret, frame = cap.read()\n",
    "    cv2.imshow(\"camera\", frame)\n",
    "\n",
    "    k = cv2.waitKey(1)&0xff # キー入力を待つ\n",
    "    if k == ord('p'):\n",
    "        # 「p」キーで画像を保存\n",
    "        date = datetime.now().strftime(\"%Y%m%d_%H%M%S\")\n",
    "        path = \"./img/\" + date + \".png\"\n",
    "        cv2.imwrite(path, frame) # ファイル保存\n",
    "\n",
    "        cv2.imshow(path, frame) # キャプチャした画像を表示\n",
    "    elif k == ord('q'):\n",
    "        # 「q」キーが押されたら終了する\n",
    "        break\n",
    "\n",
    "# キャプチャをリリースして、ウィンドウをすべて閉じる\n",
    "cap.release()\n",
    "cv2.destroyAllWindows()"
   ]
  }
 ],
 "metadata": {
  "kernelspec": {
   "display_name": "Python 3 (ipykernel)",
   "language": "python",
   "name": "python3"
  },
  "language_info": {
   "codemirror_mode": {
    "name": "ipython",
    "version": 3
   },
   "file_extension": ".py",
   "mimetype": "text/x-python",
   "name": "python",
   "nbconvert_exporter": "python",
   "pygments_lexer": "ipython3",
   "version": "3.9.7"
  }
 },
 "nbformat": 4,
 "nbformat_minor": 4
}
