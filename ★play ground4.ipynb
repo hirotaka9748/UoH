{
 "cells": [
  {
   "cell_type": "code",
   "execution_count": 1,
   "metadata": {},
   "outputs": [
    {
     "name": "stdout",
     "output_type": "stream",
     "text": [
      "ping -n 2 -w 5025 150.12.70.156\n",
      "\n",
      "\n",
      "\n",
      "return code : 0\n",
      "\n",
      "\n",
      "\n",
      "\n",
      "\n",
      "\n",
      "\n",
      "150.12.70.156 に ping を送信しています 32 バイトのデータ:\n",
      "\n",
      "\n",
      "\n",
      "150.12.70.156 からの応答: バイト数 =32 時間 =2ms TTL=128\n",
      "\n",
      "\n",
      "\n",
      "150.12.70.156 からの応答: バイト数 =32 時間 =2ms TTL=128\n",
      "\n",
      "\n",
      "\n",
      "\n",
      "\n",
      "\n",
      "\n",
      "150.12.70.156 の ping 統計:\n",
      "\n",
      "\n",
      "\n",
      "    パケット数: 送信 = 2、受信 = 2、損失 = 0 (0% の損失)、\n",
      "\n",
      "\n",
      "\n",
      "ラウンド トリップの概算時間 (ミリ秒):\n",
      "\n",
      "\n",
      "\n",
      "    最小 = 2ms、最大 = 2ms、平均 = 2ms\n",
      "\n",
      "\n",
      "\n",
      "\n",
      "\n",
      "\n",
      "\n",
      "\n"
     ]
    }
   ],
   "source": [
    "import subprocess\n",
    "\n",
    "commands = [\"ping\", \"-n\", \"2\", \"-w\", \"5025\", \"150.12.70.156\"]\n",
    "print(\" \".join(commands))\n",
    "proc = subprocess.run(\n",
    "    commands,\n",
    "    stdout=subprocess.PIPE,     # 標準出力は保存\n",
    "    stderr=subprocess.DEVNULL   # 標準エラーは捨てる\n",
    ")\n",
    "print(f\"return code : {proc.returncode}\")\n",
    "result = proc.stdout.decode(\"cp932\")\n",
    "print(result)\n",
    "print()"
   ]
  },
  {
   "cell_type": "code",
   "execution_count": null,
   "metadata": {},
   "outputs": [],
   "source": [
    "import socket\n",
    "\n",
    "with socket.socket(socket.AF_INET, socket.SOCK_STREAM) as s:\n",
    "    # サーバを指定\n",
    "    s.connect(('150.12.70.156', 5025))\n",
    "    # サーバにメッセージを送る\n",
    "    s.sendall(b'SYST:COMM:RLST')\n",
    "    # ネットワークのバッファサイズは1024。サーバからの文字列を取得する\n",
    "    data = s.recv(1024)\n",
    "    #\n",
    "    print(repr(data))"
   ]
  },
  {
   "cell_type": "code",
   "execution_count": 1,
   "metadata": {},
   "outputs": [
    {
     "name": "stdout",
     "output_type": "stream",
     "text": [
      "Collecting pyusb\n",
      "\n",
      "\n",
      "\n",
      "  Downloading pyusb-1.2.1-py3-none-any.whl (58 kB)\n",
      "\n",
      "\n",
      "\n",
      "Installing collected packages: pyusb\n",
      "\n",
      "\n",
      "\n",
      "Successfully installed pyusb-1.2.1\n",
      "\n",
      "\n",
      "\n",
      "Note: you may need to restart the kernel to use updated packages.\n"
     ]
    }
   ],
   "source": [
    "pip install pyusb"
   ]
  },
  {
   "cell_type": "code",
   "execution_count": 2,
   "metadata": {},
   "outputs": [
    {
     "name": "stdout",
     "output_type": "stream",
     "text": [
      "Requirement already satisfied: pyvisa in c:\\users\\wadat\\anaconda3\\lib\\site-packages (1.11.3)\n",
      "\n",
      "\n",
      "\n",
      "Requirement already satisfied: typing-extensions in c:\\users\\wadat\\anaconda3\\lib\\site-packages (from pyvisa) (3.7.4.3)\n",
      "\n",
      "\n",
      "\n",
      "Note: you may need to restart the kernel to use updated packages.\n"
     ]
    }
   ],
   "source": [
    "pip install pyvisa"
   ]
  },
  {
   "cell_type": "code",
   "execution_count": 43,
   "metadata": {},
   "outputs": [
    {
     "name": "stdout",
     "output_type": "stream",
     "text": [
      "USBにVISA対応計測器がありません\n",
      "\n",
      "\n",
      "\n",
      "\n"
     ]
    },
    {
     "ename": "SystemExit",
     "evalue": "-1",
     "output_type": "error",
     "traceback": [
      "An exception has occurred, use %tb to see the full traceback.\n",
      "\u001b[1;31mSystemExit\u001b[0m\u001b[1;31m:\u001b[0m -1\n"
     ]
    },
    {
     "name": "stderr",
     "output_type": "stream",
     "text": [
      "C:\\Users\\wadat\\anaconda3\\lib\\site-packages\\IPython\\core\\interactiveshell.py:3426: UserWarning: To exit: use 'exit', 'quit', or Ctrl-D.\n",
      "\n",
      "\n",
      "\n",
      "  warn(\"To exit: use 'exit', 'quit', or Ctrl-D.\", stacklevel=1)\n"
     ]
    }
   ],
   "source": [
    "import sys\n",
    "import pyvisa as visa\n",
    "\n",
    "rm = visa.ResourceManager()\n",
    "\n",
    "usb = list(filter(lambda x: 'USB' in x, rm.list_resources()))\n",
    "if len(usb) == 0:\n",
    "    print(\"USBにVISA対応計測器がありません\\n\")\n",
    "    sys.exit(-1)\n",
    "\n",
    "    \n",
    "dso2024a = list(filter(lambda x: '::0x0957::0x1796::' in x,usb))\n",
    "if len(dso2024a) != 1:\n",
    "    print(\"KEYSIGHT InfiniVision DSO-X 2024Aが見つかりません\\n\")\n",
    "    sys.exit(-1)\n",
    "    \n",
    "dso2024a = rm.open_resource(dso2024a[0])\n",
    "print(dso2024a.query(\"*IDN?\"))"
   ]
  },
  {
   "cell_type": "code",
   "execution_count": 2,
   "metadata": {},
   "outputs": [
    {
     "ename": "IndentationError",
     "evalue": "unexpected indent (<ipython-input-2-90bfb243d71b>, line 20)",
     "output_type": "error",
     "traceback": [
      "\u001b[1;36m  File \u001b[1;32m\"<ipython-input-2-90bfb243d71b>\"\u001b[1;36m, line \u001b[1;32m20\u001b[0m\n\u001b[1;33m    try:\u001b[0m\n\u001b[1;37m    ^\u001b[0m\n\u001b[1;31mIndentationError\u001b[0m\u001b[1;31m:\u001b[0m unexpected indent\n"
     ]
    }
   ],
   "source": [
    "# coding:utf-8\n",
    "import visa # pyVISA モジュール\n",
    "from time import sleep\n",
    "def main_VISA():\n",
    "# LAN Socket\n",
    "    ipAddr = '150.12.70.156' # IPv4 アドレス指定\n",
    "    ports = '5025' # Socket ポート指定\n",
    "    visaAddr = 'TCPIP0::' + ipAddr + '::' + ports +'::SOCKET'\n",
    "# LXI\n",
    "# visaAddr = 'TCPIP0::' + ipAddr + '::inst0::INSTR'\n",
    "# USBTMC\n",
    "# USBVid = '0x098F' # VenderID\n",
    "# USBPid = '0x0127' # ProductID\n",
    "# USBSN = '15050232' # Serial Number\n",
    "# visaAddr = 'USB0::' + USBVid + '::' + USBPid + '::' + USBSN + '::INSTR'\n",
    "# GP-IB\n",
    "# GPAddr = '8' # GP-IB Address\n",
    "# visaAddr = 'GPIB::' + GPAddr\n",
    "# デバイスを検索し一覧表示します\n",
    "     try:\n",
    "        rm = visa.ResourceManager()\n",
    "        instruments = rm.list_resources('?*')\n",
    "        if len(instruments) > 0:\n",
    "            print ('Device List')\n",
    "            for num, device in enumerate(instruments):\n",
    "                print(f' {num}: {device}')\n",
    "# 選択されたデバイスと通信を行います\n",
    "            num = int(input('¥nSelect Device ? '))\n",
    "            ass = len(instruments)\n",
    "            if (num < len(instruments)):\n",
    "                visaAddr = instruments[num]\n",
    "                instr = rm.open_resource(visaAddr)\n",
    "                if instr.resource_name.startswith('ASRL') or instr.resource_name.endswith('SOCKET'):\n",
    "                    instr.read_termination = '¥n'\n",
    "                    instr.write_termination = '¥n'\n",
    "                instr.write('*idn?')\n",
    "                print(instr.read())\n",
    "                sleep(0.1)\n",
    "                instr.close()\n",
    "            else:\n",
    "                print('No Device!')\n",
    "        else:\n",
    "            print('No Device!')\n",
    "# Error 処理\n",
    "    except:\n",
    "        print('Device Error')\n",
    "# デバイスとの通信を終了します。\n",
    "    rm.close()\n",
    "if __name__ == '__main__':\n",
    "    main_VISA()"
   ]
  },
  {
   "cell_type": "code",
   "execution_count": 10,
   "metadata": {},
   "outputs": [],
   "source": [
    "import pyvisa\n",
    "# 制御対象計測器の指定（LANを介した制御の例）"
   ]
  },
  {
   "cell_type": "code",
   "execution_count": 11,
   "metadata": {},
   "outputs": [],
   "source": [
    "rm = pyvisa.ResourceManager()"
   ]
  },
  {
   "cell_type": "code",
   "execution_count": 15,
   "metadata": {},
   "outputs": [],
   "source": [
    "inst=rm.open_resource('TCPIP0::150.12.70.156::INSTR')"
   ]
  },
  {
   "cell_type": "code",
   "execution_count": 70,
   "metadata": {},
   "outputs": [
    {
     "name": "stdout",
     "output_type": "stream",
     "text": [
      "'+1.99900E+00\\n'\n"
     ]
    }
   ],
   "source": [
    "# 測定及びデータの問い合わせ（メーカー・機種により引数は変わる）\n",
    "curData=inst.query(\"MEAS:VOLT?\")\n",
    "# 測定データの表示\n",
    "print(repr(curData))"
   ]
  },
  {
   "cell_type": "code",
   "execution_count": 71,
   "metadata": {},
   "outputs": [],
   "source": [
    "# 測定及びデータの問い合わせ（メーカー・機種により引数は変わる）\n",
    "\n",
    "curData=inst.write(\"VOLT 2\")\n",
    "\n",
    "# 測定データの表示\n"
   ]
  },
  {
   "cell_type": "code",
   "execution_count": 7,
   "metadata": {},
   "outputs": [
    {
     "name": "stdout",
     "output_type": "stream",
     "text": [
      "Requirement already satisfied: pyserial in c:\\users\\wadat\\anaconda3\\lib\\site-packages (3.5)\n",
      "\n",
      "\n",
      "\n",
      "Note: you may need to restart the kernel to use updated packages.\n"
     ]
    }
   ],
   "source": [
    "pip install pyserial"
   ]
  },
  {
   "cell_type": "code",
   "execution_count": 1,
   "metadata": {},
   "outputs": [],
   "source": [
    "import serial\n"
   ]
  },
  {
   "cell_type": "code",
   "execution_count": 2,
   "metadata": {},
   "outputs": [],
   "source": [
    "port = \"COM3\" # 調べたシリアル番号\n",
    "byte = 4096    # 適当なサイズ（読み出せる範囲で）\n"
   ]
  },
  {
   "cell_type": "code",
   "execution_count": 3,
   "metadata": {},
   "outputs": [],
   "source": [
    "ser = serial.Serial(port=port)\n"
   ]
  },
  {
   "cell_type": "code",
   "execution_count": 4,
   "metadata": {},
   "outputs": [
    {
     "data": {
      "text/plain": [
       "6"
      ]
     },
     "execution_count": 4,
     "metadata": {},
     "output_type": "execute_result"
    }
   ],
   "source": [
    "ser.write(b\"*IDN?\\n\")\n"
   ]
  },
  {
   "cell_type": "code",
   "execution_count": null,
   "metadata": {},
   "outputs": [],
   "source": [
    "ret = ser.read(size=byte)\n"
   ]
  },
  {
   "cell_type": "code",
   "execution_count": null,
   "metadata": {},
   "outputs": [],
   "source": [
    "print(ret)"
   ]
  },
  {
   "cell_type": "code",
   "execution_count": 6,
   "metadata": {},
   "outputs": [],
   "source": [
    "ser.close()"
   ]
  },
  {
   "cell_type": "code",
   "execution_count": 5,
   "metadata": {},
   "outputs": [
    {
     "ename": "SerialException",
     "evalue": "could not open port 'COM3': PermissionError(13, 'アクセスが拒否されました。', None, 5)",
     "output_type": "error",
     "traceback": [
      "\u001b[1;31m---------------------------------------------------------------------------\u001b[0m",
      "\u001b[1;31mSerialException\u001b[0m                           Traceback (most recent call last)",
      "\u001b[1;32m<ipython-input-5-f9f58bfb20cd>\u001b[0m in \u001b[0;36m<module>\u001b[1;34m\u001b[0m\n\u001b[0;32m      1\u001b[0m \u001b[1;32mimport\u001b[0m \u001b[0mserial\u001b[0m\u001b[1;33m\u001b[0m\u001b[1;33m\u001b[0m\u001b[0m\n\u001b[0;32m      2\u001b[0m \u001b[1;33m\u001b[0m\u001b[0m\n\u001b[1;32m----> 3\u001b[1;33m \u001b[0mcomport\u001b[0m \u001b[1;33m=\u001b[0m \u001b[0mserial\u001b[0m\u001b[1;33m.\u001b[0m\u001b[0mSerial\u001b[0m\u001b[1;33m(\u001b[0m\u001b[1;34m'COM3'\u001b[0m\u001b[1;33m,\u001b[0m \u001b[0mbaudrate\u001b[0m\u001b[1;33m=\u001b[0m\u001b[1;36m19200\u001b[0m\u001b[1;33m,\u001b[0m \u001b[0mparity\u001b[0m\u001b[1;33m=\u001b[0m\u001b[0mserial\u001b[0m\u001b[1;33m.\u001b[0m\u001b[0mPARITY_NONE\u001b[0m\u001b[1;33m)\u001b[0m\u001b[1;33m\u001b[0m\u001b[1;33m\u001b[0m\u001b[0m\n\u001b[0m\u001b[0;32m      4\u001b[0m \u001b[0mrecv_data\u001b[0m \u001b[1;33m=\u001b[0m \u001b[0mcomport\u001b[0m\u001b[1;33m.\u001b[0m\u001b[0mread\u001b[0m\u001b[1;33m(\u001b[0m\u001b[1;36m12\u001b[0m\u001b[1;33m)\u001b[0m\u001b[1;33m\u001b[0m\u001b[1;33m\u001b[0m\u001b[0m\n\u001b[0;32m      5\u001b[0m \u001b[0mmeas_data\u001b[0m \u001b[1;33m=\u001b[0m \u001b[0mfloat\u001b[0m\u001b[1;33m(\u001b[0m\u001b[0mrecv_data\u001b[0m\u001b[1;33m.\u001b[0m\u001b[0mdecode\u001b[0m\u001b[1;33m(\u001b[0m\u001b[1;34m'utf-8'\u001b[0m\u001b[1;33m)\u001b[0m\u001b[1;33m.\u001b[0m\u001b[0msplit\u001b[0m\u001b[1;33m(\u001b[0m\u001b[1;34m'+'\u001b[0m\u001b[1;33m)\u001b[0m\u001b[1;33m[\u001b[0m\u001b[1;36m1\u001b[0m\u001b[1;33m]\u001b[0m\u001b[1;33m)\u001b[0m\u001b[1;33m\u001b[0m\u001b[1;33m\u001b[0m\u001b[0m\n",
      "\u001b[1;32m~\\anaconda3\\lib\\site-packages\\serial\\serialwin32.py\u001b[0m in \u001b[0;36m__init__\u001b[1;34m(self, *args, **kwargs)\u001b[0m\n\u001b[0;32m     31\u001b[0m         \u001b[0mself\u001b[0m\u001b[1;33m.\u001b[0m\u001b[0m_overlapped_read\u001b[0m \u001b[1;33m=\u001b[0m \u001b[1;32mNone\u001b[0m\u001b[1;33m\u001b[0m\u001b[1;33m\u001b[0m\u001b[0m\n\u001b[0;32m     32\u001b[0m         \u001b[0mself\u001b[0m\u001b[1;33m.\u001b[0m\u001b[0m_overlapped_write\u001b[0m \u001b[1;33m=\u001b[0m \u001b[1;32mNone\u001b[0m\u001b[1;33m\u001b[0m\u001b[1;33m\u001b[0m\u001b[0m\n\u001b[1;32m---> 33\u001b[1;33m         \u001b[0msuper\u001b[0m\u001b[1;33m(\u001b[0m\u001b[0mSerial\u001b[0m\u001b[1;33m,\u001b[0m \u001b[0mself\u001b[0m\u001b[1;33m)\u001b[0m\u001b[1;33m.\u001b[0m\u001b[0m__init__\u001b[0m\u001b[1;33m(\u001b[0m\u001b[1;33m*\u001b[0m\u001b[0margs\u001b[0m\u001b[1;33m,\u001b[0m \u001b[1;33m**\u001b[0m\u001b[0mkwargs\u001b[0m\u001b[1;33m)\u001b[0m\u001b[1;33m\u001b[0m\u001b[1;33m\u001b[0m\u001b[0m\n\u001b[0m\u001b[0;32m     34\u001b[0m \u001b[1;33m\u001b[0m\u001b[0m\n\u001b[0;32m     35\u001b[0m     \u001b[1;32mdef\u001b[0m \u001b[0mopen\u001b[0m\u001b[1;33m(\u001b[0m\u001b[0mself\u001b[0m\u001b[1;33m)\u001b[0m\u001b[1;33m:\u001b[0m\u001b[1;33m\u001b[0m\u001b[1;33m\u001b[0m\u001b[0m\n",
      "\u001b[1;32m~\\anaconda3\\lib\\site-packages\\serial\\serialutil.py\u001b[0m in \u001b[0;36m__init__\u001b[1;34m(self, port, baudrate, bytesize, parity, stopbits, timeout, xonxoff, rtscts, write_timeout, dsrdtr, inter_byte_timeout, exclusive, **kwargs)\u001b[0m\n\u001b[0;32m    242\u001b[0m \u001b[1;33m\u001b[0m\u001b[0m\n\u001b[0;32m    243\u001b[0m         \u001b[1;32mif\u001b[0m \u001b[0mport\u001b[0m \u001b[1;32mis\u001b[0m \u001b[1;32mnot\u001b[0m \u001b[1;32mNone\u001b[0m\u001b[1;33m:\u001b[0m\u001b[1;33m\u001b[0m\u001b[1;33m\u001b[0m\u001b[0m\n\u001b[1;32m--> 244\u001b[1;33m             \u001b[0mself\u001b[0m\u001b[1;33m.\u001b[0m\u001b[0mopen\u001b[0m\u001b[1;33m(\u001b[0m\u001b[1;33m)\u001b[0m\u001b[1;33m\u001b[0m\u001b[1;33m\u001b[0m\u001b[0m\n\u001b[0m\u001b[0;32m    245\u001b[0m \u001b[1;33m\u001b[0m\u001b[0m\n\u001b[0;32m    246\u001b[0m     \u001b[1;31m#  -  -  -  -  -  -  -  -  -  -  -  -  -  -  -  -  -  -  -  -  -  -  -  -\u001b[0m\u001b[1;33m\u001b[0m\u001b[1;33m\u001b[0m\u001b[1;33m\u001b[0m\u001b[0m\n",
      "\u001b[1;32m~\\anaconda3\\lib\\site-packages\\serial\\serialwin32.py\u001b[0m in \u001b[0;36mopen\u001b[1;34m(self)\u001b[0m\n\u001b[0;32m     62\u001b[0m         \u001b[1;32mif\u001b[0m \u001b[0mself\u001b[0m\u001b[1;33m.\u001b[0m\u001b[0m_port_handle\u001b[0m \u001b[1;33m==\u001b[0m \u001b[0mwin32\u001b[0m\u001b[1;33m.\u001b[0m\u001b[0mINVALID_HANDLE_VALUE\u001b[0m\u001b[1;33m:\u001b[0m\u001b[1;33m\u001b[0m\u001b[1;33m\u001b[0m\u001b[0m\n\u001b[0;32m     63\u001b[0m             \u001b[0mself\u001b[0m\u001b[1;33m.\u001b[0m\u001b[0m_port_handle\u001b[0m \u001b[1;33m=\u001b[0m \u001b[1;32mNone\u001b[0m    \u001b[1;31m# 'cause __del__ is called anyway\u001b[0m\u001b[1;33m\u001b[0m\u001b[1;33m\u001b[0m\u001b[0m\n\u001b[1;32m---> 64\u001b[1;33m             \u001b[1;32mraise\u001b[0m \u001b[0mSerialException\u001b[0m\u001b[1;33m(\u001b[0m\u001b[1;34m\"could not open port {!r}: {!r}\"\u001b[0m\u001b[1;33m.\u001b[0m\u001b[0mformat\u001b[0m\u001b[1;33m(\u001b[0m\u001b[0mself\u001b[0m\u001b[1;33m.\u001b[0m\u001b[0mportstr\u001b[0m\u001b[1;33m,\u001b[0m \u001b[0mctypes\u001b[0m\u001b[1;33m.\u001b[0m\u001b[0mWinError\u001b[0m\u001b[1;33m(\u001b[0m\u001b[1;33m)\u001b[0m\u001b[1;33m)\u001b[0m\u001b[1;33m)\u001b[0m\u001b[1;33m\u001b[0m\u001b[1;33m\u001b[0m\u001b[0m\n\u001b[0m\u001b[0;32m     65\u001b[0m \u001b[1;33m\u001b[0m\u001b[0m\n\u001b[0;32m     66\u001b[0m         \u001b[1;32mtry\u001b[0m\u001b[1;33m:\u001b[0m\u001b[1;33m\u001b[0m\u001b[1;33m\u001b[0m\u001b[0m\n",
      "\u001b[1;31mSerialException\u001b[0m: could not open port 'COM3': PermissionError(13, 'アクセスが拒否されました。', None, 5)"
     ]
    }
   ],
   "source": [
    "import serial\n",
    "\n",
    "comport = serial.Serial('COM3', baudrate=19200, parity=serial.PARITY_NONE)\n",
    "recv_data = comport.read(12)\n",
    "meas_data = float(recv_data.decode('utf-8').split('+')[1])\n",
    "comport.close()"
   ]
  },
  {
   "cell_type": "code",
   "execution_count": 1,
   "metadata": {},
   "outputs": [
    {
     "name": "stdout",
     "output_type": "stream",
     "text": [
      "Serial<id=0x2586b64eb20, open=True>(port='COM3', baudrate=19200, bytesize=8, parity='N', stopbits=1, timeout=0.1, xonxoff=False, rtscts=False, dsrdtr=False)\n"
     ]
    }
   ],
   "source": [
    "import serial\n",
    "\n",
    "ser = serial.Serial(\"COM3\", 19200, timeout = 0.1)\n",
    "print(ser)\n",
    "ser.close()"
   ]
  },
  {
   "cell_type": "code",
   "execution_count": 83,
   "metadata": {},
   "outputs": [
    {
     "name": "stdout",
     "output_type": "stream",
     "text": [
      "b'\\x02\\xa2\\xff\\xf5g\\x02\\xa2\\xff\\xf5g\\x02\\xa2\\xff\\xf5g\\x02\\xa2\\xff\\xf5g\\x02\\xa2\\xff'\n",
      "\n",
      "\n",
      "\n",
      "(2, 162, 255, 245, 103, 2, 162, 255, 245, 103, 2, 162, 255, 245, 103, 2, 162, 255, 245, 103, 2, 162, 255)\n"
     ]
    }
   ],
   "source": [
    "import serial\n",
    "from struct import *\n",
    "\n",
    "ser = serial.Serial(\"COM3\", 19200, timeout = 0.5)\n",
    "recv_data = ser.read(23)\n",
    "print(recv_data)\n",
    "reply =unpack('23B',recv_data)\n",
    "print(reply)\n",
    "\n",
    "ser.close()"
   ]
  },
  {
   "cell_type": "code",
   "execution_count": 43,
   "metadata": {},
   "outputs": [],
   "source": [
    "ser.close()"
   ]
  },
  {
   "cell_type": "code",
   "execution_count": 4,
   "metadata": {},
   "outputs": [
    {
     "ename": "KeyboardInterrupt",
     "evalue": "",
     "output_type": "error",
     "traceback": [
      "\u001b[1;31m---------------------------------------------------------------------------\u001b[0m",
      "\u001b[1;31mKeyboardInterrupt\u001b[0m                         Traceback (most recent call last)",
      "\u001b[1;32m<ipython-input-4-850e892dcd28>\u001b[0m in \u001b[0;36m<module>\u001b[1;34m\u001b[0m\n\u001b[0;32m      2\u001b[0m \u001b[1;33m\u001b[0m\u001b[0m\n\u001b[0;32m      3\u001b[0m \u001b[0mser\u001b[0m \u001b[1;33m=\u001b[0m \u001b[0mserial\u001b[0m\u001b[1;33m.\u001b[0m\u001b[0mSerial\u001b[0m\u001b[1;33m(\u001b[0m\u001b[1;34m'com3'\u001b[0m\u001b[1;33m,\u001b[0m \u001b[1;36m9600\u001b[0m\u001b[1;33m,\u001b[0m \u001b[0mtimeout\u001b[0m\u001b[1;33m=\u001b[0m\u001b[1;36m0.5\u001b[0m\u001b[1;33m)\u001b[0m\u001b[1;33m\u001b[0m\u001b[1;33m\u001b[0m\u001b[0m\n\u001b[1;32m----> 4\u001b[1;33m \u001b[0mline\u001b[0m \u001b[1;33m=\u001b[0m \u001b[0mser\u001b[0m\u001b[1;33m.\u001b[0m\u001b[0mreadline\u001b[0m\u001b[1;33m(\u001b[0m\u001b[1;33m)\u001b[0m\u001b[1;33m\u001b[0m\u001b[1;33m\u001b[0m\u001b[0m\n\u001b[0m\u001b[0;32m      5\u001b[0m \u001b[0mprint\u001b[0m\u001b[1;33m(\u001b[0m\u001b[0mline\u001b[0m\u001b[1;33m)\u001b[0m\u001b[1;33m\u001b[0m\u001b[1;33m\u001b[0m\u001b[0m\n",
      "\u001b[1;32m~\\anaconda3\\lib\\site-packages\\serial\\serialwin32.py\u001b[0m in \u001b[0;36mread\u001b[1;34m(self, size)\u001b[0m\n\u001b[0;32m    286\u001b[0m                 \u001b[1;32mif\u001b[0m \u001b[1;32mnot\u001b[0m \u001b[0mread_ok\u001b[0m \u001b[1;32mand\u001b[0m \u001b[0mwin32\u001b[0m\u001b[1;33m.\u001b[0m\u001b[0mGetLastError\u001b[0m\u001b[1;33m(\u001b[0m\u001b[1;33m)\u001b[0m \u001b[1;32mnot\u001b[0m \u001b[1;32min\u001b[0m \u001b[1;33m(\u001b[0m\u001b[0mwin32\u001b[0m\u001b[1;33m.\u001b[0m\u001b[0mERROR_SUCCESS\u001b[0m\u001b[1;33m,\u001b[0m \u001b[0mwin32\u001b[0m\u001b[1;33m.\u001b[0m\u001b[0mERROR_IO_PENDING\u001b[0m\u001b[1;33m)\u001b[0m\u001b[1;33m:\u001b[0m\u001b[1;33m\u001b[0m\u001b[1;33m\u001b[0m\u001b[0m\n\u001b[0;32m    287\u001b[0m                     \u001b[1;32mraise\u001b[0m \u001b[0mSerialException\u001b[0m\u001b[1;33m(\u001b[0m\u001b[1;34m\"ReadFile failed ({!r})\"\u001b[0m\u001b[1;33m.\u001b[0m\u001b[0mformat\u001b[0m\u001b[1;33m(\u001b[0m\u001b[0mctypes\u001b[0m\u001b[1;33m.\u001b[0m\u001b[0mWinError\u001b[0m\u001b[1;33m(\u001b[0m\u001b[1;33m)\u001b[0m\u001b[1;33m)\u001b[0m\u001b[1;33m)\u001b[0m\u001b[1;33m\u001b[0m\u001b[1;33m\u001b[0m\u001b[0m\n\u001b[1;32m--> 288\u001b[1;33m                 result_ok = win32.GetOverlappedResult(\n\u001b[0m\u001b[0;32m    289\u001b[0m                     \u001b[0mself\u001b[0m\u001b[1;33m.\u001b[0m\u001b[0m_port_handle\u001b[0m\u001b[1;33m,\u001b[0m\u001b[1;33m\u001b[0m\u001b[1;33m\u001b[0m\u001b[0m\n\u001b[0;32m    290\u001b[0m                     \u001b[0mctypes\u001b[0m\u001b[1;33m.\u001b[0m\u001b[0mbyref\u001b[0m\u001b[1;33m(\u001b[0m\u001b[0mself\u001b[0m\u001b[1;33m.\u001b[0m\u001b[0m_overlapped_read\u001b[0m\u001b[1;33m)\u001b[0m\u001b[1;33m,\u001b[0m\u001b[1;33m\u001b[0m\u001b[1;33m\u001b[0m\u001b[0m\n",
      "\u001b[1;31mKeyboardInterrupt\u001b[0m: "
     ]
    }
   ],
   "source": [
    "import serial\n",
    " \n",
    "ser = serial.Serial('com3', 9600, timeout=0.5)\n",
    "line = ser.readline()\n",
    "print(line)"
   ]
  },
  {
   "cell_type": "code",
   "execution_count": 40,
   "metadata": {},
   "outputs": [
    {
     "ename": "AttributeError",
     "evalue": "'bytes' object has no attribute 'encode'",
     "output_type": "error",
     "traceback": [
      "\u001b[1;31m---------------------------------------------------------------------------\u001b[0m",
      "\u001b[1;31mAttributeError\u001b[0m                            Traceback (most recent call last)",
      "\u001b[1;32m<ipython-input-40-e1f6d251a293>\u001b[0m in \u001b[0;36m<module>\u001b[1;34m\u001b[0m\n\u001b[0;32m     12\u001b[0m \u001b[1;33m\u001b[0m\u001b[0m\n\u001b[0;32m     13\u001b[0m \u001b[0mx\u001b[0m \u001b[1;33m=\u001b[0m \u001b[1;34mb\"\\x02\\xc1\\x03\"\u001b[0m\u001b[1;33m\u001b[0m\u001b[1;33m\u001b[0m\u001b[0m\n\u001b[1;32m---> 14\u001b[1;33m \u001b[0mser\u001b[0m\u001b[1;33m.\u001b[0m\u001b[0mwrite\u001b[0m\u001b[1;33m(\u001b[0m\u001b[0mx\u001b[0m\u001b[1;33m.\u001b[0m\u001b[0mencode\u001b[0m\u001b[1;33m(\u001b[0m\u001b[1;34m'ASCII'\u001b[0m\u001b[1;33m)\u001b[0m\u001b[1;33m)\u001b[0m\u001b[1;33m\u001b[0m\u001b[1;33m\u001b[0m\u001b[0m\n\u001b[0m\u001b[0;32m     15\u001b[0m \u001b[0mprint\u001b[0m\u001b[1;33m(\u001b[0m\u001b[0mx\u001b[0m\u001b[1;33m)\u001b[0m\u001b[1;33m\u001b[0m\u001b[1;33m\u001b[0m\u001b[0m\n\u001b[0;32m     16\u001b[0m \u001b[1;33m\u001b[0m\u001b[0m\n",
      "\u001b[1;31mAttributeError\u001b[0m: 'bytes' object has no attribute 'encode'"
     ]
    }
   ],
   "source": [
    "import serial\n",
    "import struct\n",
    "\n",
    "ser = serial.Serial(\"com3\",19200,\n",
    "      parity = serial.PARITY_NONE,\n",
    "      bytesize = 8,\n",
    "      stopbits = 1,\n",
    "      #timeout = None,\n",
    "      #xonxoff = 0,\n",
    "      #rtscts = 0,\n",
    "      )\n",
    "\n",
    "x = b\"\\x02\\xc1\\x03\"\n",
    "ser.write(x.encode('ASCII'))\n",
    "print(x)\n",
    "\n",
    "ser.close()"
   ]
  },
  {
   "cell_type": "code",
   "execution_count": 47,
   "metadata": {},
   "outputs": [
    {
     "name": "stdout",
     "output_type": "stream",
     "text": [
      "[2, 194, 1]\n",
      "\n",
      "\n",
      "\n",
      "b'\\x02\\xc2\\x01'\n",
      "\n",
      "\n",
      "\n",
      "---\n",
      "\n",
      "\n",
      "\n",
      "---\n"
     ]
    }
   ],
   "source": [
    "import serial\n",
    "import array\n",
    "\n",
    "\n",
    "# 送信　例えば、\n",
    "senddata=[0x02,0x00c2,1]\n",
    "\n",
    "print(senddata)\n",
    "# print出力すると10進表記になる\n",
    "# [65, 90, 128, 7, 1, 0, 0, 100, 255, 255, 2, 103]\n",
    "\n",
    "# Binaryに変換\n",
    "send_binary =bytes(senddata) \n",
    "# bytearray()でもよい\n",
    "# send_binary =bytearray(senddata) \n",
    "\n",
    "print(send_binary)\n",
    "# 送信データBinary\n",
    "# b'\\xa5Z\\x80\\x07\\x01\\x00\\x00d\\xff\\xff\\x02g'\n",
    "\n",
    "# pyserialで送信\n",
    "with serial.Serial('COM3', 115200) as ser:\n",
    "    print('---')\n",
    "    ser.write(send_binary)\n",
    "    print('---')"
   ]
  },
  {
   "cell_type": "code",
   "execution_count": 1,
   "metadata": {},
   "outputs": [
    {
     "data": {
      "text/plain": [
       "-11"
      ]
     },
     "execution_count": 1,
     "metadata": {},
     "output_type": "execute_result"
    }
   ],
   "source": [
    "int.from_bytes(b'\\xff\\xf5', 'big', signed=True)"
   ]
  },
  {
   "cell_type": "code",
   "execution_count": 57,
   "metadata": {},
   "outputs": [
    {
     "data": {
      "text/plain": [
       "-1000"
      ]
     },
     "execution_count": 57,
     "metadata": {},
     "output_type": "execute_result"
    }
   ],
   "source": [
    "struct.unpack('>h', b'\\xfc\\x18')[0] "
   ]
  },
  {
   "cell_type": "code",
   "execution_count": 92,
   "metadata": {},
   "outputs": [
    {
     "name": "stdout",
     "output_type": "stream",
     "text": [
      "18\n",
      "\n",
      "\n",
      "\n",
      "05:30\n"
     ]
    }
   ],
   "source": [
    "s = 'date: 2021/03/23, time: 05:30'\n",
    "\n",
    "target = 'time: '  # 「time: 」より後ろ（時刻）を抽出したい\n",
    "idx = s.find(target)\n",
    "r = s[idx+len(target):]\n",
    "print(idx)\n",
    "print(r)"
   ]
  },
  {
   "cell_type": "code",
   "execution_count": 95,
   "metadata": {},
   "outputs": [
    {
     "ename": "SyntaxError",
     "evalue": "unexpected character after line continuation character (<ipython-input-95-f229ee055a10>, line 9)",
     "output_type": "error",
     "traceback": [
      "\u001b[1;36m  File \u001b[1;32m\"<ipython-input-95-f229ee055a10>\"\u001b[1;36m, line \u001b[1;32m9\u001b[0m\n\u001b[1;33m    r = s[:\\x02]  # スライスで半角空白文字よりも前を抽出\u001b[0m\n\u001b[1;37m                                      ^\u001b[0m\n\u001b[1;31mSyntaxError\u001b[0m\u001b[1;31m:\u001b[0m unexpected character after line continuation character\n"
     ]
    }
   ],
   "source": [
    "s = '\\x02\\xa2\\x00\\xfc_\\x02\\xa1\\x11\\x00K\\x02\\xa2\\x00\\xfc_\\x02'\n",
    "\n",
    "target = 'xa2'  # 「time: 」より後ろ（時刻）を抽出したい\n",
    "idx = s.find(target)\n",
    "r = s[idx+len(target):]\n",
    "print(r)\n",
    "\n",
    "idx = s.find(target)\n",
    "r = s[:\\x02]  # スライスで半角空白文字よりも前を抽出\n",
    "\n",
    "print(r)"
   ]
  },
  {
   "cell_type": "code",
   "execution_count": 97,
   "metadata": {},
   "outputs": [
    {
     "ename": "TypeError",
     "evalue": "slice indices must be integers or None or have an __index__ method",
     "output_type": "error",
     "traceback": [
      "\u001b[1;31m---------------------------------------------------------------------------\u001b[0m",
      "\u001b[1;31mTypeError\u001b[0m                                 Traceback (most recent call last)",
      "\u001b[1;32m<ipython-input-97-fecec7f6bc0c>\u001b[0m in \u001b[0;36m<module>\u001b[1;34m\u001b[0m\n\u001b[0;32m      3\u001b[0m \u001b[0mtarget\u001b[0m \u001b[1;33m=\u001b[0m \u001b[1;34m' '\u001b[0m\u001b[1;33m\u001b[0m\u001b[1;33m\u001b[0m\u001b[0m\n\u001b[0;32m      4\u001b[0m \u001b[0midx\u001b[0m \u001b[1;33m=\u001b[0m \u001b[0ms\u001b[0m\u001b[1;33m.\u001b[0m\u001b[0mfind\u001b[0m\u001b[1;33m(\u001b[0m\u001b[0mtarget\u001b[0m\u001b[1;33m)\u001b[0m\u001b[1;33m\u001b[0m\u001b[1;33m\u001b[0m\u001b[0m\n\u001b[1;32m----> 5\u001b[1;33m \u001b[0mr\u001b[0m \u001b[1;33m=\u001b[0m \u001b[0ms\u001b[0m\u001b[1;33m[\u001b[0m\u001b[1;34m\"b\"\u001b[0m\u001b[1;33m:\u001b[0m\u001b[1;33m]\u001b[0m  \u001b[1;31m# スライスで半角空白文字のインデックス＋1以降を抽出\u001b[0m\u001b[1;33m\u001b[0m\u001b[1;33m\u001b[0m\u001b[0m\n\u001b[0m\u001b[0;32m      6\u001b[0m \u001b[1;33m\u001b[0m\u001b[0m\n\u001b[0;32m      7\u001b[0m \u001b[0mprint\u001b[0m\u001b[1;33m(\u001b[0m\u001b[0mr\u001b[0m\u001b[1;33m)\u001b[0m\u001b[1;33m\u001b[0m\u001b[1;33m\u001b[0m\u001b[0m\n",
      "\u001b[1;31mTypeError\u001b[0m: slice indices must be integers or None or have an __index__ method"
     ]
    }
   ],
   "source": [
    "s = 'abcdefg'\n",
    "\n",
    "target = ' '\n",
    "idx = s.find(target)\n",
    "r = s[\"b\":]  # スライスで半角空白文字のインデックス＋1以降を抽出\n",
    "\n",
    "print(r) "
   ]
  },
  {
   "cell_type": "code",
   "execution_count": 98,
   "metadata": {},
   "outputs": [
    {
     "name": "stdout",
     "output_type": "stream",
     "text": [
      "'America.My job is pilot.\\nMy eyesight is very good.'\n"
     ]
    }
   ],
   "source": [
    "import re\n",
    "\n",
    "x = \"I am Tom.\\nI am from America.My job is pilot.\\nMy eyesight is very good.\"\n",
    "m = re.search(r'America\\..*', x, flags=re.DOTALL)\n",
    "\n",
    "y = m.group(0) if m else None\n",
    "print(repr(y))"
   ]
  },
  {
   "cell_type": "code",
   "execution_count": 116,
   "metadata": {},
   "outputs": [
    {
     "name": "stdout",
     "output_type": "stream",
     "text": [
      "None\n"
     ]
    }
   ],
   "source": [
    "import re\n",
    "\n",
    "s = r'\\x02\\xa2\\x00\\xfc_'\n",
    "m = re.search(r'xa2\\..*', x, flags=re.DOTALL)\n",
    "\n",
    "y = m.group(0) if m else None\n",
    "print(repr(y))"
   ]
  },
  {
   "cell_type": "code",
   "execution_count": 108,
   "metadata": {},
   "outputs": [
    {
     "name": "stdout",
     "output_type": "stream",
     "text": [
      "¢\u0000ü_\n"
     ]
    }
   ],
   "source": [
    "y = s[s.find(\"\\xa2\"):]\n",
    "print(y)"
   ]
  },
  {
   "cell_type": "code",
   "execution_count": 115,
   "metadata": {},
   "outputs": [
    {
     "ename": "AttributeError",
     "evalue": "'NoneType' object has no attribute 'group'",
     "output_type": "error",
     "traceback": [
      "\u001b[1;31m---------------------------------------------------------------------------\u001b[0m",
      "\u001b[1;31mAttributeError\u001b[0m                            Traceback (most recent call last)",
      "\u001b[1;32m<ipython-input-115-f6f31a5466fe>\u001b[0m in \u001b[0;36m<module>\u001b[1;34m\u001b[0m\n\u001b[0;32m      6\u001b[0m \u001b[1;33m\u001b[0m\u001b[0m\n\u001b[0;32m      7\u001b[0m \u001b[1;33m\u001b[0m\u001b[0m\n\u001b[1;32m----> 8\u001b[1;33m \u001b[0mprint\u001b[0m\u001b[1;33m(\u001b[0m\u001b[0mn\u001b[0m\u001b[1;33m.\u001b[0m\u001b[0mgroup\u001b[0m\u001b[1;33m(\u001b[0m\u001b[1;33m)\u001b[0m\u001b[1;33m)\u001b[0m\u001b[1;33m\u001b[0m\u001b[1;33m\u001b[0m\u001b[0m\n\u001b[0m\u001b[0;32m      9\u001b[0m \u001b[1;31m# DEFG\u001b[0m\u001b[1;33m\u001b[0m\u001b[1;33m\u001b[0m\u001b[1;33m\u001b[0m\u001b[0m\n",
      "\u001b[1;31mAttributeError\u001b[0m: 'NoneType' object has no attribute 'group'"
     ]
    }
   ],
   "source": [
    "import re\n",
    "text = \"ABCDEFGHIJKLMNOPQRSTU\"\n",
    "s = r'\\x02\\xa2\\x00\\xfc_'\n",
    "m = re.search('D..G', text)\n",
    "n = re.search('2.._', s)\n",
    "\n",
    "\n",
    "print(n.group())\n",
    "# DEFG"
   ]
  },
  {
   "cell_type": "code",
   "execution_count": 2,
   "metadata": {},
   "outputs": [
    {
     "name": "stdout",
     "output_type": "stream",
     "text": [
      "\\x00\\xfc\n",
      "\n",
      "<class 'str'>\n",
      "\n",
      "b'\\\\x00\\\\xfc'\n",
      "\n",
      "<class 'bytes'>\n",
      "\n",
      "\\x00\\xfc\n",
      "\n",
      "<class 'str'>\n"
     ]
    },
    {
     "data": {
      "text/plain": [
       "6663128632962606691"
      ]
     },
     "execution_count": 2,
     "metadata": {},
     "output_type": "execute_result"
    }
   ],
   "source": [
    "import re\n",
    "\n",
    "s = r'\\x02\\xa2\\x00\\xfc_'\n",
    "y = s[s.find(\"a2\")+2:]\n",
    "z = y[0:8]\n",
    "\n",
    "print(z)\n",
    "print(type(z))\n",
    "\n",
    "o = z.encode(\"utf-8\")\n",
    "print(o)\n",
    "print(type(o))\n",
    "\n",
    "p = o.decode(\"utf-8\")\n",
    "print(p)\n",
    "print(type(p))\n",
    "\n",
    "\n",
    "int.from_bytes(o, 'big', signed=True)"
   ]
  },
  {
   "cell_type": "code",
   "execution_count": 34,
   "metadata": {},
   "outputs": [
    {
     "name": "stdout",
     "output_type": "stream",
     "text": [
      "b'\\x02\\xa2\\x00\\xfc_'\n",
      "\n",
      "<class 'bytes'>\n",
      "\n",
      "02a200fc5f\n",
      "\n",
      "b'\\x02\\xa2\\x00\\xfc_'\n",
      "\n",
      "<class 'str'>\n",
      "\n",
      "\\x00\\xfc\n"
     ]
    },
    {
     "data": {
      "text/plain": [
       "11307908191"
      ]
     },
     "execution_count": 34,
     "metadata": {},
     "output_type": "execute_result"
    }
   ],
   "source": [
    "import re\n",
    "\n",
    "# bytes\n",
    "a = b'\\x02\\xa2\\x00\\xfc_'\n",
    "\n",
    "print(a)\n",
    "print(type(a))\n",
    "\n",
    "aa = a.hex()\n",
    "print(aa)\n",
    "\n",
    "\n",
    "\n",
    "# decode bytes to string\n",
    "b = str(a)\n",
    "print(b)\n",
    "print(type(b))\n",
    "\n",
    "c = b[b.find(\"a2\")+2:]\n",
    "d = c[0:8]\n",
    "print(d)\n",
    "\n",
    "\n",
    "int.from_bytes(bytes, 'big', signed=True)"
   ]
  },
  {
   "cell_type": "code",
   "execution_count": 25,
   "metadata": {},
   "outputs": [
    {
     "name": "stdout",
     "output_type": "stream",
     "text": [
      "b'\\x02\\xa2\\x00\\xfc_'\n",
      "\n",
      "<class 'bytes'>\n",
      "\n",
      "\u0002�\u0000�_\n",
      "\n",
      "<class 'str'>\n",
      "\n",
      "�\u0000�_\n",
      "\n",
      "b'\\x02\\xef\\xbf\\xbd\\x00\\xef\\xbf\\xbd_'\n",
      "\n",
      "<class 'bytes'>\n"
     ]
    }
   ],
   "source": [
    "a = b'\\x02\\xa2\\x00\\xfc_'\n",
    "\n",
    "print(a)\n",
    "print(type(a))\n",
    "\n",
    "\n",
    "# decode bytes to string\n",
    "b = str(a, encoding='utf-8', errors='replace')\n",
    "print(b)\n",
    "print(type(b))\n",
    "\n",
    "x = b[b.find(\"a2\")+2:]\n",
    "y = x[0:8]\n",
    "print(y)\n",
    "\n",
    "\n",
    "c = b.encode()\n",
    "print(c)\n",
    "print(type(c))"
   ]
  },
  {
   "cell_type": "code",
   "execution_count": 2,
   "metadata": {},
   "outputs": [
    {
     "name": "stdout",
     "output_type": "stream",
     "text": [
      "b'\\x02\\xa2\\x00\\xfc_'\n",
      "<class 'bytes'>\n",
      "02a200fc5f\n",
      "<class 'str'>\n",
      "00fc\n",
      "<class 'str'>\n",
      "b'\\x00\\xfc'\n",
      "<class 'bytes'>\n",
      "252\n",
      "25.2\n"
     ]
    }
   ],
   "source": [
    "import re\n",
    "\n",
    "# bytes\n",
    "a = b'\\x02\\xa2\\x00\\xfc_'\n",
    "\n",
    "print(a)\n",
    "print(type(a))\n",
    "\n",
    "aa = a.hex()\n",
    "print(aa)\n",
    "print(type(aa))\n",
    "\n",
    "b = aa[aa.find(\"a2\")+2:]\n",
    "bb = b[0:4]\n",
    "print(bb)\n",
    "print(type(bb))\n",
    "\n",
    "c = bytes.fromhex(bb)\n",
    "print(c)\n",
    "print(type(c))\n",
    "\n",
    "d = int.from_bytes(c, 'big', signed=True)\n",
    "print(d)\n",
    "\n",
    "e = d/10\n",
    "print(e)\n",
    "\n"
   ]
  },
  {
   "cell_type": "code",
   "execution_count": 50,
   "metadata": {},
   "outputs": [
    {
     "name": "stdout",
     "output_type": "stream",
     "text": [
      "b'\\x02\\xa2\\x07\\nJ'\n",
      "<class 'bytes'>\n",
      "02a2070a4a\n",
      "<class 'str'>\n",
      "070a\n",
      "<class 'str'>\n",
      "b'\\x07\\n'\n",
      "<class 'bytes'>\n",
      "1802\n",
      "180.2\n"
     ]
    }
   ],
   "source": [
    "import re\n",
    "\n",
    "# bytes\n",
    "a = b'\\x02\\xa2\\x07\\nJ'\n",
    "\n",
    "print(a)\n",
    "print(type(a))\n",
    "\n",
    "aa = a.hex()\n",
    "print(aa)\n",
    "print(type(aa))\n",
    "\n",
    "b = aa[aa.find(\"a2\")+2:]\n",
    "bb = b[0:4]\n",
    "print(bb)\n",
    "print(type(bb))\n",
    "\n",
    "c = bytes.fromhex(bb)\n",
    "print(c)\n",
    "print(type(c))\n",
    "\n",
    "d = int.from_bytes(c, 'big', signed=True)\n",
    "print(d)\n",
    "\n",
    "e = d/10\n",
    "print(e)\n",
    "\n",
    "with open(\"untitled.txt\", 'a') as f:\n",
    "     print(e,file=f)"
   ]
  },
  {
   "cell_type": "code",
   "execution_count": null,
   "metadata": {},
   "outputs": [],
   "source": []
  }
 ],
 "metadata": {
  "kernelspec": {
   "display_name": "Python 3 (ipykernel)",
   "language": "python",
   "name": "python3"
  },
  "language_info": {
   "codemirror_mode": {
    "name": "ipython",
    "version": 3
   },
   "file_extension": ".py",
   "mimetype": "text/x-python",
   "name": "python",
   "nbconvert_exporter": "python",
   "pygments_lexer": "ipython3",
   "version": "3.8.12"
  }
 },
 "nbformat": 4,
 "nbformat_minor": 4
}
