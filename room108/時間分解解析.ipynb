{
 "cells": [
  {
   "cell_type": "code",
   "execution_count": 4,
   "metadata": {},
   "outputs": [
    {
     "name": "stdout",
     "output_type": "stream",
     "text": [
      "ok,div\n",
      "\n",
      "ok,sum\n",
      "\n",
      "ok,move\n"
     ]
    }
   ],
   "source": [
    "import numpy as np\n",
    "import matplotlib.pyplot as plt\n",
    "%matplotlib inline\n",
    "from PIL import Image\n",
    "import glob\n",
    "import cv2\n",
    "import os\n",
    "import shutil\n",
    "\n",
    "folder = \"C:/Users/wadat/Documents/2021_09_16_GdFeCo@UoH/Gd24SiN/0/1.1mW/\"\n",
    "\n",
    "\n",
    "#画像のコントラストをフォルダ内の枚数で割る\n",
    "for path1 in range(1,73):\n",
    "    for path2 in range(1,10):\n",
    "        path2_zero = str(path2)\n",
    "        r_file1 = folder + \"/\" + str(path1) + \"/\" + str(path2_zero) +\".bmp\"\n",
    "        os_file1 = folder + \"X/\" + str(path1)\n",
    "        w_file1 = folder + \"X/\" + str(path1) + \"/\" + str(path2_zero) + \".bmp\"\n",
    "        r_folder = folder + \"/\" + str(path1)\n",
    "        os.makedirs(os_file1, exist_ok=True)\n",
    "        list = os.listdir(r_folder)\n",
    "        sum_file = len(list)\n",
    "        img = cv2.imread(r_file1,0)\n",
    "        im = np.array(img)\n",
    "        div_file = im/sum_file\n",
    "        cv2.imwrite(w_file1, div_file)\n",
    "print(\"ok,div\")\n",
    "\n",
    "#割られた画像を足し合わせる\n",
    "for path1 in range(1,73):\n",
    "    sum=0\n",
    "    for path2 in range(1,10):\n",
    "        path2_zero = str(path2)\n",
    "        r_file2 = folder + \"X/\" + str(path1) + \"/\" + str(path2_zero) +\".bmp\"\n",
    "        os_file2 = folder + \"XX/\" + str(path1)\n",
    "        w_file2 = folder + \"XX/\"+str(path1) +\"/\" +str(path2_zero)+\".bmp\"\n",
    "        os.makedirs(os_file2, exist_ok=True)\n",
    "        img = cv2.imread(r_file2,0)\n",
    "        im = np.array(img)\n",
    "        sum += im\n",
    "    cv2.imwrite(w_file2, sum)\n",
    "print(\"ok,sum\")\n",
    "\n",
    "#結果画像を1つのフォルダにまとめる\n",
    "for path1 in range(1,73):\n",
    "    b_file1 = folder + \"XX/\" + str(path1) +\"/\" + \"9\" +\".bmp\"\n",
    "    os_file3 = folder + \"XXX/\"\n",
    "    a_file1 = folder + \"XXX/\" +str(path1) + \".bmp\"\n",
    "    os.makedirs(os_file3, exist_ok=True)\n",
    "    shutil.move(b_file1,a_file1)\n",
    "print(\"ok,move\")"
   ]
  },
  {
   "cell_type": "code",
   "execution_count": null,
   "metadata": {},
   "outputs": [],
   "source": []
  }
 ],
 "metadata": {
  "kernelspec": {
   "display_name": "Python 3 (ipykernel)",
   "language": "python",
   "name": "python3"
  },
  "language_info": {
   "codemirror_mode": {
    "name": "ipython",
    "version": 3
   },
   "file_extension": ".py",
   "mimetype": "text/x-python",
   "name": "python",
   "nbconvert_exporter": "python",
   "pygments_lexer": "ipython3",
   "version": "3.9.7"
  }
 },
 "nbformat": 4,
 "nbformat_minor": 4
}
