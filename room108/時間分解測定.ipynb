{
 "cells": [
  {
   "cell_type": "markdown",
   "metadata": {},
   "source": [
    "●Delayステージの位置を読み取り、txtファイルに保存"
   ]
  },
  {
   "cell_type": "code",
   "execution_count": 1,
   "metadata": {},
   "outputs": [
    {
     "name": "stdout",
     "output_type": "stream",
     "text": [
      "+0018181\n"
     ]
    }
   ],
   "source": [
    "import room108.module108.motorStatus\n",
    "room108.module108.motorStatus.status(\"./g\") #txtを作るpath"
   ]
  },
  {
   "cell_type": "markdown",
   "metadata": {},
   "source": [
    "●Delayステージの移動（相対位置）"
   ]
  },
  {
   "cell_type": "code",
   "execution_count": 4,
   "metadata": {},
   "outputs": [
    {
     "name": "stdout",
     "output_type": "stream",
     "text": [
      "b'OK\\r\\n'\n"
     ]
    }
   ],
   "source": [
    "import room108.module108.motorMove\n",
    "room108.module108.motorMove.move(-200) ## 入れた数だけ動く\n",
    "                        ## 動かした後sleep忘れずに"
   ]
  },
  {
   "cell_type": "markdown",
   "metadata": {},
   "source": [
    "●Delayステージの移動（絶対位置）"
   ]
  },
  {
   "cell_type": "code",
   "execution_count": 20,
   "metadata": {},
   "outputs": [
    {
     "name": "stdout",
     "output_type": "stream",
     "text": [
      "b'OK\\r\\n'\n"
     ]
    }
   ],
   "source": [
    "import module.motorMove\n",
    "module.motorMove.back(66000) "
   ]
  },
  {
   "cell_type": "markdown",
   "metadata": {},
   "source": [
    "●アッテネーターの移動（相対位置）"
   ]
  },
  {
   "cell_type": "code",
   "execution_count": 7,
   "metadata": {},
   "outputs": [
    {
     "name": "stdout",
     "output_type": "stream",
     "text": [
      "b'OK\\r\\n'\n"
     ]
    }
   ],
   "source": [
    "import module.attenuate\n",
    "module.attenuate.attenuateREL(-350)  ## 入れた絶対値まで移動する\n",
    "                                　　　## 動かした後sleep忘れずに"
   ]
  },
  {
   "cell_type": "markdown",
   "metadata": {},
   "source": [
    "●アッテネーターの移動（絶対位置）"
   ]
  },
  {
   "cell_type": "code",
   "execution_count": 7,
   "metadata": {},
   "outputs": [
    {
     "name": "stdout",
     "output_type": "stream",
     "text": [
      "b'OK\\r\\n'\n"
     ]
    }
   ],
   "source": [
    "import module.attenuate\n",
    "module.attenuate.attenuateABS(20350)　## 入れた絶対値まで移動する\n",
    "                                    　## 動かした後sleep忘れずに"
   ]
  },
  {
   "cell_type": "markdown",
   "metadata": {},
   "source": [
    "●画像を指定ディレクトリに保存"
   ]
  },
  {
   "cell_type": "code",
   "execution_count": 1,
   "metadata": {},
   "outputs": [
    {
     "name": "stdout",
     "output_type": "stream",
     "text": [
      "OK!\n"
     ]
    }
   ],
   "source": [
    "import module.USBPicture\n",
    "module.USBPicture.picture(\"./picture/pic\") "
   ]
  },
  {
   "cell_type": "markdown",
   "metadata": {},
   "source": [
    "●時間分解測定（1枚撮り）"
   ]
  },
  {
   "cell_type": "code",
   "execution_count": 6,
   "metadata": {
    "collapsed": true,
    "jupyter": {
     "outputs_hidden": true
    },
    "tags": []
   },
   "outputs": [
    {
     "name": "stdout",
     "output_type": "stream",
     "text": [
      "b'OK\\r\\n'\n",
      "\n",
      "OK!\n",
      "\n",
      "+0139189\n",
      "\n",
      "b'OK\\r\\n'\n",
      "\n",
      "OK!\n",
      "\n",
      "+0139179\n",
      "\n",
      "b'OK\\r\\n'\n",
      "\n",
      "OK!\n",
      "\n",
      "+0139169\n"
     ]
    }
   ],
   "source": [
    "import module.motorStatus\n",
    "import module.motorMove\n",
    "import module.USBPicture\n",
    "import module.attenuate\n",
    "import time\n",
    "\n",
    "module.motorMove.back(73990)\n",
    "\n",
    "PSF53 = \"./pic/GdFeCo26_noSiN/5.3mW/90\"\n",
    "MS53 = \"./pic/GdFeCo26_noSiN/5.3mW/90\"\n",
    "\n",
    "module.attenuate.attenuate(20350)\n",
    "\n",
    "i = 0\n",
    "while i < 10:\n",
    "    \n",
    "    module.motorMove.move(-750)\n",
    "    time.sleep(3)\n",
    "    module.USBPicture.picture(PSF53)\n",
    "    module.motorStatus.status(MS53)\n",
    "    \n",
    "    i += 1\n",
    "    \n",
    "i = 0\n",
    "while i < 100:\n",
    "    \n",
    "    module.motorMove.move(-15)\n",
    "    time.sleep(3)\n",
    "    module.USBPicture.picture(PSF53)\n",
    "    module.motorStatus.status(MS53)\n",
    "    \n",
    "    i += 1\n",
    "    \n",
    "\n",
    "i = 0\n",
    "while i < 30:\n",
    "    \n",
    "    module.motorMove.move(-1500)\n",
    "    time.sleep(3)\n",
    "    module.USBPicture.picture(PSF53)\n",
    "    module.motorStatus.status(MS53)\n",
    "    \n",
    "    i += 1\n",
    "    \n",
    "module.motorMove.back(73990)\n",
    "    \n",
    "PSF4 = \"./pic/GdFeCo26_noSiN/4mW/90\"\n",
    "MS4 = \"./pic/GdFeCo26_noSiN/4mW/90\"\n",
    "\n",
    "module.attenuate.attenuate(13580)\n",
    "\n",
    "i = 0\n",
    "while i < 10:\n",
    "    \n",
    "    module.motorMove.move(-750)\n",
    "    time.sleep(3)\n",
    "    module.USBPicture.picture(PSF4)\n",
    "    module.motorStatus.status(MS4)\n",
    "    \n",
    "    i += 1\n",
    "    \n",
    "i = 0\n",
    "while i < 100:\n",
    "    \n",
    "    module.motorMove.move(-15)\n",
    "    time.sleep(3)\n",
    "    module.USBPicture.picture(PSF4)\n",
    "    module.motorStatus.status(MS4)\n",
    "    \n",
    "    i += 1\n",
    "    \n",
    "\n",
    "i = 0\n",
    "while i < 30:\n",
    "    \n",
    "    module.motorMove.move(-1500)\n",
    "    time.sleep(3)\n",
    "    module.USBPicture.picture(PSF4)\n",
    "    module.motorStatus.status(MS4)\n",
    "    \n",
    "    i += 1\n",
    "    \n",
    "module.motorMove.back(73990)\n",
    "    \n",
    "PSF3 = \"./pic/GdFeCo26_noSiN/3mW/90\"\n",
    "MS3 = \"./pic/GdFeCo26_noSiN/3mW/90\"\n",
    "\n",
    "module.attenuate.attenuate(6832)\n",
    "\n",
    "i = 0\n",
    "while i < 10:\n",
    "    \n",
    "    module.motorMove.move(-750)\n",
    "    time.sleep(3)\n",
    "    module.USBPicture.picture(PSF3)\n",
    "    module.motorStatus.status(MS3)\n",
    "    \n",
    "    i += 1\n",
    "    \n",
    "i = 0\n",
    "while i < 100:\n",
    "    \n",
    "    module.motorMove.move(-15)\n",
    "    time.sleep(3)\n",
    "    module.USBPicture.picture(PSF3)\n",
    "    module.motorStatus.status(MS3)\n",
    "    \n",
    "    i += 1\n",
    "    \n",
    "\n",
    "i = 0\n",
    "while i < 30:\n",
    "    \n",
    "    module.motorMove.move(-1500)\n",
    "    time.sleep(3)\n",
    "    module.USBPicture.picture(PSF3)\n",
    "    module.motorStatus.status(MS3)\n",
    "    \n",
    "    i += 1\n",
    "module.motorMove.back(73890)\n",
    "    "
   ]
  },
  {
   "cell_type": "markdown",
   "metadata": {},
   "source": [
    "●時間分解測定（複数枚撮り）"
   ]
  },
  {
   "cell_type": "code",
   "execution_count": 1,
   "metadata": {
    "collapsed": true,
    "jupyter": {
     "outputs_hidden": true
    },
    "tags": []
   },
   "outputs": [
    {
     "name": "stdout",
     "output_type": "stream",
     "text": [
      "b'OK\\r\\n'\n"
     ]
    },
    {
     "ename": "error",
     "evalue": "OpenCV(4.5.2) C:\\Users\\runneradmin\\AppData\\Local\\Temp\\pip-req-build-kuwfz3h3\\opencv\\modules\\imgcodecs\\src\\loadsave.cpp:721: error: (-215:Assertion failed) !_img.empty() in function 'cv::imwrite'\n",
     "output_type": "error",
     "traceback": [
      "\u001b[1;31m---------------------------------------------------------------------------\u001b[0m",
      "\u001b[1;31merror\u001b[0m                                     Traceback (most recent call last)",
      "\u001b[1;32m<ipython-input-1-65c673506971>\u001b[0m in \u001b[0;36m<module>\u001b[1;34m\u001b[0m\n\u001b[0;32m     31\u001b[0m         \u001b[0mcap\u001b[0m \u001b[1;33m=\u001b[0m \u001b[0mcv2\u001b[0m\u001b[1;33m.\u001b[0m\u001b[0mVideoCapture\u001b[0m\u001b[1;33m(\u001b[0m\u001b[1;36m1\u001b[0m\u001b[1;33m)\u001b[0m\u001b[1;33m\u001b[0m\u001b[1;33m\u001b[0m\u001b[0m\n\u001b[0;32m     32\u001b[0m         \u001b[0mret\u001b[0m\u001b[1;33m,\u001b[0m \u001b[0mframe\u001b[0m \u001b[1;33m=\u001b[0m \u001b[0mcap\u001b[0m\u001b[1;33m.\u001b[0m\u001b[0mread\u001b[0m\u001b[1;33m(\u001b[0m\u001b[1;33m)\u001b[0m\u001b[1;33m\u001b[0m\u001b[1;33m\u001b[0m\u001b[0m\n\u001b[1;32m---> 33\u001b[1;33m         \u001b[0mcv2\u001b[0m\u001b[1;33m.\u001b[0m\u001b[0mimwrite\u001b[0m\u001b[1;33m(\u001b[0m\u001b[0mpath\u001b[0m\u001b[1;33m,\u001b[0m \u001b[0mframe\u001b[0m\u001b[1;33m)\u001b[0m\u001b[1;33m\u001b[0m\u001b[1;33m\u001b[0m\u001b[0m\n\u001b[0m\u001b[0;32m     34\u001b[0m         \u001b[0mcap\u001b[0m\u001b[1;33m.\u001b[0m\u001b[0mrelease\u001b[0m\u001b[1;33m(\u001b[0m\u001b[1;33m)\u001b[0m\u001b[1;33m\u001b[0m\u001b[1;33m\u001b[0m\u001b[0m\n\u001b[0;32m     35\u001b[0m \u001b[1;33m\u001b[0m\u001b[0m\n",
      "\u001b[1;31merror\u001b[0m: OpenCV(4.5.2) C:\\Users\\runneradmin\\AppData\\Local\\Temp\\pip-req-build-kuwfz3h3\\opencv\\modules\\imgcodecs\\src\\loadsave.cpp:721: error: (-215:Assertion failed) !_img.empty() in function 'cv::imwrite'\n"
     ]
    }
   ],
   "source": [
    "import module.motorStatus\n",
    "import module.motorMove\n",
    "import module.USBPicture\n",
    "import module.attenuate\n",
    "import time\n",
    "import numpy as np\n",
    "import matplotlib.pyplot as plt\n",
    "%matplotlib inline\n",
    "from PIL import Image\n",
    "import glob\n",
    "import cv2\n",
    "import os\n",
    "import shutil\n",
    "\n",
    "module.motorMove.back(26400)\n",
    "time.sleep(15)\n",
    "\n",
    "PSF53 = \"./pic/GdFeCo26/5mW/90\"\n",
    "MS53 = \"./pic/GdFeCo26/5mW/90\"\n",
    "\n",
    "h = 1\n",
    "while h < 11:\n",
    "    i = 1\n",
    "    while i < 25: #写真枚数\n",
    "        \n",
    "        folder = \"C:/Users/wadat/Documents/2021_08_27_GdFeCo@UoH/Gd26SiN\" + \"/\" + str(h)\n",
    "        new_dir_path = folder\n",
    "        if not os.path.exists(new_dir_path):\n",
    "            os.makedirs(new_dir_path)\n",
    "        path = folder + \"/\" + str(i) + \".bmp\"\n",
    "        cap = cv2.VideoCapture(1)\n",
    "        ret, frame = cap.read()\n",
    "        cv2.imwrite(path, frame)\n",
    "        cap.release()\n",
    "        \n",
    "        i += 1\n",
    "        \n",
    "    module.motorMove.move(-750)\n",
    "    time.sleep(3)\n",
    "    module.motorStatus.status(MS1)\n",
    "        \n",
    "    h += 1\n",
    "    \n",
    "h = 11\n",
    "while h < 61:\n",
    "    i = 1\n",
    "    while i < 25: #写真枚数\n",
    "        \n",
    "        folder = \"C:/Users/wadat/Documents/2021_08_27_GdFeCo@UoH/Gd26SiN\" + \"/\" + str(h)\n",
    "        new_dir_path = folder\n",
    "        if not os.path.exists(new_dir_path):\n",
    "            os.makedirs(new_dir_path)\n",
    "        path = folder + \"/\" + str(i) + \".bmp\"\n",
    "        cap = cv2.VideoCapture(1)\n",
    "        ret, frame = cap.read()\n",
    "        cv2.imwrite(path, frame)\n",
    "        cap.release()\n",
    "        \n",
    "        i += 1\n",
    "        \n",
    "    module.motorMove.move(-15)\n",
    "    time.sleep(3)\n",
    "    module.motorStatus.status(MS53)\n",
    "        \n",
    "    h += 1\n",
    "\n",
    "h = 61\n",
    "while h < 71:\n",
    "    i = 1\n",
    "    while i < 25: #写真枚数\n",
    "        \n",
    "        folder = \"C:/Users/wadat/Documents/2021_08_27_GdFeCo@UoH/Gd26SiN\" + \"/\" + str(h)\n",
    "        new_dir_path = folder\n",
    "        if not os.path.exists(new_dir_path):\n",
    "            os.makedirs(new_dir_path)\n",
    "        path = folder + \"/\" + str(i) + \".bmp\"\n",
    "        cap = cv2.VideoCapture(1)\n",
    "        ret, frame = cap.read()\n",
    "        cv2.imwrite(path, frame)\n",
    "        cap.release()\n",
    "        \n",
    "        i += 1\n",
    "        \n",
    "    module.motorMove.move(-1500)\n",
    "    time.sleep(3)\n",
    "    module.motorStatus.status(MS53)\n",
    "        \n",
    "    h += 1\n",
    "    \n"
   ]
  }
 ],
 "metadata": {
  "kernelspec": {
   "display_name": "Python 3 (ipykernel)",
   "language": "python",
   "name": "python3"
  },
  "language_info": {
   "codemirror_mode": {
    "name": "ipython",
    "version": 3
   },
   "file_extension": ".py",
   "mimetype": "text/x-python",
   "name": "python",
   "nbconvert_exporter": "python",
   "pygments_lexer": "ipython3",
   "version": "3.9.7"
  }
 },
 "nbformat": 4,
 "nbformat_minor": 4
}
