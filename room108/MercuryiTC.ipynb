{
 "cells": [
  {
   "cell_type": "markdown",
   "id": "f9a0ef7a-8e07-4a73-a1e6-59e18e8e5366",
   "metadata": {},
   "source": [
    "Identity"
   ]
  },
  {
   "cell_type": "code",
   "execution_count": 61,
   "id": "a8b2a8c7-7b57-4cef-8842-47240029ffae",
   "metadata": {},
   "outputs": [
    {
     "name": "stdout",
     "output_type": "stream",
     "text": [
      "b'IDN:OXFORD INSTRUMENTS:MERCURY ITC:203250067:2.6.04.000\\n'\n"
     ]
    }
   ],
   "source": [
    "import socket\n",
    "\n",
    "with socket.socket(socket.AF_INET, socket.SOCK_STREAM) as s:\n",
    "    # サーバを指定\n",
    "    s.connect(('150.12.70.76', 7020))\n",
    "    # サーバにメッセージを送る\n",
    "    s.sendall(b\"*IDN?\\n\")\n",
    "    # ネットワークのバッファサイズは1024。サーバからの文字列を取得する\n",
    "    data = s.recv(1024)\n",
    "    #\n",
    "    print(repr(data))"
   ]
  },
  {
   "cell_type": "markdown",
   "id": "d4b4b38b-797c-42d7-8f81-629b270ac32c",
   "metadata": {},
   "source": [
    "現在の設定温度"
   ]
  },
  {
   "cell_type": "code",
   "execution_count": 16,
   "id": "023e20a2-1505-4854-b257-ebb9c44fbe00",
   "metadata": {},
   "outputs": [
    {
     "name": "stdout",
     "output_type": "stream",
     "text": [
      "330.000K\n"
     ]
    }
   ],
   "source": [
    "import socket\n",
    "\n",
    "with socket.socket(socket.AF_INET, socket.SOCK_STREAM) as s:\n",
    "    # サーバを指定\n",
    "    s.connect(('150.12.70.76', 7020))\n",
    "    # サーバにメッセージを送る\n",
    "    s.sendall(b\"READ:DEV:MB1.T1:TEMP\\n\")\n",
    "    # ネットワークのバッファサイズは1024。サーバからの文字列を取得する\n",
    "    data = s.recv(1024)\n",
    "    #\n",
    "    Meas1 = repr(data)\n",
    "    Meas2 = repr(data).strip('b')\n",
    "    Meas3 = Meas2.replace(\"'\",\"\")\n",
    "    Meas4 = Meas3[134:142]\n",
    "    print(Meas4)\n",
    "    \n",
    "    "
   ]
  },
  {
   "cell_type": "markdown",
   "id": "3d63533b-7abd-4af0-9261-5939414b44f8",
   "metadata": {},
   "source": [
    "現在の温度"
   ]
  },
  {
   "cell_type": "code",
   "execution_count": 7,
   "id": "2f79a521-f52f-4a68-9588-09de38e62220",
   "metadata": {},
   "outputs": [
    {
     "name": "stdout",
     "output_type": "stream",
     "text": [
      "819.7300K\n"
     ]
    }
   ],
   "source": [
    "import socket\n",
    "\n",
    "with socket.socket(socket.AF_INET, socket.SOCK_STREAM) as s:\n",
    "    # サーバを指定\n",
    "    s.connect(('150.12.70.76', 7020))\n",
    "    # サーバにメッセージを送る\n",
    "    s.sendall(b\"READ:DEV:MB1.T1:TEMP\\n\")\n",
    "    # ネットワークのバッファサイズは1024。サーバからの文字列を取得する\n",
    "    data = s.recv(1024)\n",
    "    Meas1 = repr(data)\n",
    "    Meas2 = repr(data).strip('b')\n",
    "    Meas3 = Meas2.replace(\"'\",\"\")\n",
    "    Meas4 = Meas3[454:463]\n",
    "    print(Meas4)\n",
    "    "
   ]
  },
  {
   "cell_type": "markdown",
   "id": "de39f83b-5850-49bc-b474-90d1233e2a9c",
   "metadata": {},
   "source": [
    "設定温度変更"
   ]
  },
  {
   "cell_type": "code",
   "execution_count": 1,
   "id": "78ca7843-0879-406b-9b78-2f80a5fd62af",
   "metadata": {},
   "outputs": [
    {
     "ename": "ConnectionResetError",
     "evalue": "[WinError 10054] 既存の接続はリモート ホストに強制的に切断されました。",
     "output_type": "error",
     "traceback": [
      "\u001b[1;31m---------------------------------------------------------------------------\u001b[0m",
      "\u001b[1;31mConnectionResetError\u001b[0m                      Traceback (most recent call last)",
      "\u001b[1;32m~\\AppData\\Local\\Temp/ipykernel_11280/1764541690.py\u001b[0m in \u001b[0;36m<module>\u001b[1;34m\u001b[0m\n\u001b[0;32m      7\u001b[0m     \u001b[0ms\u001b[0m\u001b[1;33m.\u001b[0m\u001b[0msendall\u001b[0m\u001b[1;33m(\u001b[0m\u001b[1;34mb\"SET:DEV:MB1.T1:TEMP:LOOP:TSET:300.000\\n\"\u001b[0m\u001b[1;33m)\u001b[0m\u001b[1;33m\u001b[0m\u001b[1;33m\u001b[0m\u001b[0m\n\u001b[0;32m      8\u001b[0m     \u001b[1;31m# ネットワークのバッファサイズは1024。サーバからの文字列を取得する\u001b[0m\u001b[1;33m\u001b[0m\u001b[1;33m\u001b[0m\u001b[0m\n\u001b[1;32m----> 9\u001b[1;33m     \u001b[0mdata\u001b[0m \u001b[1;33m=\u001b[0m \u001b[0ms\u001b[0m\u001b[1;33m.\u001b[0m\u001b[0mrecv\u001b[0m\u001b[1;33m(\u001b[0m\u001b[1;36m1024\u001b[0m\u001b[1;33m)\u001b[0m\u001b[1;33m\u001b[0m\u001b[1;33m\u001b[0m\u001b[0m\n\u001b[0m\u001b[0;32m     10\u001b[0m     \u001b[1;31m#\u001b[0m\u001b[1;33m\u001b[0m\u001b[1;33m\u001b[0m\u001b[0m\n\u001b[0;32m     11\u001b[0m     \u001b[0mprint\u001b[0m\u001b[1;33m(\u001b[0m\u001b[0mdata\u001b[0m\u001b[1;33m)\u001b[0m\u001b[1;33m\u001b[0m\u001b[1;33m\u001b[0m\u001b[0m\n",
      "\u001b[1;31mConnectionResetError\u001b[0m: [WinError 10054] 既存の接続はリモート ホストに強制的に切断されました。"
     ]
    }
   ],
   "source": [
    "import socket\n",
    "\n",
    "with socket.socket(socket.AF_INET, socket.SOCK_STREAM) as s:\n",
    "    # サーバを指定\n",
    "    s.connect(('150.12.70.76', 7020))\n",
    "    # サーバにメッセージを送る\n",
    "    s.sendall(b\"SET:DEV:MB1.T1:TEMP:LOOP:TSET:300.000\\n\")\n",
    "    # ネットワークのバッファサイズは1024。サーバからの文字列を取得する\n",
    "    data = s.recv(1024)\n",
    "    #\n",
    "    print(data)\n",
    "    "
   ]
  },
  {
   "cell_type": "code",
   "execution_count": null,
   "id": "4c19197b-742b-48ef-91ed-1e6c860d1799",
   "metadata": {},
   "outputs": [],
   "source": []
  },
  {
   "cell_type": "code",
   "execution_count": null,
   "id": "c67ea44f-87c3-487a-99f1-ae18a89fe048",
   "metadata": {},
   "outputs": [],
   "source": []
  }
 ],
 "metadata": {
  "kernelspec": {
   "display_name": "Python 3 (ipykernel)",
   "language": "python",
   "name": "python3"
  },
  "language_info": {
   "codemirror_mode": {
    "name": "ipython",
    "version": 3
   },
   "file_extension": ".py",
   "mimetype": "text/x-python",
   "name": "python",
   "nbconvert_exporter": "python",
   "pygments_lexer": "ipython3",
   "version": "3.9.7"
  }
 },
 "nbformat": 4,
 "nbformat_minor": 5
}
