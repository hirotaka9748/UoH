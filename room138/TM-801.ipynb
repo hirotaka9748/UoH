{
 "cells": [
  {
   "cell_type": "code",
   "execution_count": 3,
   "metadata": {},
   "outputs": [
    {
     "name": "stdout",
     "output_type": "stream",
     "text": [
      "Collecting pyserial\n",
      "  Downloading pyserial-3.5-py2.py3-none-any.whl (90 kB)\n",
      "Installing collected packages: pyserial\n",
      "Successfully installed pyserial-3.5\n",
      "Note: you may need to restart the kernel to use updated packages.\n"
     ]
    }
   ],
   "source": [
    "pip install pyserial"
   ]
  },
  {
   "cell_type": "code",
   "execution_count": 1,
   "metadata": {},
   "outputs": [
    {
     "name": "stdout",
     "output_type": "stream",
     "text": [
      "Serial<id=0x1b40e1a2220, open=True>(port='COM3', baudrate=115200, bytesize=8, parity='N', stopbits=1, timeout=0.1, xonxoff=False, rtscts=False, dsrdtr=False)\n"
     ]
    }
   ],
   "source": [
    "import serial\n",
    "\n",
    "ser = serial.Serial(\"COM3\", 115200, timeout = 0.1)\n",
    "print(ser)\n",
    "ser.close()"
   ]
  },
  {
   "cell_type": "code",
   "execution_count": 2,
   "metadata": {},
   "outputs": [
    {
     "name": "stdout",
     "output_type": "stream",
     "text": [
      "-9.5\n"
     ]
    }
   ],
   "source": [
    "import serial\n",
    "from struct import *\n",
    "\n",
    "ser = serial.Serial(\"COM6\", 19200, timeout = 0.5)\n",
    "recv_data = ser.read(5)\n",
    "ser.close()\n",
    "\n",
    "str_data = recv_data.hex()\n",
    "cut_data = str_data[str_data.find(\"a2\")+2:]\n",
    "cut2_data = cut_data[0:4]\n",
    "\n",
    "bytes_data = bytes.fromhex(cut2_data)\n",
    "int_data = int.from_bytes(bytes_data, 'big', signed=True)\n",
    "result = int_data / 10\n",
    "\n",
    "print(result)"
   ]
  },
  {
   "cell_type": "code",
   "execution_count": null,
   "metadata": {},
   "outputs": [],
   "source": []
  }
 ],
 "metadata": {
  "kernelspec": {
   "display_name": "Python 3 (ipykernel)",
   "language": "python",
   "name": "python3"
  },
  "language_info": {
   "codemirror_mode": {
    "name": "ipython",
    "version": 3
   },
   "file_extension": ".py",
   "mimetype": "text/x-python",
   "name": "python",
   "nbconvert_exporter": "python",
   "pygments_lexer": "ipython3",
   "version": "3.9.7"
  }
 },
 "nbformat": 4,
 "nbformat_minor": 4
}
