{
 "cells": [
  {
   "cell_type": "markdown",
   "metadata": {},
   "source": [
    "pyvisaインストール"
   ]
  },
  {
   "cell_type": "code",
   "execution_count": 1,
   "metadata": {},
   "outputs": [
    {
     "name": "stdout",
     "output_type": "stream",
     "text": [
      "Collecting pyvisa.pyNote: you may need to restart the kernel to use updated packages.\n",
      "  Downloading PyVISA_py-0.5.2-py3-none-any.whl (56 kB)\n",
      "Collecting pyvisa>=1.11.0\n",
      "  Downloading PyVISA-1.11.3-py3-none-any.whl (189 kB)\n",
      "Requirement already satisfied: typing-extensions in c:\\users\\0408h\\anaconda3\\lib\\site-packages (from pyvisa.py) (3.10.0.2)\n",
      "Installing collected packages: pyvisa, pyvisa.py\n",
      "Successfully installed pyvisa-1.11.3 pyvisa.py-0.5.2\n",
      "\n"
     ]
    }
   ],
   "source": [
    "pip install -U pyvisa.py"
   ]
  },
  {
   "cell_type": "markdown",
   "metadata": {},
   "source": [
    "PINGコマンド"
   ]
  },
  {
   "cell_type": "code",
   "execution_count": 1,
   "metadata": {},
   "outputs": [
    {
     "name": "stdout",
     "output_type": "stream",
     "text": [
      "ping -n 2 -w 7020 150.12.71.124\n",
      "return code : 0\n",
      "\n",
      "150.12.71.124 に ping を送信しています 32 バイトのデータ:\n",
      "150.12.70.106 からの応答: 宛先ホストに到達できません。\n",
      "150.12.70.106 からの応答: 宛先ホストに到達できません。\n",
      "\n",
      "150.12.71.124 の ping 統計:\n",
      "    パケット数: 送信 = 2、受信 = 2、損失 = 0 (0% の損失)、\n",
      "\n",
      "\n"
     ]
    }
   ],
   "source": [
    "import subprocess\n",
    "\n",
    "commands = [\"ping\", \"-n\", \"2\", \"-w\", \"7020\", \"150.12.71.124\"]\n",
    "print(\" \".join(commands))\n",
    "proc = subprocess.run(\n",
    "    commands,\n",
    "    stdout=subprocess.PIPE,     # 標準出力は保存\n",
    "    stderr=subprocess.DEVNULL   # 標準エラーは捨てる\n",
    ")\n",
    "print(f\"return code : {proc.returncode}\")\n",
    "result = proc.stdout.decode(\"cp932\")\n",
    "print(result)\n",
    "print()"
   ]
  },
  {
   "cell_type": "markdown",
   "metadata": {},
   "source": [
    "機器との接続"
   ]
  },
  {
   "cell_type": "code",
   "execution_count": 1,
   "metadata": {},
   "outputs": [],
   "source": [
    "import pyvisa\n",
    "rm = pyvisa.ResourceManager()\n",
    "inst=rm.open_resource('TCPIP0::150.12.70.156::INSTR')"
   ]
  },
  {
   "cell_type": "markdown",
   "metadata": {},
   "source": [
    "機器の出力ON・OFF"
   ]
  },
  {
   "cell_type": "code",
   "execution_count": 3,
   "metadata": {},
   "outputs": [],
   "source": [
    "curData=inst.write(\"OUTP off\")"
   ]
  },
  {
   "cell_type": "markdown",
   "metadata": {},
   "source": [
    "機器への数値入力"
   ]
  },
  {
   "cell_type": "code",
   "execution_count": 3,
   "metadata": {},
   "outputs": [],
   "source": [
    "curData=inst.write(\"CURR 0.02\")"
   ]
  },
  {
   "cell_type": "markdown",
   "metadata": {},
   "source": [
    "機器の数値読み出し"
   ]
  },
  {
   "cell_type": "code",
   "execution_count": 8,
   "metadata": {},
   "outputs": [
    {
     "name": "stdout",
     "output_type": "stream",
     "text": [
      "'+2.00200E+00\\n'\n"
     ]
    }
   ],
   "source": [
    "curData=inst.query(\"MEAS:VOLT?\")\n",
    "\n",
    "##　https://manual.kikusui.co.jp/P/PMX_IF_J4.pdf　参照\n",
    "##　VOLT　電圧\n",
    "##　CURR　電流\n",
    "\n",
    "print(repr(curData))"
   ]
  },
  {
   "cell_type": "code",
   "execution_count": 2,
   "metadata": {},
   "outputs": [
    {
     "name": "stdout",
     "output_type": "stream",
     "text": [
      "'+0.00000E+00\\n'\n"
     ]
    }
   ],
   "source": [
    "import time\n",
    "for i in range(1, 2):\n",
    "    j=format(i*0.1, '.1f')\n",
    "    curData1=inst.write(\"CURR\"+\"\\t\"+str(j))\n",
    "    time.sleep(3)\n",
    "    curData2=inst.query(\"MEAS:CURR?\")\n",
    "    print(repr(curData2))"
   ]
  },
  {
   "cell_type": "code",
   "execution_count": 37,
   "metadata": {},
   "outputs": [
    {
     "name": "stdout",
     "output_type": "stream",
     "text": [
      "-0.00000E+00\\n\n"
     ]
    }
   ],
   "source": [
    "curr2=0\n",
    "curData1 = inst.write(\"CURR\"+\"\\t\"+str(curr2))\n",
    "curData2 = inst.query(\"MEAS:CURR?\")\n",
    "Meas2 = repr(curData2).strip('b')\n",
    "Meas3 = Meas2.replace(\"'\",\"\")\n",
    "Meas4 = \"-\" + Meas3[1:]\n",
    "print(Meas4)"
   ]
  },
  {
   "cell_type": "code",
   "execution_count": null,
   "metadata": {},
   "outputs": [],
   "source": []
  }
 ],
 "metadata": {
  "kernelspec": {
   "display_name": "Python 3 (ipykernel)",
   "language": "python",
   "name": "python3"
  },
  "language_info": {
   "codemirror_mode": {
    "name": "ipython",
    "version": 3
   },
   "file_extension": ".py",
   "mimetype": "text/x-python",
   "name": "python",
   "nbconvert_exporter": "python",
   "pygments_lexer": "ipython3",
   "version": "3.9.7"
  },
  "widgets": {
   "application/vnd.jupyter.widget-state+json": {
    "state": {},
    "version_major": 2,
    "version_minor": 0
   }
  }
 },
 "nbformat": 4,
 "nbformat_minor": 4
}
