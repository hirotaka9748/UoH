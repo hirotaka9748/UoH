{
 "cells": [
  {
   "cell_type": "code",
   "execution_count": 2,
   "metadata": {},
   "outputs": [
    {
     "name": "stdout",
     "output_type": "stream",
     "text": [
      "ping -n 2 -w 5025 150.12.70.132\n",
      "return code : 0\n",
      "\n",
      "150.12.70.132 に ping を送信しています 32 バイトのデータ:\n",
      "150.12.70.132 からの応答: バイト数 =32 時間 =3ms TTL=254\n",
      "150.12.70.132 からの応答: バイト数 =32 時間 =4ms TTL=254\n",
      "\n",
      "150.12.70.132 の ping 統計:\n",
      "    パケット数: 送信 = 2、受信 = 2、損失 = 0 (0% の損失)、\n",
      "ラウンド トリップの概算時間 (ミリ秒):\n",
      "    最小 = 3ms、最大 = 4ms、平均 = 3ms\n",
      "\n",
      "\n"
     ]
    }
   ],
   "source": [
    "import subprocess\n",
    "\n",
    "commands = [\"ping\", \"-n\", \"2\", \"-w\", \"5025\", \"150.12.70.132\"]\n",
    "print(\" \".join(commands))\n",
    "proc = subprocess.run(\n",
    "    commands,\n",
    "    stdout=subprocess.PIPE,     # 標準出力は保存\n",
    "    stderr=subprocess.DEVNULL   # 標準エラーは捨てる\n",
    ")\n",
    "print(f\"return code : {proc.returncode}\")\n",
    "result = proc.stdout.decode(\"cp932\")\n",
    "print(result)\n",
    "print()"
   ]
  },
  {
   "cell_type": "code",
   "execution_count": 1,
   "metadata": {
    "tags": []
   },
   "outputs": [
    {
     "name": "stdout",
     "output_type": "stream",
     "text": [
      "H:\\マイドライブ\\Python\n"
     ]
    }
   ],
   "source": [
    "cd .."
   ]
  },
  {
   "cell_type": "code",
   "execution_count": 9,
   "metadata": {},
   "outputs": [
    {
     "name": "stdout",
     "output_type": "stream",
     "text": [
      "-9.306612E-03\n",
      "-14.78\n"
     ]
    }
   ],
   "source": [
    "import room138.module138.pico\n",
    "room138.module138.pico.pico3()"
   ]
  },
  {
   "cell_type": "code",
   "execution_count": 5,
   "metadata": {},
   "outputs": [
    {
     "name": "stdout",
     "output_type": "stream",
     "text": [
      "2.156882E-02\\n\n",
      "1.180820E-03\\n\n"
     ]
    }
   ],
   "source": [
    "import module138.pico\n",
    "module138.pico.pico1(\"a.txt\")\n",
    "module138.pico.pico2(\"b.txt\")"
   ]
  },
  {
   "cell_type": "markdown",
   "metadata": {},
   "source": [
    "Textファイルの差分出力"
   ]
  },
  {
   "cell_type": "code",
   "execution_count": 1,
   "metadata": {},
   "outputs": [
    {
     "name": "stdout",
     "output_type": "stream",
     "text": [
      "1.9289379999999997e-05\n",
      "-1.5467201e-05\n",
      "5.498559999999999e-06\n",
      "4.138088e-05\n",
      "-1.656820000000001e-05\n",
      "1.7155099999999988e-05\n"
     ]
    }
   ],
   "source": [
    "import linecache\n",
    "\n",
    "pico_path1 = \"C:/Users/wadat/Data/2021_11_15/pico1_log/2.txt\"\n",
    "pico_path2 = \"C:/Users/wadat/Data/2021_11_15/pico2_log/2.txt\"\n",
    "pico_path3 = \"C:/Users/wadat/Data/2021_11_15/pico3_log/2.txt\"\n",
    "\n",
    "i = 1\n",
    "while i < 1 + sum([1 for _ in open(pico_path1)]):\n",
    "    data1 = linecache.getline(pico_path1, i).strip()\n",
    "    data11 = data1[:-1]\n",
    "    data111 = data11.replace(\"'\",\"\")\n",
    "    data1111 = data111.replace(\"\\\\\",\"\")\n",
    "    data2 = linecache.getline(pico_path2, i).strip()\n",
    "    data22 = data2[:-1]\n",
    "    data222 = data22.replace(\"'\",\"\")\n",
    "    data2222 = data222.replace(\"\\\\\",\"\")\n",
    "    data333 = float(data1111) - float(data2222)\n",
    "    print(data333)\n",
    "    with open(pico_path3, 'a') as f:\n",
    "        print(data333, file=f)\n",
    "    i += 1"
   ]
  },
  {
   "cell_type": "code",
   "execution_count": null,
   "metadata": {},
   "outputs": [],
   "source": []
  }
 ],
 "metadata": {
  "kernelspec": {
   "display_name": "Python 3 (ipykernel)",
   "language": "python",
   "name": "python3"
  },
  "language_info": {
   "codemirror_mode": {
    "name": "ipython",
    "version": 3
   },
   "file_extension": ".py",
   "mimetype": "text/x-python",
   "name": "python",
   "nbconvert_exporter": "python",
   "pygments_lexer": "ipython3",
   "version": "3.9.7"
  }
 },
 "nbformat": 4,
 "nbformat_minor": 4
}
