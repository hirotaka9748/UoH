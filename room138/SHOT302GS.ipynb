{
 "cells": [
  {
   "cell_type": "code",
   "execution_count": 1,
   "id": "81b79b00-6e93-4cb7-ac2a-c7c395836791",
   "metadata": {},
   "outputs": [
    {
     "name": "stdout",
     "output_type": "stream",
     "text": [
      "Serial<id=0x2e5d1f860a0, open=True>(port='COM4', baudrate=115200, bytesize=8, parity='N', stopbits=1, timeout=0.1, xonxoff=False, rtscts=False, dsrdtr=False)\n"
     ]
    }
   ],
   "source": [
    "import serial\n",
    "\n",
    "ser = serial.Serial(\"COM4\", 115200, timeout = 0.1)\n",
    "print(ser)\n",
    "ser.close()"
   ]
  },
  {
   "cell_type": "code",
   "execution_count": 1,
   "id": "fd5eb488-6bc5-43f9-b41d-4d9ce6b0e54b",
   "metadata": {},
   "outputs": [
    {
     "name": "stdout",
     "output_type": "stream",
     "text": [
      "b'M:2+P1000\\r\\n'\n"
     ]
    }
   ],
   "source": [
    "import serial\n",
    " \n",
    "ser = serial.Serial(\"COM4\", 9600)\n",
    "code1 = b'M:2+P1000\\r\\n'\n",
    "ser.write(code1)\n",
    "print(code1)\n",
    "ser.close()"
   ]
  },
  {
   "cell_type": "code",
   "execution_count": 20,
   "id": "bb71f37b-35e4-4764-86c8-2f200f140dd3",
   "metadata": {},
   "outputs": [
    {
     "name": "stdout",
     "output_type": "stream",
     "text": [
      "b'Q:\\r\\n'\n",
      "b''\n"
     ]
    }
   ],
   "source": [
    "import serial\n",
    " \n",
    "ser = serial.Serial(\"COM4\", 9600)\n",
    "code2 = b'Q:\\r\\n'\n",
    "ser.write(code2)\n",
    "print(code2)\n",
    "result = ser.read_all()\n",
    "print(result)\n",
    "ser.close()"
   ]
  },
  {
   "cell_type": "code",
   "execution_count": 3,
   "id": "c01e988a-3505-47bb-9919-f271cd8b2e2e",
   "metadata": {},
   "outputs": [
    {
     "name": "stdout",
     "output_type": "stream",
     "text": [
      "b'Q:2\\r\\n'\n"
     ]
    }
   ],
   "source": [
    "import serial\n",
    " \n",
    "ser = serial.Serial(\"COM4\", 9600)\n",
    "code1 = b'H:2\\r\\n'\n",
    "ser.write(code1)\n",
    "print(code1)\n",
    "ser.close()"
   ]
  },
  {
   "cell_type": "code",
   "execution_count": 12,
   "id": "c30ba33b-f4b3-40c9-829c-8a848a7986ea",
   "metadata": {},
   "outputs": [
    {
     "name": "stdout",
     "output_type": "stream",
     "text": [
      "b'Q:\\r\\n'\n",
      "b'G:\\r\\n'\n"
     ]
    }
   ],
   "source": [
    "import serial\n",
    " \n",
    "ser = serial.Serial(\"COM4\", 9600)\n",
    "code1 = b'A:2+P5000\\r\\n'\n",
    "ser.write(code1)\n",
    "print(code1)\n",
    "ser.close()\n",
    "\n",
    "ser = serial.Serial(\"COM4\", 9600)\n",
    "code2 = b'G:\\r\\n'\n",
    "ser.write(code2)\n",
    "print(code2)\n",
    "ser.close()"
   ]
  },
  {
   "cell_type": "code",
   "execution_count": 33,
   "id": "ea89ac2b-8c39-4e89-b15a-22f94a531793",
   "metadata": {},
   "outputs": [
    {
     "name": "stdout",
     "output_type": "stream",
     "text": [
      "M:2+P49900\n",
      "\n",
      "b'M:2+P49900\\r\\n'\n"
     ]
    }
   ],
   "source": [
    "hashi = 50000\n",
    "num = 100\n",
    "kekka = hashi - num\n",
    "code1 = 'M:2+P' + str(kekka) +'\\r\\n'\n",
    "code11 = code1\n",
    "a = code11.encode()\n",
    "print(a)"
   ]
  },
  {
   "cell_type": "code",
   "execution_count": 40,
   "id": "11842ea6-8bb7-46ce-90d8-55ad7b019998",
   "metadata": {},
   "outputs": [
    {
     "name": "stdout",
     "output_type": "stream",
     "text": [
      "b'M:1+P0\\r\\n'\n",
      "b'M:2+P400\\r\\n'\n"
     ]
    }
   ],
   "source": [
    "hashi = 24066\n",
    "num = 600\n",
    "\n",
    "if num <= 100:\n",
    "    kekka = hashi - num\n",
    "    code1 = 'M:1+P' + str(kekka) +'\\r\\n'\n",
    "    code11 = code1\n",
    "    a = code11.encode()\n",
    "    print(a)\n",
    "else:\n",
    "    kekka =  2*hashi - num\n",
    "    code1 = 'M:1+P' + '0' +'\\r\\n'\n",
    "    code2 = 'M:2+P' + str(kekka) +'\\r\\n'\n",
    "    a = code1.encode()\n",
    "    b = code2.encode()\n",
    "    print(a)\n",
    "    print(b)"
   ]
  },
  {
   "cell_type": "code",
   "execution_count": 6,
   "id": "05e6fd31-5d06-49f7-87c8-c67a476ba621",
   "metadata": {},
   "outputs": [
    {
     "ename": "SerialException",
     "evalue": "could not open port 'COM4': PermissionError(13, 'アクセスが拒否されました。', None, 5)",
     "output_type": "error",
     "traceback": [
      "\u001b[1;31m---------------------------------------------------------------------------\u001b[0m",
      "\u001b[1;31mSerialException\u001b[0m                           Traceback (most recent call last)",
      "\u001b[1;32m~\\AppData\\Local\\Temp/ipykernel_2920/3216991900.py\u001b[0m in \u001b[0;36m<module>\u001b[1;34m\u001b[0m\n\u001b[0;32m      5\u001b[0m \u001b[1;33m\u001b[0m\u001b[0m\n\u001b[0;32m      6\u001b[0m \u001b[1;32mif\u001b[0m \u001b[0mnum\u001b[0m \u001b[1;33m<=\u001b[0m \u001b[1;36m100\u001b[0m\u001b[1;33m:\u001b[0m\u001b[1;33m\u001b[0m\u001b[1;33m\u001b[0m\u001b[0m\n\u001b[1;32m----> 7\u001b[1;33m     \u001b[0mser\u001b[0m \u001b[1;33m=\u001b[0m \u001b[0mserial\u001b[0m\u001b[1;33m.\u001b[0m\u001b[0mSerial\u001b[0m\u001b[1;33m(\u001b[0m\u001b[1;34m\"COM4\"\u001b[0m\u001b[1;33m,\u001b[0m \u001b[1;36m9600\u001b[0m\u001b[1;33m)\u001b[0m\u001b[1;33m\u001b[0m\u001b[1;33m\u001b[0m\u001b[0m\n\u001b[0m\u001b[0;32m      8\u001b[0m     \u001b[0mkekka\u001b[0m \u001b[1;33m=\u001b[0m \u001b[0mhashi\u001b[0m \u001b[1;33m-\u001b[0m \u001b[0mnum\u001b[0m\u001b[1;33m\u001b[0m\u001b[1;33m\u001b[0m\u001b[0m\n\u001b[0;32m      9\u001b[0m     \u001b[0mcode1\u001b[0m \u001b[1;33m=\u001b[0m \u001b[1;34m'M:1+P'\u001b[0m \u001b[1;33m+\u001b[0m \u001b[0mstr\u001b[0m\u001b[1;33m(\u001b[0m\u001b[0mkekka\u001b[0m\u001b[1;33m)\u001b[0m \u001b[1;33m+\u001b[0m\u001b[1;34m'\\r\\n'\u001b[0m\u001b[1;33m\u001b[0m\u001b[1;33m\u001b[0m\u001b[0m\n",
      "\u001b[1;32m~\\anaconda3\\lib\\site-packages\\serial\\serialwin32.py\u001b[0m in \u001b[0;36m__init__\u001b[1;34m(self, *args, **kwargs)\u001b[0m\n\u001b[0;32m     31\u001b[0m         \u001b[0mself\u001b[0m\u001b[1;33m.\u001b[0m\u001b[0m_overlapped_read\u001b[0m \u001b[1;33m=\u001b[0m \u001b[1;32mNone\u001b[0m\u001b[1;33m\u001b[0m\u001b[1;33m\u001b[0m\u001b[0m\n\u001b[0;32m     32\u001b[0m         \u001b[0mself\u001b[0m\u001b[1;33m.\u001b[0m\u001b[0m_overlapped_write\u001b[0m \u001b[1;33m=\u001b[0m \u001b[1;32mNone\u001b[0m\u001b[1;33m\u001b[0m\u001b[1;33m\u001b[0m\u001b[0m\n\u001b[1;32m---> 33\u001b[1;33m         \u001b[0msuper\u001b[0m\u001b[1;33m(\u001b[0m\u001b[0mSerial\u001b[0m\u001b[1;33m,\u001b[0m \u001b[0mself\u001b[0m\u001b[1;33m)\u001b[0m\u001b[1;33m.\u001b[0m\u001b[0m__init__\u001b[0m\u001b[1;33m(\u001b[0m\u001b[1;33m*\u001b[0m\u001b[0margs\u001b[0m\u001b[1;33m,\u001b[0m \u001b[1;33m**\u001b[0m\u001b[0mkwargs\u001b[0m\u001b[1;33m)\u001b[0m\u001b[1;33m\u001b[0m\u001b[1;33m\u001b[0m\u001b[0m\n\u001b[0m\u001b[0;32m     34\u001b[0m \u001b[1;33m\u001b[0m\u001b[0m\n\u001b[0;32m     35\u001b[0m     \u001b[1;32mdef\u001b[0m \u001b[0mopen\u001b[0m\u001b[1;33m(\u001b[0m\u001b[0mself\u001b[0m\u001b[1;33m)\u001b[0m\u001b[1;33m:\u001b[0m\u001b[1;33m\u001b[0m\u001b[1;33m\u001b[0m\u001b[0m\n",
      "\u001b[1;32m~\\anaconda3\\lib\\site-packages\\serial\\serialutil.py\u001b[0m in \u001b[0;36m__init__\u001b[1;34m(self, port, baudrate, bytesize, parity, stopbits, timeout, xonxoff, rtscts, write_timeout, dsrdtr, inter_byte_timeout, exclusive, **kwargs)\u001b[0m\n\u001b[0;32m    242\u001b[0m \u001b[1;33m\u001b[0m\u001b[0m\n\u001b[0;32m    243\u001b[0m         \u001b[1;32mif\u001b[0m \u001b[0mport\u001b[0m \u001b[1;32mis\u001b[0m \u001b[1;32mnot\u001b[0m \u001b[1;32mNone\u001b[0m\u001b[1;33m:\u001b[0m\u001b[1;33m\u001b[0m\u001b[1;33m\u001b[0m\u001b[0m\n\u001b[1;32m--> 244\u001b[1;33m             \u001b[0mself\u001b[0m\u001b[1;33m.\u001b[0m\u001b[0mopen\u001b[0m\u001b[1;33m(\u001b[0m\u001b[1;33m)\u001b[0m\u001b[1;33m\u001b[0m\u001b[1;33m\u001b[0m\u001b[0m\n\u001b[0m\u001b[0;32m    245\u001b[0m \u001b[1;33m\u001b[0m\u001b[0m\n\u001b[0;32m    246\u001b[0m     \u001b[1;31m#  -  -  -  -  -  -  -  -  -  -  -  -  -  -  -  -  -  -  -  -  -  -  -  -\u001b[0m\u001b[1;33m\u001b[0m\u001b[1;33m\u001b[0m\u001b[0m\n",
      "\u001b[1;32m~\\anaconda3\\lib\\site-packages\\serial\\serialwin32.py\u001b[0m in \u001b[0;36mopen\u001b[1;34m(self)\u001b[0m\n\u001b[0;32m     62\u001b[0m         \u001b[1;32mif\u001b[0m \u001b[0mself\u001b[0m\u001b[1;33m.\u001b[0m\u001b[0m_port_handle\u001b[0m \u001b[1;33m==\u001b[0m \u001b[0mwin32\u001b[0m\u001b[1;33m.\u001b[0m\u001b[0mINVALID_HANDLE_VALUE\u001b[0m\u001b[1;33m:\u001b[0m\u001b[1;33m\u001b[0m\u001b[1;33m\u001b[0m\u001b[0m\n\u001b[0;32m     63\u001b[0m             \u001b[0mself\u001b[0m\u001b[1;33m.\u001b[0m\u001b[0m_port_handle\u001b[0m \u001b[1;33m=\u001b[0m \u001b[1;32mNone\u001b[0m    \u001b[1;31m# 'cause __del__ is called anyway\u001b[0m\u001b[1;33m\u001b[0m\u001b[1;33m\u001b[0m\u001b[0m\n\u001b[1;32m---> 64\u001b[1;33m             \u001b[1;32mraise\u001b[0m \u001b[0mSerialException\u001b[0m\u001b[1;33m(\u001b[0m\u001b[1;34m\"could not open port {!r}: {!r}\"\u001b[0m\u001b[1;33m.\u001b[0m\u001b[0mformat\u001b[0m\u001b[1;33m(\u001b[0m\u001b[0mself\u001b[0m\u001b[1;33m.\u001b[0m\u001b[0mportstr\u001b[0m\u001b[1;33m,\u001b[0m \u001b[0mctypes\u001b[0m\u001b[1;33m.\u001b[0m\u001b[0mWinError\u001b[0m\u001b[1;33m(\u001b[0m\u001b[1;33m)\u001b[0m\u001b[1;33m)\u001b[0m\u001b[1;33m)\u001b[0m\u001b[1;33m\u001b[0m\u001b[1;33m\u001b[0m\u001b[0m\n\u001b[0m\u001b[0;32m     65\u001b[0m \u001b[1;33m\u001b[0m\u001b[0m\n\u001b[0;32m     66\u001b[0m         \u001b[1;32mtry\u001b[0m\u001b[1;33m:\u001b[0m\u001b[1;33m\u001b[0m\u001b[1;33m\u001b[0m\u001b[0m\n",
      "\u001b[1;31mSerialException\u001b[0m: could not open port 'COM4': PermissionError(13, 'アクセスが拒否されました。', None, 5)"
     ]
    }
   ],
   "source": [
    "import serial\n",
    "\n",
    "hashi = 24063\n",
    "num = 100\n",
    "\n",
    "if num <= 100:\n",
    "    ser = serial.Serial(\"COM4\", 9600)\n",
    "    kekka = hashi - num\n",
    "    code1 = 'M:1+P' + str(kekka) +'\\r\\n'\n",
    "    b_code1 = code1.encode()\n",
    "    ser.write(b_code1)\n",
    "    ser.close()\n",
    "    \n",
    "    ser = serial.Serial(\"COM4\", 9600)\n",
    "    code = b'G:\\r\\n'\n",
    "    ser.write(code)\n",
    "    ser.close()\n",
    "\n",
    "else:\n",
    "    ser = serial.Serial(\"COM4\", 9600)\n",
    "    kekka =  2*hashi - num\n",
    "    code1 = 'M:1+P' + '0' +'\\r\\n'\n",
    "    code2 = 'M:2+P' + str(kekka) +'\\r\\n'\n",
    "    b_code1 = code1.encode()\n",
    "    ser.write(b_code1)\n",
    "    ser.close()\n",
    "    \n",
    "    ser = serial.Serial(\"COM4\", 9600)\n",
    "    code = b'G:\\r\\n'\n",
    "    ser.write(code)\n",
    "    ser.close()\n",
    "    \n",
    "    ser = serial.Serial(\"COM4\", 9600)\n",
    "    b_code2 = code2.encode()\n",
    "    ser.write(b_code2)\n",
    "    \n",
    "    ser = serial.Serial(\"COM4\", 9600)\n",
    "    code = b'G:\\r\\n'\n",
    "    ser.write(code)\n",
    "    ser.close()"
   ]
  },
  {
   "cell_type": "code",
   "execution_count": null,
   "id": "7a47b7f2-677f-42a8-89a5-974ef904ba79",
   "metadata": {},
   "outputs": [],
   "source": []
  }
 ],
 "metadata": {
  "kernelspec": {
   "display_name": "Python 3 (ipykernel)",
   "language": "python",
   "name": "python3"
  },
  "language_info": {
   "codemirror_mode": {
    "name": "ipython",
    "version": 3
   },
   "file_extension": ".py",
   "mimetype": "text/x-python",
   "name": "python",
   "nbconvert_exporter": "python",
   "pygments_lexer": "ipython3",
   "version": "3.9.7"
  }
 },
 "nbformat": 4,
 "nbformat_minor": 5
}
