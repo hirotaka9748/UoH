{
 "cells": [
  {
   "cell_type": "code",
   "execution_count": 1,
   "metadata": {},
   "outputs": [
    {
     "name": "stdout",
     "output_type": "stream",
     "text": [
      "============================================================\n",
      "PING OKの場合\n",
      "============================================================\n",
      "ping -n 2 -w 7777 150.12.70.156\n",
      "return code : 0\n",
      "\n",
      "150.12.70.156 に ping を送信しています 32 バイトのデータ:\n",
      "150.12.70.156 からの応答: バイト数 =32 時間 =2ms TTL=128\n",
      "150.12.70.156 からの応答: バイト数 =32 時間 =6ms TTL=128\n",
      "\n",
      "150.12.70.156 の ping 統計:\n",
      "    パケット数: 送信 = 2、受信 = 2、損失 = 0 (0% の損失)、\n",
      "ラウンド トリップの概算時間 (ミリ秒):\n",
      "    最小 = 2ms、最大 = 6ms、平均 = 4ms\n",
      "\n",
      "\n",
      "============================================================\n",
      "PING NGの場合\n",
      "============================================================\n",
      "ping -n 2 -w 1000 192.168.10.2\n",
      "return code : 0\n",
      "\n",
      "192.168.10.2 に ping を送信しています 32 バイトのデータ:\n",
      "要求がタイムアウトしました。\n",
      "192.168.10.108 からの応答: 宛先ホストに到達できません。\n",
      "\n",
      "192.168.10.2 の ping 統計:\n",
      "    パケット数: 送信 = 2、受信 = 1、損失 = 1 (50% の損失)、\n",
      "\n",
      "\n"
     ]
    }
   ],
   "source": [
    "import subprocess\n",
    "\n",
    "print(\"=\" * 60)\n",
    "print(\"PING OKの場合\")\n",
    "print(\"=\" * 60)\n",
    "commands = [\"ping\", \"-n\", \"2\", \"-w\", \"7777\", \"150.12.70.156\"]\n",
    "print(\" \".join(commands))\n",
    "proc = subprocess.run(\n",
    "    commands,\n",
    "    stdout=subprocess.PIPE,     # 標準出力は保存\n",
    "    stderr=subprocess.DEVNULL   # 標準エラーは捨てる\n",
    ")\n",
    "print(f\"return code : {proc.returncode}\")\n",
    "result = proc.stdout.decode(\"cp932\")\n",
    "print(result)\n",
    "print()\n",
    "\n",
    "\n",
    "print(\"=\" * 60)\n",
    "print(\"PING NGの場合\")\n",
    "print(\"=\" * 60)\n",
    "commands = [\"ping\", \"-n\", \"2\", \"-w\", \"1000\", \"192.168.10.2\"]\n",
    "print(\" \".join(commands))\n",
    "proc = subprocess.run(\n",
    "    commands,\n",
    "    stdout=subprocess.PIPE,     # 標準出力は保存\n",
    "    stderr=subprocess.DEVNULL   # 標準エラーは捨てる\n",
    ")\n",
    "print(f\"return code : {proc.returncode}\")\n",
    "result = proc.stdout.decode(\"cp932\")\n",
    "print(result)\n",
    "print()"
   ]
  },
  {
   "cell_type": "code",
   "execution_count": 1,
   "metadata": {},
   "outputs": [
    {
     "name": "stdout",
     "output_type": "stream",
     "text": [
      "b'7.430018E-10\\n'\n"
     ]
    }
   ],
   "source": [
    "import socket\n",
    "\n",
    "with socket.socket(socket.AF_INET, socket.SOCK_STREAM) as s:\n",
    "    # サーバを指定\n",
    "    s.connect(('150.12.71.38', 5025))\n",
    "    # サーバにメッセージを送る\n",
    "    s.sendall(b\":MEAS?\\n\")\n",
    "    # ネットワークのバッファサイズは1024。サーバからの文字列を取得する\n",
    "    data = s.recv(1024)\n",
    "    #\n",
    "    print(repr(data))"
   ]
  },
  {
   "cell_type": "code",
   "execution_count": 1,
   "metadata": {},
   "outputs": [
    {
     "name": "stdout",
     "output_type": "stream",
     "text": [
      "b'STAT:SYS:TIME:14:58:11\\n'\n"
     ]
    }
   ],
   "source": [
    "import socket\n",
    "\n",
    "with socket.socket(socket.AF_INET, socket.SOCK_STREAM) as s:\n",
    "    # サーバを指定\n",
    "    s.connect(('150.12.70.76', 7020))\n",
    "    # サーバにメッセージを送る\n",
    "    s.sendall(b\"READ:SYS:TIME\\n\")\n",
    "    # ネットワークのバッファサイズは1024。サーバからの文字列を取得する\n",
    "    data = s.recv(1024)\n",
    "    #\n",
    "    print(repr(data))"
   ]
  },
  {
   "cell_type": "code",
   "execution_count": 62,
   "metadata": {},
   "outputs": [
    {
     "name": "stdout",
     "output_type": "stream",
     "text": [
      "b'OK\\r\\n'\n"
     ]
    }
   ],
   "source": [
    "import socket\n",
    "\n",
    "with socket.socket(socket.AF_INET, socket.SOCK_STREAM) as s:\n",
    "    # サーバを指定\n",
    "    s.connect(('150.12.70.32', 10001))\n",
    "    # サーバにメッセージを送る\n",
    "    s.sendall(b\"ABS8+20350\\n\")\n",
    "    # ネットワークのバッファサイズは1024。サーバからの文字列を取得する\n",
    "    data = s.recv(1024)\n",
    "    #\n",
    "    print(repr(data))\n",
    "    \n",
    "    ##100%の時6832で5.3mW\n",
    "    ##13580で4mW\n",
    "    ##20350で3mW"
   ]
  },
  {
   "cell_type": "code",
   "execution_count": 6,
   "metadata": {},
   "outputs": [],
   "source": [
    "import socket\n",
    "\n",
    "with socket.socket(socket.AF_INET, socket.SOCK_STREAM) as s:\n",
    "    # サーバを指定\n",
    "    s.connect(('150.12.70.32', 10001))\n",
    "    # サーバにメッセージを送る\n",
    "    s.sendall(b\"PS?1\\n\")\n",
    "    # ネットワークのバッファサイズは1024。サーバからの文字列を取得する\n",
    "    data = s.recv(1024)\n",
    "    #"
   ]
  },
  {
   "cell_type": "code",
   "execution_count": 8,
   "metadata": {},
   "outputs": [
    {
     "name": "stdout",
     "output_type": "stream",
     "text": [
      "b'+0139499\\r\\n'\n"
     ]
    }
   ],
   "source": [
    "print(repr(data))"
   ]
  },
  {
   "cell_type": "code",
   "execution_count": null,
   "metadata": {},
   "outputs": [],
   "source": [
    "import socket\n",
    "\n",
    "with socket.socket(socket.AF_INET, socket.SOCK_STREAM) as s:\n",
    "    # サーバを指定\n",
    "    s.connect(('150.12.71.38', 5025))\n",
    "    # サーバにメッセージを送る\n",
    "    s.sendall(b\":MEAS?\\n\")\n",
    "    # ネットワークのバッファサイズは1024。サーバからの文字列を取得する\n",
    "    data = s.recv(1024)\n",
    "    #\n",
    "    a=repr(data[:-1]).strip('b')\n",
    "    print(a)\n",
    "    \n",
    "with open('sample.txt', 'a') as f:\n",
    "  print(a, file=f)"
   ]
  },
  {
   "cell_type": "code",
   "execution_count": null,
   "metadata": {},
   "outputs": [],
   "source": [
    "import socket\n",
    "\n",
    "with socket.socket(socket.AF_INET, socket.SOCK_STREAM) as s:\n",
    "    # サーバを指定\n",
    "    s.connect(('150.12.70.32', 10001))\n",
    "    # サーバにメッセージを送る\n",
    "    s.sendall(b\"PS?1\\n\")\n",
    "    # ネットワークのバッファサイズは1024。サーバからの文字列を取得する\n",
    "    data2 = s.recv(1024)\n",
    "    #\n",
    "    b=repr(data2[:-2]).strip('b')\n",
    "    bb=b.replace(\"'\",\"\")\n",
    "    print(bb)"
   ]
  },
  {
   "cell_type": "code",
   "execution_count": 4,
   "metadata": {},
   "outputs": [
    {
     "name": "stdout",
     "output_type": "stream",
     "text": [
      "b'+0139499\\r\\n'\n"
     ]
    }
   ],
   "source": [
    "import socket\n",
    "\n",
    "with socket.socket(socket.AF_INET, socket.SOCK_STREAM) as s:\n",
    "    # サーバを指定\n",
    "    s.connect(('150.12.70.32', 10001))\n",
    "    # サーバにメッセージを送る\n",
    "    s.sendall(b\"PS?1\\n\")\n",
    "    # ネットワークのバッファサイズは1024。サーバからの文字列を取得する\n",
    "    data = s.recv(1024)\n",
    "    #\n",
    "    print(repr(data))"
   ]
  },
  {
   "cell_type": "code",
   "execution_count": 25,
   "metadata": {},
   "outputs": [
    {
     "name": "stdout",
     "output_type": "stream",
     "text": [
      "1.586280E-04\n",
      "+0819269\n"
     ]
    }
   ],
   "source": [
    "from matplotlib.lines import Line2D\n",
    "import matplotlib.pyplot as plt\n",
    "import matplotlib.animation as animation\n",
    "import socket\n",
    "import numpy as np\n",
    "\n",
    "with socket.socket(socket.AF_INET, socket.SOCK_STREAM) as s:\n",
    "    # サーバを指定\n",
    "    s.connect(('150.12.71.38', 5025))\n",
    "    # サーバにメッセージを送る\n",
    "    s.sendall(b\":MEAS?\\n\")\n",
    "    # ネットワークのバッファサイズは1024。サーバからの文字列を取得する\n",
    "    data1 = s.recv(1024)\n",
    "    #\n",
    "    a=repr(data1[:-1]).strip('b')\n",
    "    aa=a.replace(\"'\",\"\")\n",
    "    print(aa)\n",
    "\n",
    "with socket.socket(socket.AF_INET, socket.SOCK_STREAM) as s:\n",
    "    # サーバを指定\n",
    "    s.connect(('150.12.70.32', 10001))\n",
    "    # サーバにメッセージを送る\n",
    "    s.sendall(b\"PS?1\\n\")\n",
    "    # ネットワークのバッファサイズは1024。サーバからの文字列を取得する\n",
    "    data2 = s.recv(1024)\n",
    "    #\n",
    "    b=repr(data2[:-2]).strip('b')\n",
    "    bb=b.replace(\"'\",\"\")\n",
    "    print(bb)\n",
    "with open('sample.txt', 'a') as f:\n",
    "    print(bb,aa, file=f)"
   ]
  },
  {
   "cell_type": "code",
   "execution_count": 11,
   "metadata": {},
   "outputs": [
    {
     "name": "stdout",
     "output_type": "stream",
     "text": [
      "-1.374695E-04\n",
      "b'OK\\r\\n'\n",
      "+0840970\n",
      "[ 8.409700e+05 -1.374695e-04]\n"
     ]
    },
    {
     "ename": "IndexError",
     "evalue": "too many indices for array: array is 1-dimensional, but 2 were indexed",
     "output_type": "error",
     "traceback": [
      "\u001b[1;31m---------------------------------------------------------------------------\u001b[0m",
      "\u001b[1;31mIndexError\u001b[0m                                Traceback (most recent call last)",
      "\u001b[1;32m<ipython-input-11-8cfb9509b8a7>\u001b[0m in \u001b[0;36m<module>\u001b[1;34m\u001b[0m\n\u001b[0;32m     46\u001b[0m \u001b[0mc\u001b[0m\u001b[1;33m=\u001b[0m\u001b[0mnp\u001b[0m\u001b[1;33m.\u001b[0m\u001b[0mloadtxt\u001b[0m\u001b[1;33m(\u001b[0m\u001b[1;34m\"sample.txt\"\u001b[0m\u001b[1;33m)\u001b[0m\u001b[1;33m\u001b[0m\u001b[1;33m\u001b[0m\u001b[0m\n\u001b[0;32m     47\u001b[0m \u001b[0mprint\u001b[0m\u001b[1;33m(\u001b[0m\u001b[0mc\u001b[0m\u001b[1;33m)\u001b[0m\u001b[1;33m\u001b[0m\u001b[1;33m\u001b[0m\u001b[0m\n\u001b[1;32m---> 48\u001b[1;33m \u001b[0maw\u001b[0m\u001b[1;33m=\u001b[0m\u001b[0mc\u001b[0m\u001b[1;33m[\u001b[0m\u001b[1;33m:\u001b[0m\u001b[1;33m,\u001b[0m \u001b[1;36m0\u001b[0m\u001b[1;33m]\u001b[0m\u001b[1;33m\u001b[0m\u001b[1;33m\u001b[0m\u001b[0m\n\u001b[0m\u001b[0;32m     49\u001b[0m \u001b[0mae\u001b[0m\u001b[1;33m=\u001b[0m\u001b[0mc\u001b[0m\u001b[1;33m[\u001b[0m\u001b[1;33m:\u001b[0m\u001b[1;33m,\u001b[0m \u001b[1;36m1\u001b[0m\u001b[1;33m]\u001b[0m\u001b[1;33m\u001b[0m\u001b[1;33m\u001b[0m\u001b[0m\n\u001b[0;32m     50\u001b[0m \u001b[0mfig\u001b[0m \u001b[1;33m=\u001b[0m \u001b[0mplt\u001b[0m\u001b[1;33m.\u001b[0m\u001b[0mfigure\u001b[0m\u001b[1;33m(\u001b[0m\u001b[0mfigsize\u001b[0m\u001b[1;33m=\u001b[0m\u001b[1;33m(\u001b[0m\u001b[1;36m4\u001b[0m\u001b[1;33m,\u001b[0m \u001b[1;36m6\u001b[0m\u001b[1;33m)\u001b[0m\u001b[1;33m)\u001b[0m\u001b[1;33m\u001b[0m\u001b[1;33m\u001b[0m\u001b[0m\n",
      "\u001b[1;31mIndexError\u001b[0m: too many indices for array: array is 1-dimensional, but 2 were indexed"
     ]
    }
   ],
   "source": [
    "from matplotlib.lines import Line2D\n",
    "import matplotlib.pyplot as plt\n",
    "import matplotlib.animation as animation\n",
    "import socket\n",
    "import numpy as np\n",
    "\n",
    "\n",
    "with socket.socket(socket.AF_INET, socket.SOCK_STREAM) as s:\n",
    "                # サーバを指定\n",
    "                s.connect(('150.12.71.38', 5025))\n",
    "                # サーバにメッセージを送る\n",
    "                s.sendall(b\":MEAS?\\n\")\n",
    "                # ネットワークのバッファサイズは1024。サーバからの文字列を取得する\n",
    "                data1 = s.recv(1024)\n",
    "                #\n",
    "                a=repr(data1[:-1]).strip('b')\n",
    "                aa=a.replace(\"'\",\"\")\n",
    "                print(aa)\n",
    "\n",
    "with socket.socket(socket.AF_INET, socket.SOCK_STREAM) as s:\n",
    "                # サーバを指定\n",
    "                s.connect(('150.12.70.32', 10001))\n",
    "                # サーバにメッセージを送る\n",
    "                s.sendall(b\"REL1S-500\\n\")\n",
    "                # ネットワークのバッファサイズは1024。サーバからの文字列を取得する\n",
    "                data = s.recv(1024)\n",
    "                #\n",
    "                print(repr(data))   \n",
    "    \n",
    "with socket.socket(socket.AF_INET, socket.SOCK_STREAM) as s:\n",
    "                # サーバを指定\n",
    "                s.connect(('150.12.70.32', 10001))\n",
    "                # サーバにメッセージを送る\n",
    "                s.sendall(b\"PS?1\\n\")\n",
    "                # ネットワークのバッファサイズは1024。サーバからの文字列を取得する\n",
    "                data2 = s.recv(1024)\n",
    "                #\n",
    "                b=repr(data2[:-2]).strip('b')\n",
    "                bb=b.replace(\"'\",\"\")\n",
    "                print(bb)\n",
    "with open(\"sample.txt\", 'a') as f:\n",
    "                print(bb,aa, file=f)\n",
    "    \n",
    "import time\n",
    "time.sleep(3)\n",
    "c=np.loadtxt(\"sample.txt\")\n",
    "print(c)\n",
    "aw=c[:, 0]\n",
    "ae=c[:, 1]\n",
    "fig = plt.figure(figsize=(4, 6))\n",
    "ax = fig.add_subplot(111)\n",
    "ax.plot(aw, ae)\n",
    "plt.show()\n",
    "\n",
    "            \n",
    "\n",
    "i = 0\n",
    "while i < 3:\n",
    "\n",
    "            with socket.socket(socket.AF_INET, socket.SOCK_STREAM) as s:\n",
    "                # サーバを指定\n",
    "                s.connect(('150.12.71.38', 5025))\n",
    "                # サーバにメッセージを送る\n",
    "                s.sendall(b\":MEAS?\\n\")\n",
    "                # ネットワークのバッファサイズは1024。サーバからの文字列を取得する\n",
    "                data1 = s.recv(1024)\n",
    "                #\n",
    "                a=repr(data1[:-1]).strip('b')\n",
    "                aa=a.replace(\"'\",\"\")\n",
    "                print(aa)\n",
    "\n",
    "\n",
    "            with socket.socket(socket.AF_INET, socket.SOCK_STREAM) as s:\n",
    "                # サーバを指定\n",
    "                s.connect(('150.12.70.32', 10001))\n",
    "                # サーバにメッセージを送る\n",
    "                s.sendall(b\"REL1S-500\\n\")\n",
    "                # ネットワークのバッファサイズは1024。サーバからの文字列を取得する\n",
    "                data = s.recv(1024)\n",
    "                #\n",
    "                print(repr(data))   \n",
    "    \n",
    "    \n",
    "            with socket.socket(socket.AF_INET, socket.SOCK_STREAM) as s:\n",
    "                # サーバを指定\n",
    "                s.connect(('150.12.70.32', 10001))\n",
    "                # サーバにメッセージを送る\n",
    "                s.sendall(b\"PS?1\\n\")\n",
    "                # ネットワークのバッファサイズは1024。サーバからの文字列を取得する\n",
    "                data2 = s.recv(1024)\n",
    "                #\n",
    "                b=repr(data2[:-2]).strip('b')\n",
    "                bb=b.replace(\"'\",\"\")\n",
    "                print(bb)\n",
    "            with open(\"sample.txt\", 'a') as f:\n",
    "                print(bb,aa, file=f)\n",
    "    \n",
    "            import time\n",
    "            time.sleep(3)\n",
    "\n",
    "            c=np.loadtxt(\"sample.txt\")\n",
    "            print(c)\n",
    "            aw=c[:, 0]\n",
    "            ae=c[:, 1]\n",
    "            fig = plt.figure(figsize=(4, 6))\n",
    "            ax = fig.add_subplot(111)\n",
    "            ax.plot(aw, ae)\n",
    "            plt.show()\n",
    "\n",
    "            i += 1"
   ]
  },
  {
   "cell_type": "code",
   "execution_count": 12,
   "metadata": {},
   "outputs": [
    {
     "data": {
      "image/png": "[encoded data removed]",
      "text/plain": [
       "<Figure size 288x432 with 1 Axes>"
      ]
     },
     "metadata": {
      "needs_background": "light"
     },
     "output_type": "display_data"
    },
    {
     "data": {
      "image/png": "[encoded data removed]",
      "text/plain": [
       "<Figure size 288x432 with 1 Axes>"
      ]
     },
     "metadata": {
      "needs_background": "light"
     },
     "output_type": "display_data"
    },
    {
     "ename": "KeyboardInterrupt",
     "evalue": "",
     "output_type": "error",
     "traceback": [
      "\u001b[1;31m---------------------------------------------------------------------------\u001b[0m",
      "\u001b[1;31mKeyboardInterrupt\u001b[0m                         Traceback (most recent call last)",
      "\u001b[1;32m<ipython-input-12-ef6cabd7428e>\u001b[0m in \u001b[0;36m<module>\u001b[1;34m\u001b[0m\n\u001b[0;32m     98\u001b[0m \u001b[1;33m\u001b[0m\u001b[0m\n\u001b[0;32m     99\u001b[0m             \u001b[1;32mimport\u001b[0m \u001b[0mtime\u001b[0m\u001b[1;33m\u001b[0m\u001b[1;33m\u001b[0m\u001b[0m\n\u001b[1;32m--> 100\u001b[1;33m             \u001b[0mtime\u001b[0m\u001b[1;33m.\u001b[0m\u001b[0msleep\u001b[0m\u001b[1;33m(\u001b[0m\u001b[1;36m3\u001b[0m\u001b[1;33m)\u001b[0m\u001b[1;33m\u001b[0m\u001b[1;33m\u001b[0m\u001b[0m\n\u001b[0m\u001b[0;32m    101\u001b[0m \u001b[1;33m\u001b[0m\u001b[0m\n\u001b[0;32m    102\u001b[0m             \u001b[0mc\u001b[0m\u001b[1;33m=\u001b[0m\u001b[0mnp\u001b[0m\u001b[1;33m.\u001b[0m\u001b[0mloadtxt\u001b[0m\u001b[1;33m(\u001b[0m\u001b[1;34m\"sample.txt\"\u001b[0m\u001b[1;33m)\u001b[0m\u001b[1;33m\u001b[0m\u001b[1;33m\u001b[0m\u001b[0m\n",
      "\u001b[1;31mKeyboardInterrupt\u001b[0m: "
     ]
    }
   ],
   "source": [
    "from matplotlib.lines import Line2D\n",
    "import matplotlib.pyplot as plt\n",
    "import matplotlib.animation as animation\n",
    "import socket\n",
    "import numpy as np\n",
    "\n",
    "\n",
    "with socket.socket(socket.AF_INET, socket.SOCK_STREAM) as s:\n",
    "        # サーバを指定\n",
    "        s.connect(('150.12.71.38', 5025))\n",
    "        # サーバにメッセージを送る\n",
    "        s.sendall(b\":MEAS?\\n\")\n",
    "        # ネットワークのバッファサイズは1024。サーバからの文字列を取得する\n",
    "        data1 = s.recv(1024)\n",
    "        #\n",
    "        a=repr(data1[:-1]).strip('b')\n",
    "        aa=a.replace(\"'\",\"\")\n",
    "        \n",
    "\n",
    "\n",
    "with socket.socket(socket.AF_INET, socket.SOCK_STREAM) as s:\n",
    "        # サーバを指定\n",
    "        s.connect(('150.12.70.32', 10001))\n",
    "        # サーバにメッセージを送る\n",
    "        s.sendall(b\"REL1S-500\\n\")\n",
    "        # ネットワークのバッファサイズは1024。サーバからの文字列を取得する\n",
    "        data = s.recv(1024)\n",
    "        #\n",
    "         \n",
    "    \n",
    "with socket.socket(socket.AF_INET, socket.SOCK_STREAM) as s:\n",
    "        # サーバを指定\n",
    "        s.connect(('150.12.70.32', 10001))\n",
    "        # サーバにメッセージを送る\n",
    "        s.sendall(b\"PS?1\\n\")\n",
    "        # ネットワークのバッファサイズは1024。サーバからの文字列を取得する\n",
    "        data2 = s.recv(1024)\n",
    "        #\n",
    "        b=repr(data2[:-2]).strip('b')\n",
    "        bb=b.replace(\"'\",\"\")\n",
    "        \n",
    "with open(\"sample.txt\", 'a') as f:\n",
    "        print(bb,aa, file=f)\n",
    "    \n",
    "import time\n",
    "time.sleep(3)\n",
    "\n",
    "c=np.loadtxt(\"sample.txt\")\n",
    "\n",
    "aw=c[:, 0]\n",
    "ae=c[:, 1]\n",
    "fig = plt.figure(figsize=(4, 6))\n",
    "ax = fig.add_subplot(111)\n",
    "ax.plot(aw, ae)\n",
    "plt.show()\n",
    "\n",
    "\n",
    "i = 0\n",
    "while i < 3:\n",
    "\n",
    "            with socket.socket(socket.AF_INET, socket.SOCK_STREAM) as s:\n",
    "                # サーバを指定\n",
    "                s.connect(('150.12.71.38', 5025))\n",
    "                # サーバにメッセージを送る\n",
    "                s.sendall(b\":MEAS?\\n\")\n",
    "                # ネットワークのバッファサイズは1024。サーバからの文字列を取得する\n",
    "                data1 = s.recv(1024)\n",
    "                #\n",
    "                a=repr(data1[:-1]).strip('b')\n",
    "                aa=a.replace(\"'\",\"\")\n",
    "                \n",
    "\n",
    "\n",
    "            with socket.socket(socket.AF_INET, socket.SOCK_STREAM) as s:\n",
    "                # サーバを指定\n",
    "                s.connect(('150.12.70.32', 10001))\n",
    "                # サーバにメッセージを送る\n",
    "                s.sendall(b\"REL1S-500\\n\")\n",
    "                # ネットワークのバッファサイズは1024。サーバからの文字列を取得する\n",
    "                data = s.recv(1024)\n",
    "                #\n",
    "                \n",
    "    \n",
    "    \n",
    "            with socket.socket(socket.AF_INET, socket.SOCK_STREAM) as s:\n",
    "                # サーバを指定\n",
    "                s.connect(('150.12.70.32', 10001))\n",
    "                # サーバにメッセージを送る\n",
    "                s.sendall(b\"PS?1\\n\")\n",
    "                # ネットワークのバッファサイズは1024。サーバからの文字列を取得する\n",
    "                data2 = s.recv(1024)\n",
    "                #\n",
    "                b=repr(data2[:-2]).strip('b')\n",
    "                bb=b.replace(\"'\",\"\")\n",
    "                \n",
    "            with open(\"sample.txt\", 'a') as f:\n",
    "                print(bb,aa, file=f)\n",
    "    \n",
    "            import time\n",
    "            time.sleep(3)\n",
    "\n",
    "            c=np.loadtxt(\"sample.txt\")\n",
    "            \n",
    "            aw=c[:, 0]\n",
    "            ae=c[:, 1]\n",
    "            fig = plt.figure(figsize=(4, 6))\n",
    "            ax = fig.add_subplot(111)\n",
    "            ax.plot(aw, ae)\n",
    "            plt.show()\n",
    "\n",
    "            i += 1\n",
    "            \n"
   ]
  },
  {
   "cell_type": "code",
   "execution_count": 4,
   "metadata": {},
   "outputs": [
    {
     "ename": "KeyboardInterrupt",
     "evalue": "",
     "output_type": "error",
     "traceback": [
      "\u001b[1;31m---------------------------------------------------------------------------\u001b[0m",
      "\u001b[1;31mTimeoutError\u001b[0m                              Traceback (most recent call last)",
      "\u001b[1;32m<ipython-input-4-c08f1d4d9af5>\u001b[0m in \u001b[0;36m<module>\u001b[1;34m\u001b[0m\n\u001b[0;32m      9\u001b[0m         \u001b[1;31m# サーバを指定\u001b[0m\u001b[1;33m\u001b[0m\u001b[1;33m\u001b[0m\u001b[1;33m\u001b[0m\u001b[0m\n\u001b[1;32m---> 10\u001b[1;33m         \u001b[0ms\u001b[0m\u001b[1;33m.\u001b[0m\u001b[0mconnect\u001b[0m\u001b[1;33m(\u001b[0m\u001b[1;33m(\u001b[0m\u001b[1;34m'150.12.71.38'\u001b[0m\u001b[1;33m,\u001b[0m \u001b[1;36m5025\u001b[0m\u001b[1;33m)\u001b[0m\u001b[1;33m)\u001b[0m\u001b[1;33m\u001b[0m\u001b[1;33m\u001b[0m\u001b[0m\n\u001b[0m\u001b[0;32m     11\u001b[0m         \u001b[1;31m# サーバにメッセージを送る\u001b[0m\u001b[1;33m\u001b[0m\u001b[1;33m\u001b[0m\u001b[1;33m\u001b[0m\u001b[0m\n",
      "\u001b[1;31mTimeoutError\u001b[0m: [WinError 10060] 接続済みの呼び出し先が一定の時間を過ぎても正しく応答しなかったため、接続できませんでした。または接続済みのホストが応答しなかったため、確立された接続は失敗しました。",
      "\nDuring handling of the above exception, another exception occurred:\n",
      "\u001b[1;31mKeyboardInterrupt\u001b[0m                         Traceback (most recent call last)",
      "\u001b[1;32m<ipython-input-4-c08f1d4d9af5>\u001b[0m in \u001b[0;36m<module>\u001b[1;34m\u001b[0m\n\u001b[0;32m      8\u001b[0m     \u001b[1;32mwith\u001b[0m \u001b[0msocket\u001b[0m\u001b[1;33m.\u001b[0m\u001b[0msocket\u001b[0m\u001b[1;33m(\u001b[0m\u001b[0msocket\u001b[0m\u001b[1;33m.\u001b[0m\u001b[0mAF_INET\u001b[0m\u001b[1;33m,\u001b[0m \u001b[0msocket\u001b[0m\u001b[1;33m.\u001b[0m\u001b[0mSOCK_STREAM\u001b[0m\u001b[1;33m)\u001b[0m \u001b[1;32mas\u001b[0m \u001b[0ms\u001b[0m\u001b[1;33m:\u001b[0m\u001b[1;33m\u001b[0m\u001b[1;33m\u001b[0m\u001b[0m\n\u001b[0;32m      9\u001b[0m         \u001b[1;31m# サーバを指定\u001b[0m\u001b[1;33m\u001b[0m\u001b[1;33m\u001b[0m\u001b[1;33m\u001b[0m\u001b[0m\n\u001b[1;32m---> 10\u001b[1;33m         \u001b[0ms\u001b[0m\u001b[1;33m.\u001b[0m\u001b[0mconnect\u001b[0m\u001b[1;33m(\u001b[0m\u001b[1;33m(\u001b[0m\u001b[1;34m'150.12.71.38'\u001b[0m\u001b[1;33m,\u001b[0m \u001b[1;36m5025\u001b[0m\u001b[1;33m)\u001b[0m\u001b[1;33m)\u001b[0m\u001b[1;33m\u001b[0m\u001b[1;33m\u001b[0m\u001b[0m\n\u001b[0m\u001b[0;32m     11\u001b[0m         \u001b[1;31m# サーバにメッセージを送る\u001b[0m\u001b[1;33m\u001b[0m\u001b[1;33m\u001b[0m\u001b[1;33m\u001b[0m\u001b[0m\n\u001b[0;32m     12\u001b[0m         \u001b[0ms\u001b[0m\u001b[1;33m.\u001b[0m\u001b[0msendall\u001b[0m\u001b[1;33m(\u001b[0m\u001b[1;34mb\":MEAS?\\n\"\u001b[0m\u001b[1;33m)\u001b[0m\u001b[1;33m\u001b[0m\u001b[1;33m\u001b[0m\u001b[0m\n",
      "\u001b[1;31mKeyboardInterrupt\u001b[0m: "
     ]
    }
   ],
   "source": [
    "from matplotlib.lines import Line2D\n",
    "import matplotlib.pyplot as plt\n",
    "import matplotlib.animation as animation\n",
    "import socket\n",
    "import numpy as np\n",
    "\n",
    "for i in range(3):\n",
    "    with socket.socket(socket.AF_INET, socket.SOCK_STREAM) as s:\n",
    "        # サーバを指定\n",
    "        s.connect(('150.12.71.38', 5025))\n",
    "        # サーバにメッセージを送る\n",
    "        s.sendall(b\":MEAS?\\n\")\n",
    "        # ネットワークのバッファサイズは1024。サーバからの文字列を取得する\n",
    "        data1 = s.recv(1024)\n",
    "        #\n",
    "        a=repr(data1[:-1]).strip('b')\n",
    "        aa=a.replace(\"'\",\"\")\n",
    "        \n",
    "\n",
    "\n",
    "    \n",
    "    \n",
    "    with socket.socket(socket.AF_INET, socket.SOCK_STREAM) as s:\n",
    "        # サーバを指定\n",
    "        s.connect(('150.12.70.32', 10001))\n",
    "        # サーバにメッセージを送る\n",
    "        s.sendall(b\"PS?1\\n\")\n",
    "        # ネットワークのバッファサイズは1024。サーバからの文字列を取得する\n",
    "        data2 = s.recv(1024)\n",
    "        #\n",
    "        b=repr(data2[:-2]).strip('b')\n",
    "        bb=b.replace(\"'\",\"\")\n",
    "        \n",
    "    with open(\"sample.txt\", 'a') as f:\n",
    "        print(bb,aa, file=f)\n",
    "    \n",
    "    \n",
    "    c=np.loadtxt(\"sample.txt\")\n",
    "\n",
    "import tkinter\n",
    "\n",
    "from matplotlib.backends.backend_tkagg import (\n",
    "    FigureCanvasTkAgg, NavigationToolbar2Tk)\n",
    "from matplotlib.figure import Figure\n",
    "import matplotlib.animation as animation\n",
    "\n",
    "import numpy as np\n",
    "\n",
    "\n",
    "def _quit():\n",
    "    root.quit()     # stops mainloop\n",
    "    root.destroy()  # this is necessary on Windows to prevent\n",
    "                    # Fatal Python Error: PyEval_RestoreThread: NULL tstate\n",
    "    aw=c[:, 0]\n",
    "    ae=c[:, 1]\n",
    "\n",
    "    def init():  # only required for blitting to give a clean slate.\n",
    "        line.set_ydata(aw)\n",
    "        return line,\n",
    "\n",
    "\n",
    "    def animate(i):\n",
    "        line.set_ydata(ae)  # update the data.\n",
    "        return line,\n",
    "\n",
    "\n",
    "    root = tkinter.Tk()\n",
    "    root.wm_title(\"Embedding in Tk anim\")\n",
    "\n",
    "    fig = Figure()\n",
    "    # FuncAnimationより前に呼ぶ必要がある\n",
    "    canvas = FigureCanvasTkAgg(fig, master=root)  # A tk.DrawingArea.\n",
    "\n",
    "    x = np.arange(0, 3, 0.01)  # x軸(固定の値)\n",
    "    l = np.arange(0, 8, 0.01)  # 表示期間(FuncAnimationで指定する関数の引数になる)\n",
    "    plt = fig.add_subplot(111)\n",
    "    plt.set_ylim([-1.1, 1.1])\n",
    "\n",
    "    line, = plt.plot(aw, ae)\n",
    "\n",
    "    ani = animation.FuncAnimation(fig, animate, l,\n",
    "        init_func=init, interval=10, blit=True,\n",
    "        )\n",
    "\n",
    "    toolbar = NavigationToolbar2Tk(canvas, root)\n",
    "    canvas.get_tk_widget().pack()\n",
    "\n",
    "    button = tkinter.Button(master=root, text=\"Quit\", command=_quit)\n",
    "    button.pack()\n",
    "\n",
    "    tkinter.mainloop()"
   ]
  },
  {
   "cell_type": "code",
   "execution_count": 11,
   "metadata": {},
   "outputs": [],
   "source": [
    "import tkinter\n",
    "\n",
    "from matplotlib.backends.backend_tkagg import (\n",
    "    FigureCanvasTkAgg, NavigationToolbar2Tk)\n",
    "from matplotlib.figure import Figure\n",
    "import matplotlib.animation as animation\n",
    "\n",
    "import numpy as np\n",
    "\n",
    "\n",
    "def _quit():\n",
    "    root.quit()     # stops mainloop\n",
    "    root.destroy()  # this is necessary on Windows to prevent\n",
    "                    # Fatal Python Error: PyEval_RestoreThread: NULL tstate\n",
    "\n",
    "\n",
    "def init():  # only required for blitting to give a clean slate.\n",
    "    line.set_ydata(np.tan(x))\n",
    "    return line,\n",
    "\n",
    "\n",
    "def animate(i):\n",
    "    line.set_ydata(np.tan(x + i))  # update the data.\n",
    "    return line,\n",
    "\n",
    "\n",
    "root = tkinter.Tk()\n",
    "root.wm_title(\"Embedding in Tk anim\")\n",
    "\n",
    "fig = Figure()\n",
    "# FuncAnimationより前に呼ぶ必要がある\n",
    "canvas = FigureCanvasTkAgg(fig, master=root)  # A tk.DrawingArea.\n",
    "\n",
    "x = np.arange(0, 3, 0.01)  # x軸(固定の値)\n",
    "l = np.arange(0, 8, 0.01)  # 表示期間(FuncAnimationで指定する関数の引数になる)\n",
    "plt = fig.add_subplot(111)\n",
    "plt.set_ylim([-1.1, 1.1])\n",
    "line, = plt.plot(x, np.sin(x))\n",
    "\n",
    "ani = animation.FuncAnimation(fig, animate, l,\n",
    "    init_func=init, interval=10, blit=True,\n",
    "    )\n",
    "\n",
    "toolbar = NavigationToolbar2Tk(canvas, root)\n",
    "canvas.get_tk_widget().pack()\n",
    "\n",
    "button = tkinter.Button(master=root, text=\"Quit\", command=_quit)\n",
    "button.pack()\n",
    "\n",
    "tkinter.mainloop()"
   ]
  },
  {
   "cell_type": "code",
   "execution_count": 1,
   "metadata": {},
   "outputs": [
    {
     "name": "stdout",
     "output_type": "stream",
     "text": [
      "b'+0139499\\r\\n'\n"
     ]
    }
   ],
   "source": [
    "from module import motorStatus"
   ]
  },
  {
   "cell_type": "code",
   "execution_count": 3,
   "metadata": {},
   "outputs": [
    {
     "ename": "SyntaxError",
     "evalue": "invalid syntax (<ipython-input-3-5ae7e497f115>, line 1)",
     "output_type": "error",
     "traceback": [
      "\u001b[1;36m  File \u001b[1;32m\"<ipython-input-3-5ae7e497f115>\"\u001b[1;36m, line \u001b[1;32m1\u001b[0m\n\u001b[1;33m    ping 150.12.70.204\u001b[0m\n\u001b[1;37m         ^\u001b[0m\n\u001b[1;31mSyntaxError\u001b[0m\u001b[1;31m:\u001b[0m invalid syntax\n"
     ]
    }
   ],
   "source": [
    "ping 150.12.70.204"
   ]
  },
  {
   "cell_type": "code",
   "execution_count": null,
   "metadata": {},
   "outputs": [],
   "source": []
  }
 ],
 "metadata": {
  "kernelspec": {
   "display_name": "Python 3 (ipykernel)",
   "language": "python",
   "name": "python3"
  },
  "language_info": {
   "codemirror_mode": {
    "name": "ipython",
    "version": 3
   },
   "file_extension": ".py",
   "mimetype": "text/x-python",
   "name": "python",
   "nbconvert_exporter": "python",
   "pygments_lexer": "ipython3",
   "version": "3.9.7"
  },
  "widgets": {
   "application/vnd.jupyter.widget-state+json": {
    "state": {},
    "version_major": 2,
    "version_minor": 0
   }
  }
 },
 "nbformat": 4,
 "nbformat_minor": 4
}
