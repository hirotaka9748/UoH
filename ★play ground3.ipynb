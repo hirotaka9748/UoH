{
 "cells": [
  {
   "cell_type": "code",
   "execution_count": 1,
   "metadata": {},
   "outputs": [],
   "source": [
    "import tkinter as tk\n",
    "from tkinter import ttk\n",
    "import cv2\n",
    "import PIL.Image, PIL.ImageTk\n",
    "from tkinter import font\n",
    "import time\n",
    "\n",
    "\n",
    "class Application(tk.Frame):\n",
    "    def __init__(self,master, video_source=0):\n",
    "        super().__init__(master)\n",
    "\n",
    "        self.master.geometry(\"700x700\")\n",
    "        self.master.title(\"Tkinter with Video Streaming and Capture\")\n",
    "\n",
    "        # ---------------------------------------------------------\n",
    "        # Font\n",
    "        # ---------------------------------------------------------\n",
    "        self.font_frame = font.Font( family=\"Meiryo UI\", size=15, weight=\"normal\" )\n",
    "        self.font_btn_big = font.Font( family=\"Meiryo UI\", size=20, weight=\"bold\" )\n",
    "        self.font_btn_small = font.Font( family=\"Meiryo UI\", size=15, weight=\"bold\" )\n",
    "\n",
    "        self.font_lbl_bigger = font.Font( family=\"Meiryo UI\", size=45, weight=\"bold\" )\n",
    "        self.font_lbl_big = font.Font( family=\"Meiryo UI\", size=30, weight=\"bold\" )\n",
    "        self.font_lbl_middle = font.Font( family=\"Meiryo UI\", size=15, weight=\"bold\" )\n",
    "        self.font_lbl_small = font.Font( family=\"Meiryo UI\", size=12, weight=\"normal\" )\n",
    "\n",
    "        # ---------------------------------------------------------\n",
    "        # Open the video source\n",
    "        # ---------------------------------------------------------\n",
    "\n",
    "        self.vcap = cv2.VideoCapture( video_source )\n",
    "        self.width = self.vcap.get( cv2.CAP_PROP_FRAME_WIDTH )\n",
    "        self.height = self.vcap.get( cv2.CAP_PROP_FRAME_HEIGHT )\n",
    "\n",
    "        # ---------------------------------------------------------\n",
    "        # Widget\n",
    "        # ---------------------------------------------------------\n",
    "\n",
    "        self.create_widgets()\n",
    "\n",
    "        # ---------------------------------------------------------\n",
    "        # Canvas Update\n",
    "        # ---------------------------------------------------------\n",
    "\n",
    "        self.delay = 15 #[mili seconds]\n",
    "        self.update()\n",
    "\n",
    "\n",
    "    def create_widgets(self):\n",
    "\n",
    "        #Frame_Camera\n",
    "        self.frame_cam = tk.LabelFrame(self.master, text = 'Camera', font=self.font_frame)\n",
    "        self.frame_cam.place(x = 10, y = 10)\n",
    "        self.frame_cam.configure(width = self.width+30, height = self.height+50)\n",
    "        self.frame_cam.grid_propagate(0)\n",
    "\n",
    "        #Canvas\n",
    "        self.canvas1 = tk.Canvas(self.frame_cam)\n",
    "        self.canvas1.configure( width= self.width, height=self.height)\n",
    "        self.canvas1.grid(column= 0, row=0,padx = 10, pady=10)\n",
    "\n",
    "        # Frame_Button\n",
    "        self.frame_btn = tk.LabelFrame( self.master, text='Control', font=self.font_frame )\n",
    "        self.frame_btn.place( x=10, y=550 )\n",
    "        self.frame_btn.configure( width=self.width + 30, height=120 )\n",
    "        self.frame_btn.grid_propagate( 0 )\n",
    "\n",
    "        #Snapshot Button\n",
    "        self.btn_snapshot = tk.Button( self.frame_btn, text='Snapshot', font=self.font_btn_big)\n",
    "        self.btn_snapshot.configure(width = 15, height = 1, command=self.press_snapshot_button)\n",
    "        self.btn_snapshot.grid(column=0, row=0, padx=30, pady= 10)\n",
    "\n",
    "        # Close\n",
    "        self.btn_close = tk.Button( self.frame_btn, text='Close', font=self.font_btn_big )\n",
    "        self.btn_close.configure( width=15, height=1, command=self.press_close_button )\n",
    "        self.btn_close.grid( column=1, row=0, padx=20, pady=10 )\n",
    "\n",
    "\n",
    "\n",
    "\n",
    "    def update(self):\n",
    "        #Get a frame from the video source\n",
    "        _, frame = self.vcap.read()\n",
    "\n",
    "        frame = cv2.cvtColor(frame, cv2.COLOR_BGR2RGB)\n",
    "        self.photo = PIL.ImageTk.PhotoImage(image = PIL.Image.fromarray(frame))\n",
    "\n",
    "        #self.photo -> Canvas\n",
    "        self.canvas1.create_image(0,0, image= self.photo, anchor = tk.NW)\n",
    "\n",
    "        self.master.after(self.delay, self.update)\n",
    "\n",
    "    def press_snapshot_button(self):\n",
    "        # Get a frame from the video source\n",
    "        _, frame = self.vcap.read()\n",
    "\n",
    "        frame1 = cv2.cvtColor(frame, cv2.COLOR_BGR2RGB)\n",
    "\n",
    "        cv2.imwrite( \"frame-\" + time.strftime( \"%Y-%d-%m-%H-%M-%S\" ) + \".jpg\",\n",
    "                     cv2.cvtColor( frame1, cv2.COLOR_BGR2RGB ) )\n",
    "\n",
    "    def press_close_button(self):\n",
    "        self.master.destroy()\n",
    "        self.vcap.release()\n",
    "\n",
    "\n",
    "\n",
    "\n",
    "\n",
    "def main():\n",
    "    root = tk.Tk()\n",
    "    app = Application(master=root)#Inherit\n",
    "    app.mainloop()\n",
    "\n",
    "if __name__ == \"__main__\":\n",
    "    main()\n",
    "\n"
   ]
  },
  {
   "cell_type": "code",
   "execution_count": 1,
   "metadata": {},
   "outputs": [
    {
     "ename": "SystemExit",
     "evalue": "0",
     "output_type": "error",
     "traceback": [
      "An exception has occurred, use %tb to see the full traceback.\n",
      "\u001b[1;31mSystemExit\u001b[0m\u001b[1;31m:\u001b[0m 0\n"
     ]
    },
    {
     "name": "stderr",
     "output_type": "stream",
     "text": [
      "C:\\Users\\wadat\\anaconda3\\lib\\site-packages\\IPython\\core\\interactiveshell.py:3426: UserWarning: To exit: use 'exit', 'quit', or Ctrl-D.\n",
      "  warn(\"To exit: use 'exit', 'quit', or Ctrl-D.\", stacklevel=1)\n"
     ]
    }
   ],
   "source": [
    "import sys\n",
    "from PyQt5.QtCore import *\n",
    "from PyQt5.QtWidgets import *\n",
    "import sip\n",
    " \n",
    "class MainWindow(QWidget):\n",
    "    def __init__(self, parent=None):\n",
    "        super(MainWindow, self).__init__(parent)\n",
    " \n",
    "        self.setGeometry(300, 50, 400, 350)\n",
    "        self.setWindowTitle('QCheckBox')\n",
    " \n",
    "if __name__ == '__main__':\n",
    "    app = QApplication(sys.argv)\n",
    "    main_window = MainWindow()\n",
    "    main_window.show()\n",
    "    sys.exit(app.exec_())"
   ]
  },
  {
   "cell_type": "code",
   "execution_count": 1,
   "metadata": {},
   "outputs": [
    {
     "ename": "SystemExit",
     "evalue": "0",
     "output_type": "error",
     "traceback": [
      "An exception has occurred, use %tb to see the full traceback.\n",
      "\u001b[1;31mSystemExit\u001b[0m\u001b[1;31m:\u001b[0m 0\n"
     ]
    },
    {
     "name": "stderr",
     "output_type": "stream",
     "text": [
      "C:\\Users\\wadat\\anaconda3\\lib\\site-packages\\IPython\\core\\interactiveshell.py:3426: UserWarning: To exit: use 'exit', 'quit', or Ctrl-D.\n",
      "  warn(\"To exit: use 'exit', 'quit', or Ctrl-D.\", stacklevel=1)\n"
     ]
    }
   ],
   "source": [
    "#!/usr/bin/python\n",
    "# -*- coding: utf-8 -*-\n",
    "import sys\n",
    "from PyQt5 import QtGui\n",
    "\n",
    "def main():\n",
    "    app = QtGui.QApplication(sys.argv)\n",
    "    w = QtGui.QWidget()\n",
    "    w.resize(250, 150)\n",
    "    w.setWindowTitle('QtSample')\n",
    "    w.setWindowIcon(QtGui.QIcon('pythonlogo.png'))  #アプリケーションアイコンを設定 (Pythonのロゴ)\n",
    "    w.show()\n",
    "    sys.exit(app.exec_())\n",
    "\n",
    "if __name__ == '__main__':\n",
    "    main()"
   ]
  },
  {
   "cell_type": "code",
   "execution_count": 2,
   "metadata": {},
   "outputs": [
    {
     "ename": "SyntaxError",
     "evalue": "invalid syntax (<ipython-input-2-da13bb33ed4d>, line 4)",
     "output_type": "error",
     "traceback": [
      "\u001b[1;36m  File \u001b[1;32m\"<ipython-input-2-da13bb33ed4d>\"\u001b[1;36m, line \u001b[1;32m4\u001b[0m\n\u001b[1;33m    int main(int argc, char** argv)\u001b[0m\n\u001b[1;37m        ^\u001b[0m\n\u001b[1;31mSyntaxError\u001b[0m\u001b[1;31m:\u001b[0m invalid syntax\n"
     ]
    }
   ],
   "source": [
    "#include <QApplication>\n",
    "#include <QPushButton>\n",
    "\n",
    "int main(int argc, char** argv)\n",
    "{\n",
    "    QApplication app(argc, argv);\n",
    "    QPushButton* button = new QPushButton(\"Quit\");\n",
    "    QObject::connect(button, SIGNAL( clicked() ),\n",
    "            &app, SLOT(quit()) );\n",
    "    button->show();\n",
    "    return app.exec();\n",
    "}"
   ]
  },
  {
   "cell_type": "code",
   "execution_count": null,
   "metadata": {},
   "outputs": [],
   "source": [
    "#!/usr/bin/env python\n",
    "# coding: utf-8\n",
    "#\n",
    "\n",
    "import sys\n",
    "from PyQt5.QtWidgets import QApplication, QWidget, QPushButton, QGridLayout, QLabel\n",
    "\n",
    "class ExampleWidget(QWidget):\n",
    "\n",
    "    def __init__(self):\n",
    "        super().__init__()\n",
    "        self.initUI()\n",
    "\n",
    "    def initUI(self):\n",
    "        self.resize(250, 150)\n",
    "        self.move(300, 300)\n",
    "        self.setWindowTitle('sample')\n",
    "\n",
    "        # buttonの設定\n",
    "        self.button = QPushButton('Clear!!')\n",
    "        self.label = QLabel('connected')\n",
    "\n",
    "        # buttonのclickでラベルをクリア\n",
    "        self.button.clicked.connect(self.label.clear)\n",
    "\n",
    "        # レイアウト配置\n",
    "        self.grid = QGridLayout()\n",
    "        self.grid.addWidget(self.button, 0, 0, 1, 1)\n",
    "        self.grid.addWidget(self.label, 1, 0, 1, 2)\n",
    "        self.setLayout(self.grid)\n",
    "\n",
    "        # 表示\n",
    "        self.show()\n",
    "\n",
    "\n",
    "if __name__ == '__main__':\n",
    "\n",
    "    app = QApplication(sys.argv)\n",
    "    ew = ExampleWidget()    \n",
    "    sys.exit(app.exec_())\n",
    "\n",
    "    \n"
   ]
  },
  {
   "cell_type": "code",
   "execution_count": 2,
   "metadata": {},
   "outputs": [
    {
     "ename": "ModuleNotFoundError",
     "evalue": "No module named 'func_persephonep'",
     "output_type": "error",
     "traceback": [
      "\u001b[1;31m---------------------------------------------------------------------------\u001b[0m",
      "\u001b[1;31mModuleNotFoundError\u001b[0m                       Traceback (most recent call last)",
      "\u001b[1;32m<ipython-input-2-836c5214a94a>\u001b[0m in \u001b[0;36m<module>\u001b[1;34m\u001b[0m\n\u001b[0;32m      6\u001b[0m \u001b[1;32mfrom\u001b[0m \u001b[0mPyQt5\u001b[0m\u001b[1;33m.\u001b[0m\u001b[0mQtWidgets\u001b[0m \u001b[1;32mimport\u001b[0m \u001b[0mQMainWindow\u001b[0m\u001b[1;33m,\u001b[0m \u001b[0mQWidget\u001b[0m\u001b[1;33m,\u001b[0m \u001b[0mQPushButton\u001b[0m\u001b[1;33m,\u001b[0m \u001b[0mQTabWidget\u001b[0m\u001b[1;33m,\u001b[0m \u001b[0mQApplication\u001b[0m\u001b[1;33m,\u001b[0m \u001b[0mQHBoxLayout\u001b[0m\u001b[1;33m,\u001b[0m \u001b[0mQVBoxLayout\u001b[0m\u001b[1;33m,\u001b[0m \u001b[0mQLabel\u001b[0m\u001b[1;33m,\u001b[0m \u001b[0mQGridLayout\u001b[0m\u001b[1;33m\u001b[0m\u001b[1;33m\u001b[0m\u001b[0m\n\u001b[0;32m      7\u001b[0m \u001b[1;32mfrom\u001b[0m \u001b[0mPyQt5\u001b[0m\u001b[1;33m.\u001b[0m\u001b[0mQtGui\u001b[0m \u001b[1;32mimport\u001b[0m \u001b[0mQIcon\u001b[0m\u001b[1;33m\u001b[0m\u001b[1;33m\u001b[0m\u001b[0m\n\u001b[1;32m----> 8\u001b[1;33m \u001b[1;32mfrom\u001b[0m \u001b[0mfunc_persephonep\u001b[0m \u001b[1;32mimport\u001b[0m \u001b[1;33m*\u001b[0m\u001b[1;33m\u001b[0m\u001b[1;33m\u001b[0m\u001b[0m\n\u001b[0m\u001b[0;32m      9\u001b[0m \u001b[1;32mfrom\u001b[0m \u001b[0mPyQt5\u001b[0m\u001b[1;33m.\u001b[0m\u001b[0mQtCore\u001b[0m \u001b[1;32mimport\u001b[0m \u001b[0mpyqtSlot\u001b[0m\u001b[1;33m\u001b[0m\u001b[1;33m\u001b[0m\u001b[0m\n\u001b[0;32m     10\u001b[0m \u001b[1;33m\u001b[0m\u001b[0m\n",
      "\u001b[1;31mModuleNotFoundError\u001b[0m: No module named 'func_persephonep'"
     ]
    }
   ],
   "source": [
    "#!/usr/bin/env python\n",
    "# coding: utf-8\n",
    "#\n",
    "\n",
    "import sys\n",
    "from PyQt5.QtWidgets import QMainWindow, QWidget, QPushButton, QTabWidget, QApplication, QHBoxLayout, QVBoxLayout, QLabel, QGridLayout\n",
    "from PyQt5.QtGui import QIcon\n",
    "from func_persephonep import *\n",
    "from PyQt5.QtCore import pyqtSlot\n",
    "\n",
    "__program__ = 'PERSEPHONEP'\n",
    "\n",
    "class PersephoneMainWidget(QMainWindow):\n",
    "\n",
    "    def __init__(self):\n",
    "        super().__init__()\n",
    "        self.title = __program__\n",
    "        self.left = 100\n",
    "        self.top = 100\n",
    "        self.width = 1200\n",
    "        self.height = 800\n",
    "        self.setWindowTitle(self.title)\n",
    "        self.setGeometry(self.left, self.top, self.width, self.height)\n",
    "        self.table_widget = PersephoneTableWidget(self)\n",
    "        self.setCentralWidget(self.table_widget)\n",
    "\n",
    "        self.show()\n",
    "\n",
    "class PersephoneTableWidget(QWidget):\n",
    "\n",
    "    def __init__(self, parent):\n",
    "        super(QWidget, self).__init__(parent)\n",
    "        self.layout = QVBoxLayout(self)\n",
    "\n",
    "\n",
    "        # initialize tab screen\n",
    "        self.tabs = QTabWidget()\n",
    "        # self.tab1 = QWidget()\n",
    "        # self.tab2 = QWidget()\n",
    "        self.tab = []\n",
    "        self.tabs.resize(1200, 800)\n",
    "\n",
    "        # Add Tabs\n",
    "        self._addTab(0)\n",
    "        # self.tabs.addTab(self.tab1, 'Tab 1')\n",
    "        # self.tabs.addTab(self.tab2, 'Tab 2')\n",
    "        self.add_button = QPushButton('+')\n",
    "        self.add_button.setStyleSheet('background-color:gray')\n",
    "        self.add_button.clicked.connect(self._addTab)\n",
    "        self.app_info = QLabel('PERSEPHONE is developed by @montblanc18. This is a Web Browser based on Python 3 and PyQt5.')\n",
    "\n",
    "        # define the delete tab process\n",
    "        self.tabs.tabCloseRequested.connect(self.closeTab)\n",
    "\n",
    "        # Create first tab\n",
    "        self.tabs.setTabsClosable(True);\n",
    "        self.tab[0].layout = QVBoxLayout(self)\n",
    "        self.pushButton1 = QPushButton('PyQt5 button')\n",
    "        self.tab[0].layout.addWidget(self.pushButton1)\n",
    "        self.tab[0].setLayout(self.tab[0].layout)\n",
    "\n",
    "        # Add tabs to widget\n",
    "        self.layout.addWidget(self.add_button)\n",
    "        self.layout.addWidget(self.tabs)\n",
    "        self.setLayout(self.layout)\n",
    "\n",
    "    def _addTab(self, index):\n",
    "        ''' add Tab\n",
    "        '''\n",
    "        self.tab.append(PersephoneWindow(parent = self))\n",
    "        self.tabs.addTab(self.tab[index-1], '')\n",
    "\n",
    "    def closeTab(self, index):\n",
    "        ''' close Tab. \n",
    "        '''\n",
    "        widget = self.tabs.widget(index)\n",
    "        self.tabs.removeTab(index)\n",
    "\n",
    "    def center(self):\n",
    "        ''' centering widget\n",
    "        '''\n",
    "        qr = self.frameGeometry()\n",
    "        cp = QDesktopWidget().availableGeometry().center()\n",
    "        qr.moveCenter(cp)\n",
    "        self.move(qr.topLeft())\n",
    "\n",
    "\n",
    "\n",
    "    @pyqtSlot()\n",
    "    def on_click(self):\n",
    "        print(\"\\n\")\n",
    "        for currentQTableWidgetItem in self.tableWidget.selectedItems():\n",
    "            print(currentQTableWidgetItem.row(), currentQTableWidgetItem.column(), currentQTableWidgetItem.text())\n",
    "\n",
    "\n",
    "if __name__ == '__main__':\n",
    "    app = QApplication(sys.argv)\n",
    "\n",
    "    # setWindowIcon is a method for QApplication, not for QWidget\n",
    "    path = os.path.join(os.path.dirname(sys.modules[__name__].__file__), 'icon_persephone.png')\n",
    "    app.setWindowIcon(QIcon(path))\n",
    "\n",
    "\n",
    "    ui = PersephoneMainWidget()\n",
    "    sys.exit(app.exec_())\n"
   ]
  },
  {
   "cell_type": "code",
   "execution_count": 1,
   "metadata": {},
   "outputs": [
    {
     "name": "stdout",
     "output_type": "stream",
     "text": [
      "Active: FALSE\n",
      "Active: FALSE\n"
     ]
    },
    {
     "ename": "SystemExit",
     "evalue": "0",
     "output_type": "error",
     "traceback": [
      "An exception has occurred, use %tb to see the full traceback.\n",
      "\u001b[1;31mSystemExit\u001b[0m\u001b[1;31m:\u001b[0m 0\n"
     ]
    },
    {
     "name": "stderr",
     "output_type": "stream",
     "text": [
      "C:\\Users\\wadat\\anaconda3\\lib\\site-packages\\IPython\\core\\interactiveshell.py:3426: UserWarning: To exit: use 'exit', 'quit', or Ctrl-D.\n",
      "  warn(\"To exit: use 'exit', 'quit', or Ctrl-D.\", stacklevel=1)\n"
     ]
    }
   ],
   "source": [
    "import sys\n",
    "from PyQt5.QtWidgets import QMainWindow, QApplication, QDesktopWidget\n",
    "from PyQt5.QtWidgets import QAction, QStyle\n",
    "#from PyQt5.QtGui import QIcon\n",
    "\n",
    "\n",
    "class Main(QMainWindow):\n",
    "    def __init__(self):\n",
    "        super().__init__()\n",
    "\n",
    "        toolbar = self.addToolBar(\"\")\n",
    "\n",
    "        aButtonIcon = QAction(\n",
    "                #QIcon(\"adelie.png\"),\n",
    "                QApplication.style().standardIcon(QStyle.SP_DirOpenIcon),\n",
    "                \"button\",\n",
    "                self)\n",
    "\n",
    "        #aButtonIcon.setCheckable(True)\n",
    "\n",
    "        aButtonIcon.triggered.connect(self.buttonIconPress)\n",
    "        toolbar.addAction(aButtonIcon)\n",
    "\n",
    "        self.setWindowTitle(\"tool bar\")\n",
    "        self.resize(320, 240)\n",
    "        self.show()\n",
    "\n",
    "    def buttonIconPress(self, active):\n",
    "        if active:\n",
    "            print(\"Active: TRUE\")\n",
    "        else:\n",
    "            print(\"Active: FALSE\")\n",
    "\n",
    "\n",
    "if __name__ == \"__main__\":\n",
    "    app = QApplication(sys.argv)\n",
    "    win = Main()\n",
    "    sys.exit(app.exec_())"
   ]
  },
  {
   "cell_type": "code",
   "execution_count": 1,
   "metadata": {},
   "outputs": [
    {
     "ename": "SyntaxError",
     "evalue": "invalid syntax (<ipython-input-1-ae174319a685>, line 17)",
     "output_type": "error",
     "traceback": [
      "\u001b[1;36m  File \u001b[1;32m\"<ipython-input-1-ae174319a685>\"\u001b[1;36m, line \u001b[1;32m17\u001b[0m\n\u001b[1;33m    print np.mean(img),np.std(img)\u001b[0m\n\u001b[1;37m          ^\u001b[0m\n\u001b[1;31mSyntaxError\u001b[0m\u001b[1;31m:\u001b[0m invalid syntax\n"
     ]
    }
   ],
   "source": [
    "import cv2\n",
    "import numpy as np\n",
    "from matplotlib import pyplot as plt\n",
    "%matplotlib inline\n",
    "plt.figure(figsize=(20,20))\n",
    "\n",
    "for i in range(1,4):\n",
    "    img = cv2.imread(\"C:/Users/wadat/Desktop/GFC_TR-moke/\"+str(i)+\".bmp\",0)\n",
    "    \n",
    "    plt.subplot(4, 3, i)\n",
    "    plt.imshow(img,clim=[0,255])\n",
    "    plt.colorbar()\n",
    "    plt.subplot(4, 3, i+3)\n",
    "    plt.imshow(cv2.cvtColor(img.astype(np.uint8),cv2.COLOR_GRAY2BGR))\n",
    "    plt.colorbar()\n",
    "    \n",
    "    print np.mean(img),np.std(img)\n",
    "    img = (img - np.mean(img))/np.std(img)*16+64\n",
    "    \n",
    "    plt.subplot(4, 3, i+6)\n",
    "    plt.imshow(img,clim=[0,255])\n",
    "    plt.colorbar()\n",
    "    plt.subplot(4, 3, i+9)\n",
    "    plt.imshow(cv2.cvtColor(img.astype(np.uint8),cv2.COLOR_GRAY2BGR))\n",
    "    plt.colorbar()"
   ]
  },
  {
   "cell_type": "code",
   "execution_count": 21,
   "metadata": {},
   "outputs": [
    {
     "data": {
      "image/png": "[encoded data removed]",
      "text/plain": [
       "<Figure size 432x288 with 1 Axes>"
      ]
     },
     "metadata": {
      "needs_background": "light"
     },
     "output_type": "display_data"
    }
   ],
   "source": [
    "import numpy as np\n",
    "import matplotlib.pyplot as plt\n",
    "%matplotlib inline\n",
    "\n",
    "from PIL import Image\n",
    "\n",
    "a=\"C:/Users/wadat/Pictures/GFC_TRmoke21/{}.jpg\"\n",
    "for b in range(1, 30):\n",
    "    img_1 = Image.open(a.format(b))\n",
    "    c = np.mean (img_1)\n",
    "    plt.plot(b,c, marker='.', markersize=10)"
   ]
  },
  {
   "cell_type": "code",
   "execution_count": 10,
   "metadata": {},
   "outputs": [
    {
     "ename": "TypeError",
     "evalue": "glob() takes 1 positional argument but 2 were given",
     "output_type": "error",
     "traceback": [
      "\u001b[1;31m---------------------------------------------------------------------------\u001b[0m",
      "\u001b[1;31mTypeError\u001b[0m                                 Traceback (most recent call last)",
      "\u001b[1;32m<ipython-input-10-d14ade2c8a77>\u001b[0m in \u001b[0;36m<module>\u001b[1;34m\u001b[0m\n\u001b[0;32m      1\u001b[0m \u001b[1;32mimport\u001b[0m \u001b[0mglob\u001b[0m\u001b[1;33m\u001b[0m\u001b[1;33m\u001b[0m\u001b[0m\n\u001b[0;32m      2\u001b[0m \u001b[1;33m\u001b[0m\u001b[0m\n\u001b[1;32m----> 3\u001b[1;33m \u001b[0mfiles\u001b[0m \u001b[1;33m=\u001b[0m \u001b[0mglob\u001b[0m\u001b[1;33m.\u001b[0m\u001b[0mglob\u001b[0m\u001b[1;33m(\u001b[0m\u001b[1;34m\"C:/Users/wadat/Pictures/GFC_TRmoke21/*.jpg\"\u001b[0m\u001b[1;33m,\u001b[0m\u001b[1;34m\"r\"\u001b[0m\u001b[1;33m)\u001b[0m\u001b[1;33m\u001b[0m\u001b[1;33m\u001b[0m\u001b[0m\n\u001b[0m\u001b[0;32m      4\u001b[0m \u001b[1;32mfor\u001b[0m \u001b[0ma\u001b[0m \u001b[1;32min\u001b[0m \u001b[0mf\u001b[0m\u001b[1;33m:\u001b[0m \u001b[1;31m# 各行を読み込んでaに入れる\u001b[0m\u001b[1;33m\u001b[0m\u001b[1;33m\u001b[0m\u001b[0m\n\u001b[0;32m      5\u001b[0m     \u001b[0mprint\u001b[0m\u001b[1;33m(\u001b[0m\u001b[0ma\u001b[0m\u001b[1;33m.\u001b[0m\u001b[0mstrip\u001b[0m\u001b[1;33m(\u001b[0m\u001b[1;33m)\u001b[0m\u001b[1;33m)\u001b[0m \u001b[1;31m# strip()で改行を削除\u001b[0m\u001b[1;33m\u001b[0m\u001b[1;33m\u001b[0m\u001b[0m\n",
      "\u001b[1;31mTypeError\u001b[0m: glob() takes 1 positional argument but 2 were given"
     ]
    }
   ],
   "source": [
    "import glob\n",
    "\n",
    "files = glob.glob(\"C:/Users/wadat/Pictures/GFC_TRmoke21/*.jpg\",\"r\")\n",
    "for a in f: # 各行を読み込んでaに入れる\n",
    "    print(a.strip()) # strip()で改行を削除\n",
    "f.close()"
   ]
  },
  {
   "cell_type": "code",
   "execution_count": 4,
   "metadata": {},
   "outputs": [
    {
     "ename": "KeyError",
     "evalue": "'LIGHTFIELD_ROOT'",
     "output_type": "error",
     "traceback": [
      "\u001b[1;31m---------------------------------------------------------------------------\u001b[0m",
      "\u001b[1;31mKeyError\u001b[0m                                  Traceback (most recent call last)",
      "\u001b[1;32m<ipython-input-4-2e917f5748bf>\u001b[0m in \u001b[0;36m<module>\u001b[1;34m\u001b[0m\n\u001b[0;32m     16\u001b[0m \u001b[1;33m\u001b[0m\u001b[0m\n\u001b[0;32m     17\u001b[0m \u001b[1;31m# Add needed dll references\u001b[0m\u001b[1;33m\u001b[0m\u001b[1;33m\u001b[0m\u001b[1;33m\u001b[0m\u001b[0m\n\u001b[1;32m---> 18\u001b[1;33m \u001b[0msys\u001b[0m\u001b[1;33m.\u001b[0m\u001b[0mpath\u001b[0m\u001b[1;33m.\u001b[0m\u001b[0mappend\u001b[0m\u001b[1;33m(\u001b[0m\u001b[0mos\u001b[0m\u001b[1;33m.\u001b[0m\u001b[0menviron\u001b[0m\u001b[1;33m[\u001b[0m\u001b[1;34m'LIGHTFIELD_ROOT'\u001b[0m\u001b[1;33m]\u001b[0m\u001b[1;33m)\u001b[0m\u001b[1;33m\u001b[0m\u001b[1;33m\u001b[0m\u001b[0m\n\u001b[0m\u001b[0;32m     19\u001b[0m \u001b[0msys\u001b[0m\u001b[1;33m.\u001b[0m\u001b[0mpath\u001b[0m\u001b[1;33m.\u001b[0m\u001b[0mappend\u001b[0m\u001b[1;33m(\u001b[0m\u001b[0mos\u001b[0m\u001b[1;33m.\u001b[0m\u001b[0menviron\u001b[0m\u001b[1;33m[\u001b[0m\u001b[1;34m'LIGHTFIELD_ROOT'\u001b[0m\u001b[1;33m]\u001b[0m\u001b[1;33m+\u001b[0m\u001b[1;34m\"\\\\AddInViews\"\u001b[0m\u001b[1;33m)\u001b[0m\u001b[1;33m\u001b[0m\u001b[1;33m\u001b[0m\u001b[0m\n\u001b[0;32m     20\u001b[0m \u001b[0mclr\u001b[0m\u001b[1;33m.\u001b[0m\u001b[0mAddReference\u001b[0m\u001b[1;33m(\u001b[0m\u001b[1;34m'PrincetonInstruments.LightFieldViewV5'\u001b[0m\u001b[1;33m)\u001b[0m\u001b[1;33m\u001b[0m\u001b[1;33m\u001b[0m\u001b[0m\n",
      "\u001b[1;32m~\\anaconda3\\lib\\os.py\u001b[0m in \u001b[0;36m__getitem__\u001b[1;34m(self, key)\u001b[0m\n\u001b[0;32m    673\u001b[0m         \u001b[1;32mexcept\u001b[0m \u001b[0mKeyError\u001b[0m\u001b[1;33m:\u001b[0m\u001b[1;33m\u001b[0m\u001b[1;33m\u001b[0m\u001b[0m\n\u001b[0;32m    674\u001b[0m             \u001b[1;31m# raise KeyError with the original key value\u001b[0m\u001b[1;33m\u001b[0m\u001b[1;33m\u001b[0m\u001b[1;33m\u001b[0m\u001b[0m\n\u001b[1;32m--> 675\u001b[1;33m             \u001b[1;32mraise\u001b[0m \u001b[0mKeyError\u001b[0m\u001b[1;33m(\u001b[0m\u001b[0mkey\u001b[0m\u001b[1;33m)\u001b[0m \u001b[1;32mfrom\u001b[0m \u001b[1;32mNone\u001b[0m\u001b[1;33m\u001b[0m\u001b[1;33m\u001b[0m\u001b[0m\n\u001b[0m\u001b[0;32m    676\u001b[0m         \u001b[1;32mreturn\u001b[0m \u001b[0mself\u001b[0m\u001b[1;33m.\u001b[0m\u001b[0mdecodevalue\u001b[0m\u001b[1;33m(\u001b[0m\u001b[0mvalue\u001b[0m\u001b[1;33m)\u001b[0m\u001b[1;33m\u001b[0m\u001b[1;33m\u001b[0m\u001b[0m\n\u001b[0;32m    677\u001b[0m \u001b[1;33m\u001b[0m\u001b[0m\n",
      "\u001b[1;31mKeyError\u001b[0m: 'LIGHTFIELD_ROOT'"
     ]
    }
   ],
   "source": [
    "# Import the .NET class library\n",
    "import clr\n",
    "\n",
    "# Import python sys module\n",
    "import sys\n",
    "\n",
    "# Import os module\n",
    "import os\n",
    "\n",
    "# Import System.IO for saving and opening files\n",
    "from System.IO import *\n",
    "\n",
    "# Import c compatible List and String\n",
    "from System import String\n",
    "from System.Collections.Generic import List\n",
    "\n",
    "# Add needed dll references\n",
    "sys.path.append(os.environ['LIGHTFIELD_ROOT'])\n",
    "sys.path.append(os.environ['LIGHTFIELD_ROOT']+\"\\\\AddInViews\")\n",
    "clr.AddReference('PrincetonInstruments.LightFieldViewV5')\n",
    "clr.AddReference('PrincetonInstruments.LightField.AutomationV5')\n",
    "clr.AddReference('PrincetonInstruments.LightFieldAddInSupportServices')\n",
    "\n",
    "# PI imports\n",
    "from PrincetonInstruments.LightField.Automation import Automation\n",
    "from PrincetonInstruments.LightField.AddIns import ExperimentSettings\n",
    "from PrincetonInstruments.LightField.AddIns import DeviceType\n",
    "\n",
    "# TCP communication\n",
    "import socket\n",
    "from datetime import datetime\n",
    "from time import sleep\n",
    "\n",
    "s = socket.socket()\n",
    "port = 7834\n",
    "s.bind(('localhost', port))\n",
    "\n",
    "def save_file(filename):    \n",
    "    # Set the base file name\n",
    "    experiment.SetValue(\n",
    "        ExperimentSettings.FileNameGenerationBaseFileName,\n",
    "        Path.GetFileName(filename))\n",
    "    \n",
    "    # Option to Increment, set to false will not increment\n",
    "    experiment.SetValue(\n",
    "        ExperimentSettings.FileNameGenerationAttachIncrement,\n",
    "        False)\n",
    "\n",
    "    # Option to add date\n",
    "    experiment.SetValue(\n",
    "        ExperimentSettings.FileNameGenerationAttachDate,\n",
    "        False)\n",
    "\n",
    "    # Option to add time\n",
    "    experiment.SetValue(\n",
    "        ExperimentSettings.FileNameGenerationAttachTime,\n",
    "        False)\n",
    "\n",
    "def device_found():\n",
    "    # Find connected device\n",
    "    for device in experiment.ExperimentDevices:\n",
    "        if (device.Type == DeviceType.Camera):\n",
    "            return True\n",
    "     \n",
    "    # If connected device is not a camera inform the user\n",
    "    print(\"Camera not found. Please add a camera and try again.\")\n",
    "    return False  \n",
    "\n",
    "def ccdexposure(filename):\n",
    "    if (device_found()==True):        \n",
    "        # Check this location for saved spe after running\n",
    "        _file_name = filename\n",
    "\n",
    "        # Pass location of saved file\n",
    "        save_file(_file_name)\n",
    "\n",
    "        # Acquire image\n",
    "        experiment.Acquire()\n",
    "\n",
    "        # Sleep for data recording\n",
    "        sleep(3)\n",
    "\n",
    "def setexptime(exposuretime):\n",
    "    if (device_found()==True): \n",
    "        #Set exposure time\n",
    "        set_value(CameraSettings.ShutterTimingExposureTime, exposuretime)\n",
    "\n",
    "def isreadytorun():\n",
    "    if (device_found()==True): \n",
    "        return experiment.IsReadyToRun\n",
    "    \n",
    "# Create the LightField Application (true for visible)\n",
    "# The 2nd parameter forces LF to load with no experiment \n",
    "#auto = Automation(True, List[String]())\n",
    "\n",
    "# Get experiment object\n",
    "#experiment = auto.LightFieldApplication.Experiment\n",
    "\n",
    "# ==========================================================\n",
    "\n",
    "while True:\n",
    "    print('listening')\n",
    "    s.listen(5)\n",
    "    c, addr = s.accept()\n",
    "    print('receiving')\n",
    "    rcvmsg=(c.recv(4096)).decode()\n",
    "    print(rcvmsg)\n",
    "    if (rcvmsg[0]==\"a\"):\n",
    "        print(\"acquire \"+rcvmsg[1:])\n",
    "        #ccdexposure(rcvmsg[1:])\n",
    "        c.send(b\"acquire\")\n",
    "    elif (rcvmsg[0]==\"e\"):\n",
    "        exposuretime=float(rcvmsg[1:])\n",
    "        print(\"exposure time \"+str(exposuretime))\n",
    "        #setexptime(exposuretime)\n",
    "        c.send(b\"exposure time setting\")\n",
    "    elif (rcvmsg==\"d\"):\n",
    "        print(\"d\")\n",
    "        c.send(b\"d\")\n",
    "        break;\n",
    "    elif (rcvmsg[0]==\"r\"):\n",
    "        print(\"IsReadyToRun?\")\n",
    "        #putmsg=isreadytorun()\n",
    "        putmsg=1\n",
    "        print(putmsg)\n",
    "        try:\n",
    "            c.send((str(putmsg)).encode())\n",
    "        except:\n",
    "            break\n",
    "    else :\n",
    "        print(rcvmsg)\n",
    "    c.close()\n",
    "s.close()\n",
    "\n"
   ]
  },
  {
   "cell_type": "code",
   "execution_count": 9,
   "metadata": {},
   "outputs": [],
   "source": [
    "import glob\n",
    "import os\n",
    "\n",
    "from PIL import Image\n",
    "\n",
    "### 設定\n",
    "img_dir = 'C:/Users/wadat/Pictures/GFC_TRmoke2'  # 入力ディレクトリ\n",
    "out_dir = 'C:/Users/wadat/Desktop/GFC_TRmoke24'  # 出力ディレクトリ\n",
    "crop_range = 300, 300, 600, 600  # 左上 x、左上y、右下x、右下y\n",
    "\n",
    "# 指定したフォルダの画像ファイルの一覧を取得する。\n",
    "types = ['*.png', '*.jpg', '*.jpeg', '*.bmp']\n",
    "paths = []\n",
    "for t in types:\n",
    "    paths.extend(glob.glob(os.path.join(img_dir, t)))\n",
    "\n",
    "os.makedirs(out_dir, exist_ok=True)\n",
    "for p in paths:\n",
    "    img = Image.open(p)  # 読み込む。\n",
    "    resized = img.crop(crop_range)  # リサイズする。\n",
    "\n",
    "    out_path = os.path.join(out_dir, os.path.basename(p))\n",
    "    resized.save(out_path)\n",
    "    \n"
   ]
  },
  {
   "cell_type": "code",
   "execution_count": 1,
   "metadata": {},
   "outputs": [
    {
     "name": "stdout",
     "output_type": "stream",
     "text": [
      "LAPTOP-F8RH1CID\n",
      "150.12.71.30\n"
     ]
    }
   ],
   "source": [
    "import socket\n",
    "# ホスト名を取得、表示\n",
    "host = socket.gethostname()\n",
    "print(host)\n",
    "\n",
    "# ipアドレスを取得、表示\n",
    "ip = socket.gethostbyname(host)\n",
    "print(ip) # 192.168.○○○.○○○"
   ]
  },
  {
   "cell_type": "code",
   "execution_count": 1,
   "metadata": {},
   "outputs": [
    {
     "name": "stdout",
     "output_type": "stream",
     "text": [
      "['aaa\\n', 'bbb\\n', 'ccc\\n']\n"
     ]
    }
   ],
   "source": [
    "with open('sample.txt', 'w') as f:\n",
    "  print('aaa', file=f)\n",
    "  print('bbb', file=f)\n",
    "  print('ccc', file=f)\n",
    "\n",
    "with open('sample.txt') as f:\n",
    "  print(f.readlines())"
   ]
  },
  {
   "cell_type": "code",
   "execution_count": 10,
   "metadata": {},
   "outputs": [
    {
     "ename": "ModuleNotFoundError",
     "evalue": "No module named 'lib.m97_sensorCom'",
     "output_type": "error",
     "traceback": [
      "\u001b[1;31m---------------------------------------------------------------------------\u001b[0m",
      "\u001b[1;31mModuleNotFoundError\u001b[0m                       Traceback (most recent call last)",
      "\u001b[1;32m<ipython-input-10-a4d63fb99c66>\u001b[0m in \u001b[0;36m<module>\u001b[1;34m\u001b[0m\n\u001b[1;32m----> 1\u001b[1;33m \u001b[1;32mimport\u001b[0m \u001b[0mm03_TestStateDetection\u001b[0m\u001b[1;33m\u001b[0m\u001b[1;33m\u001b[0m\u001b[0m\n\u001b[0m",
      "\u001b[1;32m~\\Python\\m03_TestStateDetection.py\u001b[0m in \u001b[0;36m<module>\u001b[1;34m\u001b[0m\n\u001b[0;32m     12\u001b[0m \u001b[1;32mimport\u001b[0m \u001b[0mnumpy\u001b[0m \u001b[1;32mas\u001b[0m \u001b[0mnp\u001b[0m\u001b[1;33m\u001b[0m\u001b[1;33m\u001b[0m\u001b[0m\n\u001b[0;32m     13\u001b[0m \u001b[1;32mfrom\u001b[0m \u001b[0mnumpy\u001b[0m \u001b[1;32mimport\u001b[0m \u001b[0marray\u001b[0m\u001b[1;33m,\u001b[0m \u001b[0mamin\u001b[0m\u001b[1;33m\u001b[0m\u001b[1;33m\u001b[0m\u001b[0m\n\u001b[1;32m---> 14\u001b[1;33m \u001b[1;32mfrom\u001b[0m \u001b[0mlib\u001b[0m\u001b[1;33m.\u001b[0m\u001b[0mm97_sensorCom\u001b[0m \u001b[1;32mimport\u001b[0m \u001b[0mreadSensor\u001b[0m\u001b[1;33m,\u001b[0m \u001b[0mgetXMCserialConnection\u001b[0m\u001b[1;33m\u001b[0m\u001b[1;33m\u001b[0m\u001b[0m\n\u001b[0m\u001b[0;32m     15\u001b[0m \u001b[1;32mfrom\u001b[0m \u001b[0mlib\u001b[0m\u001b[1;33m.\u001b[0m\u001b[0mm99_BfieldSimulation\u001b[0m \u001b[1;32mimport\u001b[0m \u001b[0msimulateField13V\u001b[0m \u001b[1;32mas\u001b[0m \u001b[0msimulateField\u001b[0m\u001b[1;33m\u001b[0m\u001b[1;33m\u001b[0m\u001b[0m\n\u001b[0;32m     16\u001b[0m \u001b[1;32mfrom\u001b[0m \u001b[0mm00_Config\u001b[0m \u001b[1;32mimport\u001b[0m \u001b[0mCONFIG\u001b[0m\u001b[1;33m\u001b[0m\u001b[1;33m\u001b[0m\u001b[0m\n",
      "\u001b[1;31mModuleNotFoundError\u001b[0m: No module named 'lib.m97_sensorCom'"
     ]
    }
   ],
   "source": [
    "import amod\n",
    "amod.txt(\"./img4.txt\")"
   ]
  },
  {
   "cell_type": "code",
   "execution_count": 2,
   "metadata": {},
   "outputs": [
    {
     "data": {
      "text/plain": [
       "'b'"
      ]
     },
     "execution_count": 2,
     "metadata": {},
     "output_type": "execute_result"
    }
   ],
   "source": [
    "txt = 'abcde'\n",
    "txt[1]"
   ]
  },
  {
   "cell_type": "code",
   "execution_count": 4,
   "metadata": {},
   "outputs": [
    {
     "name": "stdout",
     "output_type": "stream",
     "text": [
      "+0139569\n"
     ]
    }
   ],
   "source": [
    "import module.motorStatus\n",
    "module.motorStatus.status()"
   ]
  },
  {
   "cell_type": "code",
   "execution_count": 3,
   "metadata": {},
   "outputs": [
    {
     "name": "stdout",
     "output_type": "stream",
     "text": [
      "b'OK\\r\\n'\n"
     ]
    }
   ],
   "source": [
    "import module.motorMove\n",
    "module.motorMove.move(10)"
   ]
  },
  {
   "cell_type": "code",
   "execution_count": 11,
   "metadata": {},
   "outputs": [
    {
     "data": {
      "text/plain": [
       "b'REL1S18\\n'"
      ]
     },
     "execution_count": 11,
     "metadata": {},
     "output_type": "execute_result"
    }
   ],
   "source": [
    "num=18\n",
    "a=\"REL1S\" + str(num)+ \"\\n\"\n",
    "a.encode()"
   ]
  },
  {
   "cell_type": "code",
   "execution_count": 5,
   "metadata": {},
   "outputs": [],
   "source": [
    "import os\n",
    "\n",
    "new_dir_path = './new-dir'\n",
    "\n",
    "os.mkdir(new_dir_path)"
   ]
  },
  {
   "cell_type": "code",
   "execution_count": 4,
   "metadata": {},
   "outputs": [
    {
     "name": "stdout",
     "output_type": "stream",
     "text": [
      "b'OK\\r\\n'\n",
      "+0139349\n",
      "b'OK\\r\\n'\n",
      "+0139339\n",
      "b'OK\\r\\n'\n",
      "+0139329\n"
     ]
    }
   ],
   "source": [
    "import module.motorStatus\n",
    "import module.motorMove\n",
    "import module.USBPicture\n",
    "import time\n",
    "i = 0\n",
    "while i < 3:\n",
    "    \n",
    "    module.motorMove.move(-10)\n",
    "    \n",
    "    time.sleep(3)\n",
    "    \n",
    "    module.USBPicture.picture(\"./pic\")\n",
    "    module.motorStatus.status(\"./hoge\")\n",
    "    \n",
    "    i += 1"
   ]
  },
  {
   "cell_type": "code",
   "execution_count": 2,
   "metadata": {},
   "outputs": [
    {
     "name": "stdout",
     "output_type": "stream",
     "text": [
      "+0139359\n"
     ]
    }
   ],
   "source": [
    "import module.motorStatus\n",
    "import time\n",
    "\n",
    "module.motorStatus.status(\"./iii\")\n"
   ]
  },
  {
   "cell_type": "code",
   "execution_count": 5,
   "metadata": {},
   "outputs": [],
   "source": [
    "import os\n",
    " \n",
    "SAMPLE_DIR = \"./picture\"\n",
    " \n",
    "if not os.path.exists(SAMPLE_DIR):\n",
    "    # ディレクトリが存在しない場合、ディレクトリを作成する\n",
    "    os.makedirs(SAMPLE_DIR)"
   ]
  },
  {
   "cell_type": "code",
   "execution_count": null,
   "metadata": {},
   "outputs": [],
   "source": [
    "with open(\"sample.txt\", 'a') as f:\n",
    "    print(bb,aa, file=f)"
   ]
  },
  {
   "cell_type": "code",
   "execution_count": 4,
   "metadata": {},
   "outputs": [
    {
     "ename": "FileNotFoundError",
     "evalue": "[Errno 2] No such file or directory: './test.txt'",
     "output_type": "error",
     "traceback": [
      "\u001b[1;31m---------------------------------------------------------------------------\u001b[0m",
      "\u001b[1;31mFileNotFoundError\u001b[0m                         Traceback (most recent call last)",
      "\u001b[1;32m<ipython-input-4-b98eff06c00d>\u001b[0m in \u001b[0;36m<module>\u001b[1;34m\u001b[0m\n\u001b[0;32m      1\u001b[0m \u001b[0mpath\u001b[0m \u001b[1;33m=\u001b[0m \u001b[1;34m'./test.txt'\u001b[0m\u001b[1;33m\u001b[0m\u001b[1;33m\u001b[0m\u001b[0m\n\u001b[0;32m      2\u001b[0m \u001b[1;33m\u001b[0m\u001b[0m\n\u001b[1;32m----> 3\u001b[1;33m \u001b[0mf\u001b[0m \u001b[1;33m=\u001b[0m \u001b[0mopen\u001b[0m\u001b[1;33m(\u001b[0m\u001b[0mpath\u001b[0m\u001b[1;33m)\u001b[0m\u001b[1;33m\u001b[0m\u001b[1;33m\u001b[0m\u001b[0m\n\u001b[0m\u001b[0;32m      4\u001b[0m \u001b[1;33m\u001b[0m\u001b[0m\n\u001b[0;32m      5\u001b[0m \u001b[0mprint\u001b[0m\u001b[1;33m(\u001b[0m\u001b[0mtype\u001b[0m\u001b[1;33m(\u001b[0m\u001b[0mf\u001b[0m\u001b[1;33m)\u001b[0m\u001b[1;33m)\u001b[0m\u001b[1;33m\u001b[0m\u001b[1;33m\u001b[0m\u001b[0m\n",
      "\u001b[1;31mFileNotFoundError\u001b[0m: [Errno 2] No such file or directory: './test.txt'"
     ]
    }
   ],
   "source": [
    "def txt(num):\n",
    "    new_dir_path = num\n",
    "    if not os.path.exists(new_dir_path):\n",
    "    # ディレクトリが存在しない場合、ディレクトリを作成する\n",
    "        os.makedir(new_dir_path)\n",
    "\n",
    "path = num\n",
    "f = open(path)\n",
    "print(type(f))\n",
    "# <class '_io.TextIOWrapper'>\n",
    "f.close()"
   ]
  },
  {
   "cell_type": "code",
   "execution_count": 5,
   "metadata": {},
   "outputs": [
    {
     "ename": "TypeError",
     "evalue": "imshow() missing required argument 'mat' (pos 2)",
     "output_type": "error",
     "traceback": [
      "\u001b[1;31m---------------------------------------------------------------------------\u001b[0m",
      "\u001b[1;31mTypeError\u001b[0m                                 Traceback (most recent call last)",
      "\u001b[1;32m<ipython-input-5-f355a307c2f1>\u001b[0m in \u001b[0;36m<module>\u001b[1;34m\u001b[0m\n\u001b[0;32m      3\u001b[0m \u001b[1;31m# 画像の読み込み\u001b[0m\u001b[1;33m\u001b[0m\u001b[1;33m\u001b[0m\u001b[1;33m\u001b[0m\u001b[0m\n\u001b[0;32m      4\u001b[0m \u001b[0mimg\u001b[0m \u001b[1;33m=\u001b[0m \u001b[0mcv2\u001b[0m\u001b[1;33m.\u001b[0m\u001b[0mimread\u001b[0m\u001b[1;33m(\u001b[0m\u001b[1;34m\"./picture/20210202_113121.png\"\u001b[0m\u001b[1;33m)\u001b[0m\u001b[1;33m\u001b[0m\u001b[1;33m\u001b[0m\u001b[0m\n\u001b[1;32m----> 5\u001b[1;33m \u001b[0mcv2\u001b[0m\u001b[1;33m.\u001b[0m\u001b[0mimshow\u001b[0m\u001b[1;33m(\u001b[0m\u001b[0mimg\u001b[0m\u001b[1;33m)\u001b[0m\u001b[1;33m\u001b[0m\u001b[1;33m\u001b[0m\u001b[0m\n\u001b[0m",
      "\u001b[1;31mTypeError\u001b[0m: imshow() missing required argument 'mat' (pos 2)"
     ]
    }
   ],
   "source": [
    "import cv2\n",
    "\n",
    "# 画像の読み込み\n",
    "img = cv2.imread(\"./picture/20210202_113121.png\")\n",
    "cv2.imshow(img)\n"
   ]
  },
  {
   "cell_type": "code",
   "execution_count": 3,
   "metadata": {},
   "outputs": [],
   "source": [
    "import matplotlib.pyplot as plt\n",
    "import numpy as np\n",
    "import cv2\n",
    "\n",
    "\n",
    "#画像(shimarisu.jpg)の読み込み\n",
    "img = cv2.imread(\"./picture/20210202_113121.png\")\n",
    "\n",
    "\n",
    "# 閾値の設定\n",
    "\n",
    "\n",
    "# 二値化(閾値100を超えた画素を255にする。)\n",
    "ret, img_thresh = cv2.threshold(img, 100, 255, cv2.THRESH_BINARY)\n",
    "\n",
    "# 二値化画像の表示\n",
    "cv2.imshow(\"img_th\", img_thresh)\n",
    "cv2.waitKey()\n",
    "cv2.destroyAllWindows()\n"
   ]
  },
  {
   "cell_type": "code",
   "execution_count": 2,
   "metadata": {},
   "outputs": [
    {
     "ename": "SerialException",
     "evalue": "could not open port '9600': FileNotFoundError(2, '指定されたファイルが見つかりません。', None, 2)",
     "output_type": "error",
     "traceback": [
      "\u001b[1;31m---------------------------------------------------------------------------\u001b[0m",
      "\u001b[1;31mSerialException\u001b[0m                           Traceback (most recent call last)",
      "\u001b[1;32m<ipython-input-2-d7c04c0e423b>\u001b[0m in \u001b[0;36m<module>\u001b[1;34m\u001b[0m\n\u001b[0;32m      2\u001b[0m \u001b[0mport\u001b[0m \u001b[1;33m=\u001b[0m \u001b[1;34m\"9600\"\u001b[0m \u001b[1;31m# 調べたシリアル番号\u001b[0m\u001b[1;33m\u001b[0m\u001b[1;33m\u001b[0m\u001b[0m\n\u001b[0;32m      3\u001b[0m \u001b[0mbyte\u001b[0m \u001b[1;33m=\u001b[0m \u001b[1;36m4096\u001b[0m    \u001b[1;31m# 適当なサイズ（読み出せる範囲で）\u001b[0m\u001b[1;33m\u001b[0m\u001b[1;33m\u001b[0m\u001b[0m\n\u001b[1;32m----> 4\u001b[1;33m \u001b[0mser\u001b[0m \u001b[1;33m=\u001b[0m \u001b[0mserial\u001b[0m\u001b[1;33m.\u001b[0m\u001b[0mSerial\u001b[0m\u001b[1;33m(\u001b[0m\u001b[0mport\u001b[0m\u001b[1;33m=\u001b[0m\u001b[0mport\u001b[0m\u001b[1;33m)\u001b[0m\u001b[1;33m\u001b[0m\u001b[1;33m\u001b[0m\u001b[0m\n\u001b[0m\u001b[0;32m      5\u001b[0m \u001b[0mser\u001b[0m\u001b[1;33m.\u001b[0m\u001b[0mwrite\u001b[0m\u001b[1;33m(\u001b[0m\u001b[1;34mb\"*IDN?\\n\"\u001b[0m\u001b[1;33m)\u001b[0m\u001b[1;33m\u001b[0m\u001b[1;33m\u001b[0m\u001b[0m\n\u001b[0;32m      6\u001b[0m \u001b[0mret\u001b[0m \u001b[1;33m=\u001b[0m \u001b[0mser\u001b[0m\u001b[1;33m.\u001b[0m\u001b[0mread\u001b[0m\u001b[1;33m(\u001b[0m\u001b[0msize\u001b[0m\u001b[1;33m=\u001b[0m\u001b[0mbyte\u001b[0m\u001b[1;33m)\u001b[0m\u001b[1;33m\u001b[0m\u001b[1;33m\u001b[0m\u001b[0m\n",
      "\u001b[1;32m~\\anaconda3\\lib\\site-packages\\serial\\serialwin32.py\u001b[0m in \u001b[0;36m__init__\u001b[1;34m(self, *args, **kwargs)\u001b[0m\n\u001b[0;32m     31\u001b[0m         \u001b[0mself\u001b[0m\u001b[1;33m.\u001b[0m\u001b[0m_overlapped_read\u001b[0m \u001b[1;33m=\u001b[0m \u001b[1;32mNone\u001b[0m\u001b[1;33m\u001b[0m\u001b[1;33m\u001b[0m\u001b[0m\n\u001b[0;32m     32\u001b[0m         \u001b[0mself\u001b[0m\u001b[1;33m.\u001b[0m\u001b[0m_overlapped_write\u001b[0m \u001b[1;33m=\u001b[0m \u001b[1;32mNone\u001b[0m\u001b[1;33m\u001b[0m\u001b[1;33m\u001b[0m\u001b[0m\n\u001b[1;32m---> 33\u001b[1;33m         \u001b[0msuper\u001b[0m\u001b[1;33m(\u001b[0m\u001b[0mSerial\u001b[0m\u001b[1;33m,\u001b[0m \u001b[0mself\u001b[0m\u001b[1;33m)\u001b[0m\u001b[1;33m.\u001b[0m\u001b[0m__init__\u001b[0m\u001b[1;33m(\u001b[0m\u001b[1;33m*\u001b[0m\u001b[0margs\u001b[0m\u001b[1;33m,\u001b[0m \u001b[1;33m**\u001b[0m\u001b[0mkwargs\u001b[0m\u001b[1;33m)\u001b[0m\u001b[1;33m\u001b[0m\u001b[1;33m\u001b[0m\u001b[0m\n\u001b[0m\u001b[0;32m     34\u001b[0m \u001b[1;33m\u001b[0m\u001b[0m\n\u001b[0;32m     35\u001b[0m     \u001b[1;32mdef\u001b[0m \u001b[0mopen\u001b[0m\u001b[1;33m(\u001b[0m\u001b[0mself\u001b[0m\u001b[1;33m)\u001b[0m\u001b[1;33m:\u001b[0m\u001b[1;33m\u001b[0m\u001b[1;33m\u001b[0m\u001b[0m\n",
      "\u001b[1;32m~\\anaconda3\\lib\\site-packages\\serial\\serialutil.py\u001b[0m in \u001b[0;36m__init__\u001b[1;34m(self, port, baudrate, bytesize, parity, stopbits, timeout, xonxoff, rtscts, write_timeout, dsrdtr, inter_byte_timeout, exclusive, **kwargs)\u001b[0m\n\u001b[0;32m    242\u001b[0m \u001b[1;33m\u001b[0m\u001b[0m\n\u001b[0;32m    243\u001b[0m         \u001b[1;32mif\u001b[0m \u001b[0mport\u001b[0m \u001b[1;32mis\u001b[0m \u001b[1;32mnot\u001b[0m \u001b[1;32mNone\u001b[0m\u001b[1;33m:\u001b[0m\u001b[1;33m\u001b[0m\u001b[1;33m\u001b[0m\u001b[0m\n\u001b[1;32m--> 244\u001b[1;33m             \u001b[0mself\u001b[0m\u001b[1;33m.\u001b[0m\u001b[0mopen\u001b[0m\u001b[1;33m(\u001b[0m\u001b[1;33m)\u001b[0m\u001b[1;33m\u001b[0m\u001b[1;33m\u001b[0m\u001b[0m\n\u001b[0m\u001b[0;32m    245\u001b[0m \u001b[1;33m\u001b[0m\u001b[0m\n\u001b[0;32m    246\u001b[0m     \u001b[1;31m#  -  -  -  -  -  -  -  -  -  -  -  -  -  -  -  -  -  -  -  -  -  -  -  -\u001b[0m\u001b[1;33m\u001b[0m\u001b[1;33m\u001b[0m\u001b[1;33m\u001b[0m\u001b[0m\n",
      "\u001b[1;32m~\\anaconda3\\lib\\site-packages\\serial\\serialwin32.py\u001b[0m in \u001b[0;36mopen\u001b[1;34m(self)\u001b[0m\n\u001b[0;32m     62\u001b[0m         \u001b[1;32mif\u001b[0m \u001b[0mself\u001b[0m\u001b[1;33m.\u001b[0m\u001b[0m_port_handle\u001b[0m \u001b[1;33m==\u001b[0m \u001b[0mwin32\u001b[0m\u001b[1;33m.\u001b[0m\u001b[0mINVALID_HANDLE_VALUE\u001b[0m\u001b[1;33m:\u001b[0m\u001b[1;33m\u001b[0m\u001b[1;33m\u001b[0m\u001b[0m\n\u001b[0;32m     63\u001b[0m             \u001b[0mself\u001b[0m\u001b[1;33m.\u001b[0m\u001b[0m_port_handle\u001b[0m \u001b[1;33m=\u001b[0m \u001b[1;32mNone\u001b[0m    \u001b[1;31m# 'cause __del__ is called anyway\u001b[0m\u001b[1;33m\u001b[0m\u001b[1;33m\u001b[0m\u001b[0m\n\u001b[1;32m---> 64\u001b[1;33m             \u001b[1;32mraise\u001b[0m \u001b[0mSerialException\u001b[0m\u001b[1;33m(\u001b[0m\u001b[1;34m\"could not open port {!r}: {!r}\"\u001b[0m\u001b[1;33m.\u001b[0m\u001b[0mformat\u001b[0m\u001b[1;33m(\u001b[0m\u001b[0mself\u001b[0m\u001b[1;33m.\u001b[0m\u001b[0mportstr\u001b[0m\u001b[1;33m,\u001b[0m \u001b[0mctypes\u001b[0m\u001b[1;33m.\u001b[0m\u001b[0mWinError\u001b[0m\u001b[1;33m(\u001b[0m\u001b[1;33m)\u001b[0m\u001b[1;33m)\u001b[0m\u001b[1;33m)\u001b[0m\u001b[1;33m\u001b[0m\u001b[1;33m\u001b[0m\u001b[0m\n\u001b[0m\u001b[0;32m     65\u001b[0m \u001b[1;33m\u001b[0m\u001b[0m\n\u001b[0;32m     66\u001b[0m         \u001b[1;32mtry\u001b[0m\u001b[1;33m:\u001b[0m\u001b[1;33m\u001b[0m\u001b[1;33m\u001b[0m\u001b[0m\n",
      "\u001b[1;31mSerialException\u001b[0m: could not open port '9600': FileNotFoundError(2, '指定されたファイルが見つかりません。', None, 2)"
     ]
    }
   ],
   "source": [
    "import serial\n",
    "port = \"9600\" # 調べたシリアル番号\n",
    "byte = 4096    # 適当なサイズ（読み出せる範囲で）\n",
    "ser = serial.Serial(port=port)\n",
    "ser.write(b\"*IDN?\\n\")\n",
    "ret = ser.read(size=byte)\n",
    "print(ret)\n",
    "# デバイスの応答がプリントされる\n",
    "ser.close()"
   ]
  },
  {
   "cell_type": "code",
   "execution_count": 2,
   "metadata": {},
   "outputs": [
    {
     "name": "stdout",
     "output_type": "stream",
     "text": [
      "Collecting pyserial\n",
      "  Downloading pyserial-3.5-py2.py3-none-any.whl (90 kB)\n",
      "Installing collected packages: pyserial\n",
      "Successfully installed pyserial-3.5\n",
      "Note: you may need to restart the kernel to use updated packages.\n"
     ]
    }
   ],
   "source": [
    "pip install pyserial"
   ]
  },
  {
   "cell_type": "code",
   "execution_count": 5,
   "metadata": {},
   "outputs": [
    {
     "name": "stderr",
     "output_type": "stream",
     "text": [
      "パラメーターの形式が誤っています - \"dev\"\n"
     ]
    }
   ],
   "source": [
    "ls -l /dev/tty.*"
   ]
  },
  {
   "cell_type": "code",
   "execution_count": 1,
   "metadata": {},
   "outputs": [
    {
     "name": "stdout",
     "output_type": "stream",
     "text": [
      " ドライブ C のボリューム ラベルは Local Disk です\n",
      " ボリューム シリアル番号は 7E78-11A8 です\n",
      "\n",
      " C:\\Users\\wadat\\Python のディレクトリ\n",
      "\n",
      "2021/02/15  16:50    <DIR>          .\n",
      "2021/02/15  16:50    <DIR>          ..\n",
      "2021/02/10  14:46    <DIR>          .ipynb_checkpoints\n",
      "2021/02/09  15:04                30 .txt\n",
      "2021/02/02  10:52    <DIR>          __pycache__\n",
      "2021/02/02  10:58                88 amod.py\n",
      "2021/01/08  14:46             3,736 ccdremoteserver.py\n",
      "2020/11/25  14:26    <DIR>          data\n",
      "2021/01/27  18:04         1,328,352 image analysis.ipynb\n",
      "2021/02/09  15:16             2,445 Meas.ipynb\n",
      "2021/02/09  15:06    <DIR>          module\n",
      "2021/02/11  14:14            62,320 ping.ipynb\n",
      "2021/01/16  17:12         2,042,952 play ground.ipynb\n",
      "2021/02/03  15:47         1,051,790 play ground2.ipynb\n",
      "2021/02/15  16:50            59,655 playground3.ipynb\n",
      "2021/01/16  17:13         1,459,169 PRA_for_Wadati_group_seminar_20200710_jupyter.ipynb\n",
      "2020/11/26  15:24             1,695 saveCameraImg.ipynb\n",
      "2020/12/11  14:08           396,758 seminer.ipynb\n",
      "2021/02/11  14:40            33,079 Untitled.ipynb\n",
      "2021/02/02  12:08            21,893 USB.ipynb\n",
      "2021/01/05  13:28           216,373 一式.ipynb\n",
      "2021/02/03  15:49             5,163 解析.ipynb\n",
      "              16 個のファイル           6,685,498 バイト\n",
      "               6 個のディレクトリ  171,690,139,648 バイトの空き領域\n"
     ]
    }
   ],
   "source": [
    "ls"
   ]
  },
  {
   "cell_type": "code",
   "execution_count": null,
   "metadata": {},
   "outputs": [],
   "source": [
    "import serial\n",
    "\n",
    "comport = serial.Serial(\"COM3\", baudrate=19200, parity=serial.PARITY_NONE)\n",
    "recv_data = comport.read(12)\n",
    "meas_data = float(recv_data.decode(utf-8))\n",
    "comport.close()"
   ]
  },
  {
   "cell_type": "code",
   "execution_count": 2,
   "metadata": {},
   "outputs": [],
   "source": [
    "from serial.tools import list_ports\n",
    "\n",
    "device_name = \"COM3\"\n",
    "\n",
    "def comport_search():\n",
    "    ports = list_ports.comports()\n",
    "    device = [info for info in ports if device_name in info.serial_number]\n",
    "    try:\n",
    "        return device[0].device\n",
    "    except:\n",
    "        print(\"計測器が接続されていません\")\n",
    "exit()"
   ]
  },
  {
   "cell_type": "code",
   "execution_count": 9,
   "metadata": {},
   "outputs": [],
   "source": [
    "import serial\n",
    "from serial.tools import list_ports\n",
    "import time\n",
    "\n",
    "def select_port():\n",
    "    ser = serial.Serial()\n",
    "    ser.baudrate = 19200    # ArduinoのSerial.beginで指定した値\n",
    "    ser.timeout = 0.1       # タイムアウトの時間\n",
    "\n",
    "    ports = list_ports.comports()    # ポートデータを取得\n",
    "    \n",
    "    devices = [info.device for info in ports]\n",
    "\n",
    "    if len(devices) == 0:\n",
    "        # シリアル通信できるデバイスが見つからなかった場合\n",
    "        print(\"error: device not found\")\n",
    "        return None\n",
    "    elif len(devices) == 1:\n",
    "        print(\"only found %s\" % devices[0])\n",
    "        ser.port = devices[0]\n",
    "    else:\n",
    "        # ポートが複数見つかった場合それらを表示し選択させる\n",
    "        for i in range(len(devices)):\n",
    "            print(\"input %3d: open %s\" % (i,devices[i]))\n",
    "        print(\"input number of target port >> \",end=\"\")\n",
    "        num = int(input())\n",
    "        ser.port = devices[num]\n",
    "    \n",
    "    # 開いてみる\n",
    "    try:\n",
    "        ser.open()\n",
    "        return ser\n",
    "    except:\n",
    "        print(\"error when opening serial\")\n",
    "        return None\n",
    "\n",
    "def main():\n",
    "    ser = select_port()\n",
    "    \n",
    "    if ser is None:\n",
    "        return\n",
    "    \n",
    "    while ser.is_open:\n",
    "        data = ser.read(256)\n",
    "        if data != b'':\n",
    "            print(data.decode(),end=\"\")\n",
    "        time.sleep(1)\n",
    "\n",
    "    ser.close()"
   ]
  },
  {
   "cell_type": "code",
   "execution_count": 13,
   "metadata": {},
   "outputs": [
    {
     "ename": "SerialException",
     "evalue": "could not open port 'COM3': PermissionError(13, 'アクセスが拒否されました。', None, 5)",
     "output_type": "error",
     "traceback": [
      "\u001b[1;31m---------------------------------------------------------------------------\u001b[0m",
      "\u001b[1;31mSerialException\u001b[0m                           Traceback (most recent call last)",
      "\u001b[1;32m<ipython-input-13-ea809ae7f9f5>\u001b[0m in \u001b[0;36m<module>\u001b[1;34m\u001b[0m\n\u001b[0;32m      1\u001b[0m \u001b[1;32mimport\u001b[0m \u001b[0mserial\u001b[0m\u001b[1;33m\u001b[0m\u001b[1;33m\u001b[0m\u001b[0m\n\u001b[1;32m----> 2\u001b[1;33m \u001b[0mser1\u001b[0m \u001b[1;33m=\u001b[0m \u001b[0mserial\u001b[0m\u001b[1;33m.\u001b[0m\u001b[0mSerial\u001b[0m\u001b[1;33m(\u001b[0m\u001b[1;34m\"COM3\"\u001b[0m\u001b[1;33m)\u001b[0m    \u001b[1;31m#注意：デバイスマネージャーで調べた番号から1引くこと\u001b[0m\u001b[1;33m\u001b[0m\u001b[1;33m\u001b[0m\u001b[0m\n\u001b[0m\u001b[0;32m      3\u001b[0m \u001b[0mser2\u001b[0m \u001b[1;33m=\u001b[0m \u001b[0mserial\u001b[0m\u001b[1;33m.\u001b[0m\u001b[0mSerial\u001b[0m\u001b[1;33m(\u001b[0m\u001b[1;34m\"COM3\"\u001b[0m\u001b[1;33m)\u001b[0m\u001b[1;33m\u001b[0m\u001b[1;33m\u001b[0m\u001b[0m\n\u001b[0;32m      4\u001b[0m \u001b[1;33m\u001b[0m\u001b[0m\n\u001b[0;32m      5\u001b[0m \u001b[0mprint\u001b[0m \u001b[1;33m(\u001b[0m\u001b[0mser1\u001b[0m\u001b[1;33m.\u001b[0m\u001b[0mportstr\u001b[0m\u001b[1;33m)\u001b[0m\u001b[1;33m\u001b[0m\u001b[1;33m\u001b[0m\u001b[0m\n",
      "\u001b[1;32m~\\anaconda3\\lib\\site-packages\\serial\\serialwin32.py\u001b[0m in \u001b[0;36m__init__\u001b[1;34m(self, *args, **kwargs)\u001b[0m\n\u001b[0;32m     31\u001b[0m         \u001b[0mself\u001b[0m\u001b[1;33m.\u001b[0m\u001b[0m_overlapped_read\u001b[0m \u001b[1;33m=\u001b[0m \u001b[1;32mNone\u001b[0m\u001b[1;33m\u001b[0m\u001b[1;33m\u001b[0m\u001b[0m\n\u001b[0;32m     32\u001b[0m         \u001b[0mself\u001b[0m\u001b[1;33m.\u001b[0m\u001b[0m_overlapped_write\u001b[0m \u001b[1;33m=\u001b[0m \u001b[1;32mNone\u001b[0m\u001b[1;33m\u001b[0m\u001b[1;33m\u001b[0m\u001b[0m\n\u001b[1;32m---> 33\u001b[1;33m         \u001b[0msuper\u001b[0m\u001b[1;33m(\u001b[0m\u001b[0mSerial\u001b[0m\u001b[1;33m,\u001b[0m \u001b[0mself\u001b[0m\u001b[1;33m)\u001b[0m\u001b[1;33m.\u001b[0m\u001b[0m__init__\u001b[0m\u001b[1;33m(\u001b[0m\u001b[1;33m*\u001b[0m\u001b[0margs\u001b[0m\u001b[1;33m,\u001b[0m \u001b[1;33m**\u001b[0m\u001b[0mkwargs\u001b[0m\u001b[1;33m)\u001b[0m\u001b[1;33m\u001b[0m\u001b[1;33m\u001b[0m\u001b[0m\n\u001b[0m\u001b[0;32m     34\u001b[0m \u001b[1;33m\u001b[0m\u001b[0m\n\u001b[0;32m     35\u001b[0m     \u001b[1;32mdef\u001b[0m \u001b[0mopen\u001b[0m\u001b[1;33m(\u001b[0m\u001b[0mself\u001b[0m\u001b[1;33m)\u001b[0m\u001b[1;33m:\u001b[0m\u001b[1;33m\u001b[0m\u001b[1;33m\u001b[0m\u001b[0m\n",
      "\u001b[1;32m~\\anaconda3\\lib\\site-packages\\serial\\serialutil.py\u001b[0m in \u001b[0;36m__init__\u001b[1;34m(self, port, baudrate, bytesize, parity, stopbits, timeout, xonxoff, rtscts, write_timeout, dsrdtr, inter_byte_timeout, exclusive, **kwargs)\u001b[0m\n\u001b[0;32m    242\u001b[0m \u001b[1;33m\u001b[0m\u001b[0m\n\u001b[0;32m    243\u001b[0m         \u001b[1;32mif\u001b[0m \u001b[0mport\u001b[0m \u001b[1;32mis\u001b[0m \u001b[1;32mnot\u001b[0m \u001b[1;32mNone\u001b[0m\u001b[1;33m:\u001b[0m\u001b[1;33m\u001b[0m\u001b[1;33m\u001b[0m\u001b[0m\n\u001b[1;32m--> 244\u001b[1;33m             \u001b[0mself\u001b[0m\u001b[1;33m.\u001b[0m\u001b[0mopen\u001b[0m\u001b[1;33m(\u001b[0m\u001b[1;33m)\u001b[0m\u001b[1;33m\u001b[0m\u001b[1;33m\u001b[0m\u001b[0m\n\u001b[0m\u001b[0;32m    245\u001b[0m \u001b[1;33m\u001b[0m\u001b[0m\n\u001b[0;32m    246\u001b[0m     \u001b[1;31m#  -  -  -  -  -  -  -  -  -  -  -  -  -  -  -  -  -  -  -  -  -  -  -  -\u001b[0m\u001b[1;33m\u001b[0m\u001b[1;33m\u001b[0m\u001b[1;33m\u001b[0m\u001b[0m\n",
      "\u001b[1;32m~\\anaconda3\\lib\\site-packages\\serial\\serialwin32.py\u001b[0m in \u001b[0;36mopen\u001b[1;34m(self)\u001b[0m\n\u001b[0;32m     62\u001b[0m         \u001b[1;32mif\u001b[0m \u001b[0mself\u001b[0m\u001b[1;33m.\u001b[0m\u001b[0m_port_handle\u001b[0m \u001b[1;33m==\u001b[0m \u001b[0mwin32\u001b[0m\u001b[1;33m.\u001b[0m\u001b[0mINVALID_HANDLE_VALUE\u001b[0m\u001b[1;33m:\u001b[0m\u001b[1;33m\u001b[0m\u001b[1;33m\u001b[0m\u001b[0m\n\u001b[0;32m     63\u001b[0m             \u001b[0mself\u001b[0m\u001b[1;33m.\u001b[0m\u001b[0m_port_handle\u001b[0m \u001b[1;33m=\u001b[0m \u001b[1;32mNone\u001b[0m    \u001b[1;31m# 'cause __del__ is called anyway\u001b[0m\u001b[1;33m\u001b[0m\u001b[1;33m\u001b[0m\u001b[0m\n\u001b[1;32m---> 64\u001b[1;33m             \u001b[1;32mraise\u001b[0m \u001b[0mSerialException\u001b[0m\u001b[1;33m(\u001b[0m\u001b[1;34m\"could not open port {!r}: {!r}\"\u001b[0m\u001b[1;33m.\u001b[0m\u001b[0mformat\u001b[0m\u001b[1;33m(\u001b[0m\u001b[0mself\u001b[0m\u001b[1;33m.\u001b[0m\u001b[0mportstr\u001b[0m\u001b[1;33m,\u001b[0m \u001b[0mctypes\u001b[0m\u001b[1;33m.\u001b[0m\u001b[0mWinError\u001b[0m\u001b[1;33m(\u001b[0m\u001b[1;33m)\u001b[0m\u001b[1;33m)\u001b[0m\u001b[1;33m)\u001b[0m\u001b[1;33m\u001b[0m\u001b[1;33m\u001b[0m\u001b[0m\n\u001b[0m\u001b[0;32m     65\u001b[0m \u001b[1;33m\u001b[0m\u001b[0m\n\u001b[0;32m     66\u001b[0m         \u001b[1;32mtry\u001b[0m\u001b[1;33m:\u001b[0m\u001b[1;33m\u001b[0m\u001b[1;33m\u001b[0m\u001b[0m\n",
      "\u001b[1;31mSerialException\u001b[0m: could not open port 'COM3': PermissionError(13, 'アクセスが拒否されました。', None, 5)"
     ]
    }
   ],
   "source": [
    "import serial\n",
    "ser1 = serial.Serial(\"COM3\")    #注意：デバイスマネージャーで調べた番号から1引くこと\n",
    "\n",
    "\n",
    "print (ser1.portstr)       \n",
    "\n",
    "ser1.write(b\"Hello\\r\\n\")   #バイト型で送信しないとだめよ\n",
    "\n",
    "r=ser2.readline()\n",
    "print(r)\n",
    "\n",
    "ser1.close()     \n",
    "ser2.close()"
   ]
  },
  {
   "cell_type": "code",
   "execution_count": 3,
   "metadata": {},
   "outputs": [
    {
     "name": "stdout",
     "output_type": "stream",
     "text": [
      "Read Serial:\n",
      "b''\n",
      "b''\n",
      "b''\n"
     ]
    }
   ],
   "source": [
    "import serial\n",
    "\n",
    "readSer = serial.Serial('COM3',9600, timeout=3)\n",
    "c = readSer.read() # 1 byte\n",
    "string = readSer.read(10) # 10 byte\n",
    "line = readSer.readline() # 1 line (upto '\\n')\n",
    "print(\"Read Serial:\")\n",
    "print(c)\n",
    "print(string)\n",
    "print(line)\n",
    "readSer.close()"
   ]
  },
  {
   "cell_type": "code",
   "execution_count": 1,
   "metadata": {},
   "outputs": [],
   "source": [
    "import serial\n",
    "ser = serial.Serial('COM3', 115200, timeout=0.1) "
   ]
  },
  {
   "cell_type": "code",
   "execution_count": 5,
   "metadata": {},
   "outputs": [],
   "source": [
    "import serial, time\n",
    "\n",
    "def main():\n",
    "\t#  COMポートを開く\n",
    "\tprint(\"Open Port\")\n",
    "\tser =serial.Serial(\"COM3\", 9600)\n",
    "\twhile True:\n",
    "\t\t#  LED点灯\n",
    "\t\tser.write(b\":MEAS?\\n\")\n",
    "\t\ttime.sleep(1)\n",
    "\t\t#  LED消灯\n",
    "\t\tser.write(b\":MEAS?\\n\")\n",
    "\t\ttime.sleep(1)\n",
    "\t\n",
    "\tprint(\"Close Port\")\n",
    "\tser.close()"
   ]
  },
  {
   "cell_type": "code",
   "execution_count": 6,
   "metadata": {},
   "outputs": [
    {
     "ename": "IndentationError",
     "evalue": "expected an indented block (<ipython-input-6-43299676a3b5>, line 10)",
     "output_type": "error",
     "traceback": [
      "\u001b[1;36m  File \u001b[1;32m\"<ipython-input-6-43299676a3b5>\"\u001b[1;36m, line \u001b[1;32m10\u001b[0m\n\u001b[1;33m    else:\u001b[0m\n\u001b[1;37m    ^\u001b[0m\n\u001b[1;31mIndentationError\u001b[0m\u001b[1;31m:\u001b[0m expected an indented block\n"
     ]
    }
   ],
   "source": [
    "import serial,time\n",
    " \n",
    "ser = serial.Serial('COM3',9600)   # '/dev/ttyUSB0'の部分は自分の環境に合わせて変更する\n",
    " \n",
    "while True:\n",
    " \n",
    "    ser.write(b\"1\")    # LED点灯\n",
    "    time.sleep(1)\n",
    "    ser.write(b\"0\")    # LED消灯\n",
    "    time.sleep(1)\n",
    " \n",
    "ser.close() "
   ]
  },
  {
   "cell_type": "code",
   "execution_count": 7,
   "metadata": {},
   "outputs": [
    {
     "ename": "SyntaxError",
     "evalue": "invalid syntax (<ipython-input-7-8bbcd0a89493>, line 1)",
     "output_type": "error",
     "traceback": [
      "\u001b[1;36m  File \u001b[1;32m\"<ipython-input-7-8bbcd0a89493>\"\u001b[1;36m, line \u001b[1;32m1\u001b[0m\n\u001b[1;33m    **()\u001b[0m\n\u001b[1;37m    ^\u001b[0m\n\u001b[1;31mSyntaxError\u001b[0m\u001b[1;31m:\u001b[0m invalid syntax\n"
     ]
    }
   ],
   "source": [
    "/**\n",
    "* For basic setup just create a Tli493d() object. If you want to use the wake up mode please use Tli493d_w2b6(). Also\n",
    "* the setUpdateRate() method is slightly different for different variants\n",
    "*/\n",
    "\n",
    "\n",
    "#include <Tli493d.h>\n",
    "\n",
    "//Voltage level LOW at pin 5 switches on the sensor VDD\n",
    "Tli493d Tli493dMagnetic3DSensor = Tli493d(5,LOW);\n",
    "\n",
    "void setup() {\n",
    "  Serial.begin(9600);\n",
    "  while (!Serial);\n",
    "  Tli493dMagnetic3DSensor.begin();\n",
    "  Tli493dMagnetic3DSensor.enableTemp();\n",
    "}\n",
    "\n",
    "void loop() {\n",
    "  Tli493dMagnetic3DSensor.updateData();\n",
    "\n",
    "  Serial.print(Tli493dMagnetic3DSensor.getX());\n",
    "  Serial.print(\" ; \");\n",
    "  Serial.print(Tli493dMagnetic3DSensor.getY());\n",
    "  Serial.print(\" ; \");\n",
    "  Serial.print(Tli493dMagnetic3DSensor.getZ());\n",
    "  Serial.print(\" ; \");\n",
    "  Serial.println(Tli493dMagnetic3DSensor.getTemp());\n",
    "  \n",
    "  delay(500);\n",
    "}\n"
   ]
  },
  {
   "cell_type": "code",
   "execution_count": 1,
   "metadata": {},
   "outputs": [
    {
     "name": "stdout",
     "output_type": "stream",
     "text": [
      "hello\n"
     ]
    }
   ],
   "source": [
    "print(\"hello\")"
   ]
  },
  {
   "cell_type": "code",
   "execution_count": null,
   "metadata": {},
   "outputs": [],
   "source": []
  }
 ],
 "metadata": {
  "kernelspec": {
   "display_name": "Python 3",
   "language": "python",
   "name": "python3"
  },
  "language_info": {
   "codemirror_mode": {
    "name": "ipython",
    "version": 3
   },
   "file_extension": ".py",
   "mimetype": "text/x-python",
   "name": "python",
   "nbconvert_exporter": "python",
   "pygments_lexer": "ipython3",
   "version": "3.8.5"
  }
 },
 "nbformat": 4,
 "nbformat_minor": 4
}
