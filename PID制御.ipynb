{
 "cells": [
  {
   "cell_type": "code",
   "execution_count": 40,
   "metadata": {},
   "outputs": [
    {
     "name": "stdout",
     "output_type": "stream",
     "text": [
      "+0047437\n",
      "5.443278E-0\n",
      "b'OK\\r\\n'\n",
      "\n",
      "0.5278707000000002\n",
      "\n",
      "+0047436\n",
      "5.442892E-0\n",
      "b'OK\\r\\n'\n",
      "\n",
      "0.5519566\n",
      "\n",
      "+0047437\n",
      "5.443457E-0\n",
      "b'OK\\r\\n'\n",
      "\n",
      "0.5547545999999999\n",
      "\n",
      "+0047436\n",
      "5.393679E-0\n",
      "b'OK\\r\\n'\n",
      "\n",
      "0.5950690999999999\n",
      "\n",
      "+0047437\n",
      "5.443969E-0\n",
      "b'OK\\r\\n'\n",
      "\n",
      "0.5934567\n",
      "\n",
      "+0047436\n",
      "5.443536E-0\n",
      "b'OK\\r\\n'\n",
      "\n",
      "0.6547644999999997\n",
      "\n",
      "+0047437\n",
      "5.393344E-0\n",
      "b'OK\\r\\n'\n"
     ]
    },
    {
     "ename": "KeyboardInterrupt",
     "evalue": "",
     "output_type": "error",
     "traceback": [
      "\u001b[1;31m---------------------------------------------------------------------------\u001b[0m",
      "\u001b[1;31mKeyboardInterrupt\u001b[0m                         Traceback (most recent call last)",
      "\u001b[1;32m<ipython-input-40-c3c93b3d9ce5>\u001b[0m in \u001b[0;36m<module>\u001b[1;34m\u001b[0m\n\u001b[0;32m     32\u001b[0m         \u001b[0mM\u001b[0m \u001b[1;33m=\u001b[0m \u001b[0mM1\u001b[0m \u001b[1;33m+\u001b[0m \u001b[0mKp\u001b[0m \u001b[1;33m*\u001b[0m \u001b[1;33m(\u001b[0m\u001b[0mfloat\u001b[0m\u001b[1;33m(\u001b[0m\u001b[0me\u001b[0m\u001b[1;33m)\u001b[0m\u001b[1;33m-\u001b[0m\u001b[0mfloat\u001b[0m\u001b[1;33m(\u001b[0m\u001b[0me1\u001b[0m\u001b[1;33m)\u001b[0m\u001b[1;33m)\u001b[0m \u001b[1;33m+\u001b[0m \u001b[0mKi\u001b[0m \u001b[1;33m*\u001b[0m \u001b[0mfloat\u001b[0m\u001b[1;33m(\u001b[0m\u001b[0me\u001b[0m\u001b[1;33m)\u001b[0m \u001b[1;33m+\u001b[0m \u001b[0mKd\u001b[0m \u001b[1;33m*\u001b[0m \u001b[1;33m(\u001b[0m\u001b[1;33m(\u001b[0m\u001b[0mfloat\u001b[0m\u001b[1;33m(\u001b[0m\u001b[0me\u001b[0m\u001b[1;33m)\u001b[0m\u001b[1;33m-\u001b[0m\u001b[0mfloat\u001b[0m\u001b[1;33m(\u001b[0m\u001b[0me1\u001b[0m\u001b[1;33m)\u001b[0m\u001b[1;33m)\u001b[0m \u001b[1;33m-\u001b[0m \u001b[1;33m(\u001b[0m\u001b[0mfloat\u001b[0m\u001b[1;33m(\u001b[0m\u001b[0me1\u001b[0m\u001b[1;33m)\u001b[0m\u001b[1;33m-\u001b[0m\u001b[0mfloat\u001b[0m\u001b[1;33m(\u001b[0m\u001b[0me2\u001b[0m\u001b[1;33m)\u001b[0m\u001b[1;33m)\u001b[0m\u001b[1;33m)\u001b[0m\u001b[1;33m\u001b[0m\u001b[1;33m\u001b[0m\u001b[0m\n\u001b[0;32m     33\u001b[0m         \u001b[0mmodule\u001b[0m\u001b[1;33m.\u001b[0m\u001b[0mattenuate\u001b[0m\u001b[1;33m.\u001b[0m\u001b[0mattenuateREL\u001b[0m\u001b[1;33m(\u001b[0m\u001b[0mM\u001b[0m\u001b[1;33m)\u001b[0m\u001b[1;33m\u001b[0m\u001b[1;33m\u001b[0m\u001b[0m\n\u001b[1;32m---> 34\u001b[1;33m         \u001b[0mtime\u001b[0m\u001b[1;33m.\u001b[0m\u001b[0msleep\u001b[0m\u001b[1;33m(\u001b[0m\u001b[1;36m3\u001b[0m\u001b[1;33m)\u001b[0m\u001b[1;33m\u001b[0m\u001b[1;33m\u001b[0m\u001b[0m\n\u001b[0m\u001b[0;32m     35\u001b[0m         \u001b[0mx_list\u001b[0m\u001b[1;33m.\u001b[0m\u001b[0mappend\u001b[0m\u001b[1;33m(\u001b[0m\u001b[0mi\u001b[0m\u001b[1;33m)\u001b[0m\u001b[1;33m\u001b[0m\u001b[1;33m\u001b[0m\u001b[0m\n\u001b[0;32m     36\u001b[0m         \u001b[0my_list\u001b[0m\u001b[1;33m.\u001b[0m\u001b[0mappend\u001b[0m\u001b[1;33m(\u001b[0m\u001b[0me\u001b[0m\u001b[1;33m)\u001b[0m\u001b[1;33m\u001b[0m\u001b[1;33m\u001b[0m\u001b[0m\n",
      "\u001b[1;31mKeyboardInterrupt\u001b[0m: "
     ]
    }
   ],
   "source": [
    "import numpy as np\n",
    "from matplotlib import pyplot as plt\n",
    "import module.attenuate\n",
    "import module.motorStatus\n",
    "import module.Pico\n",
    "import time\n",
    "\n",
    "goal = 3\n",
    "Kp = 0.5\n",
    "Ki = 0.5\n",
    "Kd = 0.5\n",
    "t = 10\n",
    "\n",
    "x_list = []\n",
    "y_list = []\n",
    "x_list.append(0)\n",
    "y_list.append(0.00)\n",
    "\n",
    "for i in range(1,t):\n",
    "    module.motorStatus.AttenuateStatus(\"./A\")\n",
    "    module.Pico.pico(\"./P\")\n",
    "    with open(\"A.txt\") as f:\n",
    "        X1 = f.readlines()[i]\n",
    "    with open(\"A.txt\") as f:\n",
    "        X2 = f.readlines()[i-1]\n",
    "        M1 = int(X2) - int(X1)\n",
    "    with open(\"P.txt\") as f:\n",
    "        e2 = goal - float(f.readlines()[i-1])\n",
    "    with open(\"P.txt\") as f:\n",
    "        e1 = goal - float(f.readlines()[i])\n",
    "        e = goal - float(e1) #偏差（e） = 目的値（goal） - 前回の操作量\n",
    "        M = M1 + Kp * (float(e)-float(e1)) + Ki * float(e) + Kd * ((float(e)-float(e1)) - (float(e1)-float(e2)))\n",
    "        module.attenuate.attenuateREL(M)\n",
    "        time.sleep(3)\n",
    "        x_list.append(i)\n",
    "        y_list.append(e)\n",
    "        \n",
    "        print( )\n",
    "        print(e)\n",
    "        print( )"
   ]
  },
  {
   "cell_type": "code",
   "execution_count": 38,
   "metadata": {},
   "outputs": [
    {
     "data": {
      "image/png": "[encoded data removed]",
      "text/plain": [
       "<Figure size 432x288 with 1 Axes>"
      ]
     },
     "metadata": {
      "needs_background": "light"
     },
     "output_type": "display_data"
    }
   ],
   "source": [
    "\n",
    "plt.hlines(float(goal)*0.1, 0, t, \"red\", linestyles='dashed') #ゴールを赤色の点線で表示\n",
    "plt.plot(x_list, y_list, color=\"b\") #青色でグラフを表示\n",
    "plt.ylim(0, goal*0.3) #グラフの高さを調整\n",
    "plt.show()"
   ]
  },
  {
   "cell_type": "code",
   "execution_count": null,
   "metadata": {},
   "outputs": [],
   "source": []
  }
 ],
 "metadata": {
  "kernelspec": {
   "display_name": "Python 3",
   "language": "python",
   "name": "python3"
  },
  "language_info": {
   "codemirror_mode": {
    "name": "ipython",
    "version": 3
   },
   "file_extension": ".py",
   "mimetype": "text/x-python",
   "name": "python",
   "nbconvert_exporter": "python",
   "pygments_lexer": "ipython3",
   "version": "3.8.5"
  }
 },
 "nbformat": 4,
 "nbformat_minor": 4
}
